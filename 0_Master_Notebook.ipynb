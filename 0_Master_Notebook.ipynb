{
 "cells": [
  {
   "cell_type": "markdown",
   "metadata": {},
   "source": [
    "<b>Final Project Submission</b>\n",
    "\n",
    "Please fill out:\n",
    "* Student name: Nadine Amersi-Belton\n",
    "* Student pace: part time\n",
    "* Scheduled project review date/time: 02/11/2020 at 3:30pm GMT\n",
    "* Instructor name: Victor Geislinger\n",
    "* Blog post URL: TBC\n"
   ]
  },
  {
   "cell_type": "markdown",
   "metadata": {},
   "source": [
    "# Video Games Recommendation Engine"
   ]
  },
  {
   "cell_type": "markdown",
   "metadata": {},
   "source": [
    "## Introduction"
   ]
  },
  {
   "cell_type": "markdown",
   "metadata": {},
   "source": [
    "### Problem Statement"
   ]
  },
  {
   "cell_type": "markdown",
   "metadata": {},
   "source": [
    "### Business Value"
   ]
  },
  {
   "cell_type": "markdown",
   "metadata": {},
   "source": [
    "### Data"
   ]
  },
  {
   "cell_type": "markdown",
   "metadata": {},
   "source": [
    "The data can be downloaded from https://cseweb.ucsd.edu/~jmcauley/datasets.html#steam_data. \n",
    "\n",
    "There are two relevant files for the purposes of our project: `Version 1: User and Item Data` and `Version 2: Item metadata`.\n",
    "\n",
    "*References*\n",
    "\n",
    "Self-attentive sequential recommendation\n",
    "Wang-Cheng Kang, Julian McAuley\n",
    "ICDM, 2018\n",
    "\n",
    "Item recommendation on monotonic behavior chains\n",
    "Mengting Wan, Julian McAuley\n",
    "RecSys, 2018\n",
    "\n",
    "Generating and personalizing bundle recommendations on Steam\n",
    "Apurva Pathak, Kshitiz Gupta, Julian McAuley\n",
    "SIGIR, 2017"
   ]
  },
  {
   "cell_type": "markdown",
   "metadata": {},
   "source": [
    "### Methodology"
   ]
  },
  {
   "cell_type": "markdown",
   "metadata": {},
   "source": [
    "## Notebooks"
   ]
  },
  {
   "cell_type": "markdown",
   "metadata": {},
   "source": [
    "<a href = 'https://github.com/nadinezab/video-game-recs/blob/master/1-Data-Loading.ipynb'>1-Data-Loading</a>"
   ]
  },
  {
   "cell_type": "markdown",
   "metadata": {},
   "source": [
    "In this Notebook, we retrieved the data and saved it as a JSON file. Whilst the data was said to be in JSON format, when running it through a JSON linter, we noticed that it was not proper JSON due to the use of single quotes instead of double quotes.\n",
    "\n",
    "To remedy this, we explored options such as replacing the single quotes with double quotes. However this led to issues where the name of a game included an apostrophe, e.g. `Assassin's Creed`. \n",
    "\n",
    "A workable solution was to read the data carefully using the `ast.literal_eval()` method."
   ]
  },
  {
   "cell_type": "markdown",
   "metadata": {},
   "source": [
    "<a href = 'https://github.com/nadinezab/video-game-recs/blob/master/2-Data-Preprocessing.ipynb'>2-Data-Preprocessing</a>"
   ]
  },
  {
   "cell_type": "markdown",
   "metadata": {},
   "source": [
    "In this Notebook, we conducted initial preprocessing of the two JSON files we obtained in the previous Notebook. \n",
    "\n",
    "We created relevant Pandas DataFrames and saved files as `csv` for subsequent exploration and modelling. In particular, we extracted user ids and game ids to create a user-item interactions DataFrame, with each row being a particular user-item relationship (namely owned item)."
   ]
  },
  {
   "cell_type": "markdown",
   "metadata": {},
   "source": [
    "<a href = 'https://github.com/nadinezab/video-game-recs/blob/master/3-Data-Exploration.ipynb'>3-Data-Exploration</a>"
   ]
  },
  {
   "cell_type": "markdown",
   "metadata": {},
   "source": [
    "In this Notebook,  we explored the data to gain insights. We provided our stakeholders with business recommendations based on the data.\n",
    "\n",
    "We explored the following topics:\n",
    "* game release dates - what time is most popular?\n",
    "* game library size - how many games do most users own?\n",
    "* game genres - which are the most popular genres?\n",
    "* game publishers - who are the top publishers?"
   ]
  },
  {
   "cell_type": "markdown",
   "metadata": {},
   "source": [
    "<a href = 'https://github.com/nadinezab/video-game-recs/blob/master/4-Modelling.ipynb'>4-Modelling</a>"
   ]
  },
  {
   "cell_type": "markdown",
   "metadata": {},
   "source": [
    "In this Notebook, we undertook the modelling tasks.\n",
    "\n",
    "We started with additional preprocessing to create a sparse train and test matrices, before implementing a user recommendation model using LightFM.\n",
    "\n",
    "We also explored and visualized the embedding space using t-SNE.\n",
    "\n",
    "Finally we built an item to item recommendation engine."
   ]
  },
  {
   "cell_type": "markdown",
   "metadata": {},
   "source": [
    "## Results and Recommendations"
   ]
  },
  {
   "cell_type": "markdown",
   "metadata": {},
   "source": [
    "### Marketing recommendations"
   ]
  },
  {
   "cell_type": "markdown",
   "metadata": {},
   "source": [
    "### User recommendations"
   ]
  },
  {
   "cell_type": "markdown",
   "metadata": {},
   "source": [
    "### Item recommendations"
   ]
  },
  {
   "cell_type": "markdown",
   "metadata": {},
   "source": [
    "## Future Work"
   ]
  },
  {
   "cell_type": "code",
   "execution_count": null,
   "metadata": {},
   "outputs": [],
   "source": []
  }
 ],
 "metadata": {
  "kernelspec": {
   "display_name": "Python 3",
   "language": "python",
   "name": "python3"
  },
  "language_info": {
   "codemirror_mode": {
    "name": "ipython",
    "version": 3
   },
   "file_extension": ".py",
   "mimetype": "text/x-python",
   "name": "python",
   "nbconvert_exporter": "python",
   "pygments_lexer": "ipython3",
   "version": "3.6.9"
  },
  "toc": {
   "base_numbering": 1,
   "nav_menu": {},
   "number_sections": true,
   "sideBar": true,
   "skip_h1_title": true,
   "title_cell": "Table of Contents",
   "title_sidebar": "Contents",
   "toc_cell": false,
   "toc_position": {},
   "toc_section_display": true,
   "toc_window_display": true
  }
 },
 "nbformat": 4,
 "nbformat_minor": 2
}
