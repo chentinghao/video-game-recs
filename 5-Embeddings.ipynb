{
 "cells": [
  {
   "cell_type": "markdown",
   "metadata": {},
   "source": [
    "# Embeddings"
   ]
  },
  {
   "cell_type": "code",
   "execution_count": 1,
   "metadata": {},
   "outputs": [],
   "source": [
    "import pandas as pd\n",
    "import numpy as np\n",
    "\n",
    "\n",
    "import matplotlib.pyplot as plt\n",
    "import seaborn as sns\n",
    "%matplotlib inline\n",
    "\n",
    "import tensorflow as tf\n",
    "from tensorflow import keras\n",
    "\n",
    "#Import Warnings\n",
    "import warnings\n",
    "warnings.filterwarnings(\"ignore\")"
   ]
  },
  {
   "cell_type": "markdown",
   "metadata": {},
   "source": [
    "## Load Data"
   ]
  },
  {
   "cell_type": "code",
   "execution_count": 4,
   "metadata": {},
   "outputs": [
    {
     "data": {
      "text/html": [
       "<div>\n",
       "<style scoped>\n",
       "    .dataframe tbody tr th:only-of-type {\n",
       "        vertical-align: middle;\n",
       "    }\n",
       "\n",
       "    .dataframe tbody tr th {\n",
       "        vertical-align: top;\n",
       "    }\n",
       "\n",
       "    .dataframe thead th {\n",
       "        text-align: right;\n",
       "    }\n",
       "</style>\n",
       "<table border=\"1\" class=\"dataframe\">\n",
       "  <thead>\n",
       "    <tr style=\"text-align: right;\">\n",
       "      <th></th>\n",
       "      <th>uid</th>\n",
       "      <th>iid</th>\n",
       "      <th>owned</th>\n",
       "    </tr>\n",
       "  </thead>\n",
       "  <tbody>\n",
       "    <tr>\n",
       "      <td>0</td>\n",
       "      <td>0</td>\n",
       "      <td>10</td>\n",
       "      <td>0.0</td>\n",
       "    </tr>\n",
       "    <tr>\n",
       "      <td>1</td>\n",
       "      <td>1</td>\n",
       "      <td>10</td>\n",
       "      <td>0.0</td>\n",
       "    </tr>\n",
       "    <tr>\n",
       "      <td>2</td>\n",
       "      <td>2</td>\n",
       "      <td>10</td>\n",
       "      <td>0.0</td>\n",
       "    </tr>\n",
       "    <tr>\n",
       "      <td>3</td>\n",
       "      <td>3</td>\n",
       "      <td>10</td>\n",
       "      <td>1.0</td>\n",
       "    </tr>\n",
       "    <tr>\n",
       "      <td>4</td>\n",
       "      <td>4</td>\n",
       "      <td>10</td>\n",
       "      <td>0.0</td>\n",
       "    </tr>\n",
       "  </tbody>\n",
       "</table>\n",
       "</div>"
      ],
      "text/plain": [
       "   uid  iid  owned\n",
       "0    0   10    0.0\n",
       "1    1   10    0.0\n",
       "2    2   10    0.0\n",
       "3    3   10    1.0\n",
       "4    4   10    0.0"
      ]
     },
     "execution_count": 4,
     "metadata": {},
     "output_type": "execute_result"
    }
   ],
   "source": [
    "df = pd.read_csv('useritemsmelt.csv', index_col=0)\n",
    "df = df.rename(columns = {'variable':'iid', 'value': 'owned'})\n",
    "df.head()"
   ]
  },
  {
   "cell_type": "code",
   "execution_count": 5,
   "metadata": {},
   "outputs": [
    {
     "name": "stdout",
     "output_type": "stream",
     "text": [
      "6,352 distinct users rated 9,054 different games (total ratings = 57,511,008)\n"
     ]
    }
   ],
   "source": [
    "n_games = len(df.iid.unique())\n",
    "n_users = len(df.uid.unique())\n",
    "print(\n",
    "    \"{1:,} distinct users rated {0:,} different games (total ratings = {2:,})\".format(\n",
    "        n_games, n_users, len(df),\n",
    "    )\n",
    ")"
   ]
  },
  {
   "cell_type": "markdown",
   "metadata": {},
   "source": [
    "## NN model"
   ]
  },
  {
   "cell_type": "code",
   "execution_count": 12,
   "metadata": {},
   "outputs": [
    {
     "name": "stdout",
     "output_type": "stream",
     "text": [
      "Model: \"model\"\n",
      "________________________________________________________________________________________\n",
      "Layer (type)                 Output Shape       Param #   Connected to                  \n",
      "========================================================================================\n",
      "user_id (InputLayer)         [(None, 1)]        0                                       \n",
      "________________________________________________________________________________________\n",
      "game_id (InputLayer)         [(None, 1)]        0                                       \n",
      "________________________________________________________________________________________\n",
      "user_embedding (Embedding)   (None, 1, 8)       50816     user_id[0][0]                 \n",
      "________________________________________________________________________________________\n",
      "game_embedding (Embedding)   (None, 1, 8)       4229288   game_id[0][0]                 \n",
      "________________________________________________________________________________________\n",
      "concatenate_1 (Concatenate)  (None, 1, 16)      0         user_embedding[0][0]          \n",
      "                                                          game_embedding[0][0]          \n",
      "________________________________________________________________________________________\n",
      "flatten_1 (Flatten)          (None, 16)         0         concatenate_1[0][0]           \n",
      "________________________________________________________________________________________\n",
      "dense_2 (Dense)              (None, 32)         544       flatten_1[0][0]               \n",
      "________________________________________________________________________________________\n",
      "dense_3 (Dense)              (None, 4)          132       dense_2[0][0]                 \n",
      "________________________________________________________________________________________\n",
      "prediction (Dense)           (None, 1)          5         dense_3[0][0]                 \n",
      "========================================================================================\n",
      "Total params: 4,280,785\n",
      "Trainable params: 4,280,785\n",
      "Non-trainable params: 0\n",
      "________________________________________________________________________________________\n"
     ]
    }
   ],
   "source": [
    "hidden_units = (32,4)\n",
    "game_embedding_size = 8\n",
    "user_embedding_size = 8\n",
    "\n",
    "# Each instance will consist of two inputs: a single user id, and a single movie id\n",
    "user_id_input = keras.Input(shape=(1,), name='user_id')\n",
    "game_id_input = keras.Input(shape=(1,), name='game_id')\n",
    "user_embedded = keras.layers.Embedding(df.uid.max()+1, user_embedding_size, \n",
    "                                       input_length=1, name='user_embedding')(user_id_input)\n",
    "game_embedded = keras.layers.Embedding(df.iid.max()+1, game_embedding_size, \n",
    "                                        input_length=1, name='game_embedding')(game_id_input)\n",
    "\n",
    "# Concatenate the embeddings (and remove the useless extra dimension)\n",
    "concatenated = keras.layers.Concatenate()([user_embedded, game_embedded])\n",
    "out = keras.layers.Flatten()(concatenated)\n",
    "\n",
    "# Add one or more hidden layers\n",
    "for n_hidden in hidden_units:\n",
    "    out = keras.layers.Dense(n_hidden, activation='relu')(out)\n",
    "    \n",
    "# A single output: our prediction\n",
    "out = keras.layers.Dense(1, activation='sigmoid', name='prediction')(out)\n",
    "\n",
    "# Build model\n",
    "model = keras.Model(\n",
    "    inputs = [user_id_input, game_id_input],\n",
    "    outputs = out,\n",
    ")\n",
    "\n",
    "model.summary(line_length=88)"
   ]
  },
  {
   "cell_type": "code",
   "execution_count": 14,
   "metadata": {},
   "outputs": [],
   "source": [
    "# Compile model\n",
    "model.compile(\n",
    "    tf.optimizers.Adam(0.005),\n",
    "    loss='MSE',\n",
    "    metrics=['MAE'],\n",
    ")"
   ]
  },
  {
   "cell_type": "code",
   "execution_count": 15,
   "metadata": {},
   "outputs": [],
   "source": [
    "# Train model\n",
    "history = model.fit(\n",
    "    [df.uid, df.iid],\n",
    "    df.owned,\n",
    "    batch_size=5000,\n",
    "    epochs=10,\n",
    "    verbose=0,\n",
    "    validation_split=.05,\n",
    ")"
   ]
  },
  {
   "cell_type": "code",
   "execution_count": 24,
   "metadata": {},
   "outputs": [
    {
     "data": {
      "text/plain": [
       "dict_keys(['loss', 'MAE', 'val_loss', 'val_MAE'])"
      ]
     },
     "execution_count": 24,
     "metadata": {},
     "output_type": "execute_result"
    }
   ],
   "source": [
    "history.history.keys()"
   ]
  },
  {
   "cell_type": "code",
   "execution_count": 25,
   "metadata": {
    "scrolled": true
   },
   "outputs": [
    {
     "data": {
      "image/png": "[encoded data removed]",
      "text/plain": [
       "<Figure size 720x360 with 1 Axes>"
      ]
     },
     "metadata": {
      "needs_background": "light"
     },
     "output_type": "display_data"
    }
   ],
   "source": [
    "plt.figure(figsize=(10,5))\n",
    "plt.plot(history.history['val_MAE'], label = 'Validation MAE')\n",
    "plt.plot(history.history['MAE'], label = 'Training MAE')\n",
    "plt.legend()\n",
    "plt.title('MAE')\n",
    "plt.xlabel('Epoch')b\n",
    "plt.ylabel('MAE')\n",
    "plt.show()"
   ]
  },
  {
   "cell_type": "markdown",
   "metadata": {},
   "source": [
    "## Example predictions"
   ]
  },
  {
   "cell_type": "code",
   "execution_count": 30,
   "metadata": {},
   "outputs": [
    {
     "name": "stdout",
     "output_type": "stream",
     "text": [
      "User #50 has rated 9054 movies (avg. rating = 0.0):\n"
     ]
    },
    {
     "data": {
      "text/html": [
       "<div>\n",
       "<style scoped>\n",
       "    .dataframe tbody tr th:only-of-type {\n",
       "        vertical-align: middle;\n",
       "    }\n",
       "\n",
       "    .dataframe tbody tr th {\n",
       "        vertical-align: top;\n",
       "    }\n",
       "\n",
       "    .dataframe thead th {\n",
       "        text-align: right;\n",
       "    }\n",
       "</style>\n",
       "<table border=\"1\" class=\"dataframe\">\n",
       "  <thead>\n",
       "    <tr style=\"text-align: right;\">\n",
       "      <th></th>\n",
       "      <th>uid</th>\n",
       "      <th>iid</th>\n",
       "      <th>owned</th>\n",
       "    </tr>\n",
       "  </thead>\n",
       "  <tbody>\n",
       "    <tr>\n",
       "      <td>50</td>\n",
       "      <td>50</td>\n",
       "      <td>10</td>\n",
       "      <td>1.0</td>\n",
       "    </tr>\n",
       "    <tr>\n",
       "      <td>54976610</td>\n",
       "      <td>50</td>\n",
       "      <td>550</td>\n",
       "      <td>1.0</td>\n",
       "    </tr>\n",
       "    <tr>\n",
       "      <td>17245730</td>\n",
       "      <td>50</td>\n",
       "      <td>291550</td>\n",
       "      <td>1.0</td>\n",
       "    </tr>\n",
       "    <tr>\n",
       "      <td>2756818</td>\n",
       "      <td>50</td>\n",
       "      <td>202710</td>\n",
       "      <td>1.0</td>\n",
       "    </tr>\n",
       "    <tr>\n",
       "      <td>2801282</td>\n",
       "      <td>50</td>\n",
       "      <td>203160</td>\n",
       "      <td>1.0</td>\n",
       "    </tr>\n",
       "    <tr>\n",
       "      <td>...</td>\n",
       "      <td>...</td>\n",
       "      <td>...</td>\n",
       "      <td>...</td>\n",
       "    </tr>\n",
       "    <tr>\n",
       "      <td>19354594</td>\n",
       "      <td>50</td>\n",
       "      <td>302130</td>\n",
       "      <td>0.0</td>\n",
       "    </tr>\n",
       "    <tr>\n",
       "      <td>19348242</td>\n",
       "      <td>50</td>\n",
       "      <td>302120</td>\n",
       "      <td>0.0</td>\n",
       "    </tr>\n",
       "    <tr>\n",
       "      <td>19341890</td>\n",
       "      <td>50</td>\n",
       "      <td>302110</td>\n",
       "      <td>0.0</td>\n",
       "    </tr>\n",
       "    <tr>\n",
       "      <td>19335538</td>\n",
       "      <td>50</td>\n",
       "      <td>302080</td>\n",
       "      <td>0.0</td>\n",
       "    </tr>\n",
       "    <tr>\n",
       "      <td>57504706</td>\n",
       "      <td>50</td>\n",
       "      <td>99920</td>\n",
       "      <td>0.0</td>\n",
       "    </tr>\n",
       "  </tbody>\n",
       "</table>\n",
       "<p>9054 rows × 3 columns</p>\n",
       "</div>"
      ],
      "text/plain": [
       "          uid     iid  owned\n",
       "50         50      10    1.0\n",
       "54976610   50     550    1.0\n",
       "17245730   50  291550    1.0\n",
       "2756818    50  202710    1.0\n",
       "2801282    50  203160    1.0\n",
       "...       ...     ...    ...\n",
       "19354594   50  302130    0.0\n",
       "19348242   50  302120    0.0\n",
       "19341890   50  302110    0.0\n",
       "19335538   50  302080    0.0\n",
       "57504706   50   99920    0.0\n",
       "\n",
       "[9054 rows x 3 columns]"
      ]
     },
     "execution_count": 30,
     "metadata": {},
     "output_type": "execute_result"
    }
   ],
   "source": [
    "user_ratings = df[df.uid==50]\n",
    "print(\"User #{} has rated {} movies (avg. rating = {:.1f}):\".format(\n",
    "    50, len(user_ratings), user_ratings['owned'].mean(),\n",
    "))\n",
    "cols = ['uid', 'iid', 'owned']\n",
    "user_ratings.sort_values(by='owned', ascending=False)[cols]"
   ]
  }
 ],
 "metadata": {
  "kernelspec": {
   "display_name": "Python 3",
   "language": "python",
   "name": "python3"
  },
  "language_info": {
   "codemirror_mode": {
    "name": "ipython",
    "version": 3
   },
   "file_extension": ".py",
   "mimetype": "text/x-python",
   "name": "python",
   "nbconvert_exporter": "python",
   "pygments_lexer": "ipython3",
   "version": "3.6.9"
  },
  "toc": {
   "base_numbering": 1,
   "nav_menu": {},
   "number_sections": true,
   "sideBar": true,
   "skip_h1_title": true,
   "title_cell": "Table of Contents",
   "title_sidebar": "Contents",
   "toc_cell": false,
   "toc_position": {},
   "toc_section_display": true,
   "toc_window_display": true
  }
 },
 "nbformat": 4,
 "nbformat_minor": 2
}
