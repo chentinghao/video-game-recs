{
 "cells": [
  {
   "cell_type": "markdown",
   "metadata": {},
   "source": [
    "# Data Exploration"
   ]
  },
  {
   "cell_type": "markdown",
   "metadata": {},
   "source": [
    "In this Notebook we will explore the data to gain insights. We will also seek to answer the questions raised by our stakeholders using the data."
   ]
  },
  {
   "cell_type": "code",
   "execution_count": 1,
   "metadata": {},
   "outputs": [],
   "source": [
    "# Import libraries\n",
    "import pandas as pd\n",
    "import numpy as np\n",
    "\n",
    "import pickle \n",
    "\n",
    "import matplotlib.pyplot as plt\n",
    "import seaborn as sns\n",
    "%matplotlib inline\n",
    "\n",
    "from collections import Counter\n",
    "\n",
    "#Import Warnings\n",
    "import warnings\n",
    "warnings.filterwarnings(\"ignore\")"
   ]
  },
  {
   "cell_type": "markdown",
   "metadata": {},
   "source": [
    "## Load Data"
   ]
  },
  {
   "cell_type": "markdown",
   "metadata": {},
   "source": [
    "We will first load the `gamesdata.csv` file, which has a row for each game and various descriptive features as columns."
   ]
  },
  {
   "cell_type": "code",
   "execution_count": 3,
   "metadata": {},
   "outputs": [
    {
     "data": {
      "text/html": [
       "<div>\n",
       "<style scoped>\n",
       "    .dataframe tbody tr th:only-of-type {\n",
       "        vertical-align: middle;\n",
       "    }\n",
       "\n",
       "    .dataframe tbody tr th {\n",
       "        vertical-align: top;\n",
       "    }\n",
       "\n",
       "    .dataframe thead th {\n",
       "        text-align: right;\n",
       "    }\n",
       "</style>\n",
       "<table border=\"1\" class=\"dataframe\">\n",
       "  <thead>\n",
       "    <tr style=\"text-align: right;\">\n",
       "      <th></th>\n",
       "      <th>publisher</th>\n",
       "      <th>genres</th>\n",
       "      <th>app_name</th>\n",
       "      <th>title</th>\n",
       "      <th>url</th>\n",
       "      <th>release_date</th>\n",
       "      <th>tags</th>\n",
       "      <th>discount_price</th>\n",
       "      <th>reviews_url</th>\n",
       "      <th>specs</th>\n",
       "      <th>price</th>\n",
       "      <th>early_access</th>\n",
       "      <th>id</th>\n",
       "      <th>developer</th>\n",
       "      <th>sentiment</th>\n",
       "      <th>metascore</th>\n",
       "    </tr>\n",
       "  </thead>\n",
       "  <tbody>\n",
       "    <tr>\n",
       "      <td>0</td>\n",
       "      <td>Kotoshiro</td>\n",
       "      <td>['Action', 'Casual', 'Indie', 'Simulation', 'S...</td>\n",
       "      <td>Lost Summoner Kitty</td>\n",
       "      <td>Lost Summoner Kitty</td>\n",
       "      <td>http://store.steampowered.com/app/761140/Lost_...</td>\n",
       "      <td>2018-01-04</td>\n",
       "      <td>['Strategy', 'Action', 'Indie', 'Casual', 'Sim...</td>\n",
       "      <td>4.49</td>\n",
       "      <td>http://steamcommunity.com/app/761140/reviews/?...</td>\n",
       "      <td>['Single-player']</td>\n",
       "      <td>4.99</td>\n",
       "      <td>False</td>\n",
       "      <td>761140.0</td>\n",
       "      <td>Kotoshiro</td>\n",
       "      <td>NaN</td>\n",
       "      <td>NaN</td>\n",
       "    </tr>\n",
       "    <tr>\n",
       "      <td>1</td>\n",
       "      <td>Making Fun, Inc.</td>\n",
       "      <td>['Free to Play', 'Indie', 'RPG', 'Strategy']</td>\n",
       "      <td>Ironbound</td>\n",
       "      <td>Ironbound</td>\n",
       "      <td>http://store.steampowered.com/app/643980/Ironb...</td>\n",
       "      <td>2018-01-04</td>\n",
       "      <td>['Free to Play', 'Strategy', 'Indie', 'RPG', '...</td>\n",
       "      <td>NaN</td>\n",
       "      <td>http://steamcommunity.com/app/643980/reviews/?...</td>\n",
       "      <td>['Single-player', 'Multi-player', 'Online Mult...</td>\n",
       "      <td>Free To Play</td>\n",
       "      <td>False</td>\n",
       "      <td>643980.0</td>\n",
       "      <td>Secret Level SRL</td>\n",
       "      <td>Mostly Positive</td>\n",
       "      <td>NaN</td>\n",
       "    </tr>\n",
       "    <tr>\n",
       "      <td>2</td>\n",
       "      <td>Poolians.com</td>\n",
       "      <td>['Casual', 'Free to Play', 'Indie', 'Simulatio...</td>\n",
       "      <td>Real Pool 3D - Poolians</td>\n",
       "      <td>Real Pool 3D - Poolians</td>\n",
       "      <td>http://store.steampowered.com/app/670290/Real_...</td>\n",
       "      <td>2017-07-24</td>\n",
       "      <td>['Free to Play', 'Simulation', 'Sports', 'Casu...</td>\n",
       "      <td>NaN</td>\n",
       "      <td>http://steamcommunity.com/app/670290/reviews/?...</td>\n",
       "      <td>['Single-player', 'Multi-player', 'Online Mult...</td>\n",
       "      <td>Free to Play</td>\n",
       "      <td>False</td>\n",
       "      <td>670290.0</td>\n",
       "      <td>Poolians.com</td>\n",
       "      <td>Mostly Positive</td>\n",
       "      <td>NaN</td>\n",
       "    </tr>\n",
       "    <tr>\n",
       "      <td>3</td>\n",
       "      <td>彼岸领域</td>\n",
       "      <td>['Action', 'Adventure', 'Casual']</td>\n",
       "      <td>弹炸人2222</td>\n",
       "      <td>弹炸人2222</td>\n",
       "      <td>http://store.steampowered.com/app/767400/2222/</td>\n",
       "      <td>2017-12-07</td>\n",
       "      <td>['Action', 'Adventure', 'Casual']</td>\n",
       "      <td>0.83</td>\n",
       "      <td>http://steamcommunity.com/app/767400/reviews/?...</td>\n",
       "      <td>['Single-player']</td>\n",
       "      <td>0.99</td>\n",
       "      <td>False</td>\n",
       "      <td>767400.0</td>\n",
       "      <td>彼岸领域</td>\n",
       "      <td>NaN</td>\n",
       "      <td>NaN</td>\n",
       "    </tr>\n",
       "    <tr>\n",
       "      <td>4</td>\n",
       "      <td>NaN</td>\n",
       "      <td>NaN</td>\n",
       "      <td>Log Challenge</td>\n",
       "      <td>NaN</td>\n",
       "      <td>http://store.steampowered.com/app/773570/Log_C...</td>\n",
       "      <td>NaN</td>\n",
       "      <td>['Action', 'Indie', 'Casual', 'Sports']</td>\n",
       "      <td>1.79</td>\n",
       "      <td>http://steamcommunity.com/app/773570/reviews/?...</td>\n",
       "      <td>['Single-player', 'Full controller support', '...</td>\n",
       "      <td>2.99</td>\n",
       "      <td>False</td>\n",
       "      <td>773570.0</td>\n",
       "      <td>NaN</td>\n",
       "      <td>NaN</td>\n",
       "      <td>NaN</td>\n",
       "    </tr>\n",
       "  </tbody>\n",
       "</table>\n",
       "</div>"
      ],
      "text/plain": [
       "          publisher                                             genres  \\\n",
       "0         Kotoshiro  ['Action', 'Casual', 'Indie', 'Simulation', 'S...   \n",
       "1  Making Fun, Inc.       ['Free to Play', 'Indie', 'RPG', 'Strategy']   \n",
       "2      Poolians.com  ['Casual', 'Free to Play', 'Indie', 'Simulatio...   \n",
       "3              彼岸领域                  ['Action', 'Adventure', 'Casual']   \n",
       "4               NaN                                                NaN   \n",
       "\n",
       "                  app_name                    title  \\\n",
       "0      Lost Summoner Kitty      Lost Summoner Kitty   \n",
       "1                Ironbound                Ironbound   \n",
       "2  Real Pool 3D - Poolians  Real Pool 3D - Poolians   \n",
       "3                  弹炸人2222                  弹炸人2222   \n",
       "4            Log Challenge                      NaN   \n",
       "\n",
       "                                                 url release_date  \\\n",
       "0  http://store.steampowered.com/app/761140/Lost_...   2018-01-04   \n",
       "1  http://store.steampowered.com/app/643980/Ironb...   2018-01-04   \n",
       "2  http://store.steampowered.com/app/670290/Real_...   2017-07-24   \n",
       "3     http://store.steampowered.com/app/767400/2222/   2017-12-07   \n",
       "4  http://store.steampowered.com/app/773570/Log_C...          NaN   \n",
       "\n",
       "                                                tags  discount_price  \\\n",
       "0  ['Strategy', 'Action', 'Indie', 'Casual', 'Sim...            4.49   \n",
       "1  ['Free to Play', 'Strategy', 'Indie', 'RPG', '...             NaN   \n",
       "2  ['Free to Play', 'Simulation', 'Sports', 'Casu...             NaN   \n",
       "3                  ['Action', 'Adventure', 'Casual']            0.83   \n",
       "4            ['Action', 'Indie', 'Casual', 'Sports']            1.79   \n",
       "\n",
       "                                         reviews_url  \\\n",
       "0  http://steamcommunity.com/app/761140/reviews/?...   \n",
       "1  http://steamcommunity.com/app/643980/reviews/?...   \n",
       "2  http://steamcommunity.com/app/670290/reviews/?...   \n",
       "3  http://steamcommunity.com/app/767400/reviews/?...   \n",
       "4  http://steamcommunity.com/app/773570/reviews/?...   \n",
       "\n",
       "                                               specs         price  \\\n",
       "0                                  ['Single-player']          4.99   \n",
       "1  ['Single-player', 'Multi-player', 'Online Mult...  Free To Play   \n",
       "2  ['Single-player', 'Multi-player', 'Online Mult...  Free to Play   \n",
       "3                                  ['Single-player']          0.99   \n",
       "4  ['Single-player', 'Full controller support', '...          2.99   \n",
       "\n",
       "   early_access        id         developer        sentiment  metascore  \n",
       "0         False  761140.0         Kotoshiro              NaN        NaN  \n",
       "1         False  643980.0  Secret Level SRL  Mostly Positive        NaN  \n",
       "2         False  670290.0      Poolians.com  Mostly Positive        NaN  \n",
       "3         False  767400.0              彼岸领域              NaN        NaN  \n",
       "4         False  773570.0               NaN              NaN        NaN  "
      ]
     },
     "execution_count": 3,
     "metadata": {},
     "output_type": "execute_result"
    }
   ],
   "source": [
    "# Load games data\n",
    "gamesdata = pd.read_csv('gamesdata.csv', index_col = 0)\n",
    "gamesdata.head()"
   ]
  },
  {
   "cell_type": "markdown",
   "metadata": {},
   "source": [
    "We also load the `mergeddata.csv` file which has a row for each user-item interaction."
   ]
  },
  {
   "cell_type": "code",
   "execution_count": 4,
   "metadata": {
    "scrolled": true
   },
   "outputs": [
    {
     "data": {
      "text/html": [
       "<div>\n",
       "<style scoped>\n",
       "    .dataframe tbody tr th:only-of-type {\n",
       "        vertical-align: middle;\n",
       "    }\n",
       "\n",
       "    .dataframe tbody tr th {\n",
       "        vertical-align: top;\n",
       "    }\n",
       "\n",
       "    .dataframe thead th {\n",
       "        text-align: right;\n",
       "    }\n",
       "</style>\n",
       "<table border=\"1\" class=\"dataframe\">\n",
       "  <thead>\n",
       "    <tr style=\"text-align: right;\">\n",
       "      <th></th>\n",
       "      <th>uid</th>\n",
       "      <th>id</th>\n",
       "      <th>owned</th>\n",
       "      <th>publisher</th>\n",
       "      <th>genres</th>\n",
       "      <th>app_name</th>\n",
       "      <th>title</th>\n",
       "      <th>url</th>\n",
       "      <th>release_date</th>\n",
       "      <th>tags</th>\n",
       "      <th>discount_price</th>\n",
       "      <th>reviews_url</th>\n",
       "      <th>specs</th>\n",
       "      <th>price</th>\n",
       "      <th>early_access</th>\n",
       "      <th>developer</th>\n",
       "      <th>sentiment</th>\n",
       "      <th>metascore</th>\n",
       "    </tr>\n",
       "  </thead>\n",
       "  <tbody>\n",
       "    <tr>\n",
       "      <td>0</td>\n",
       "      <td>0</td>\n",
       "      <td>10</td>\n",
       "      <td>1.0</td>\n",
       "      <td>Valve</td>\n",
       "      <td>['Action']</td>\n",
       "      <td>Counter-Strike</td>\n",
       "      <td>Counter-Strike</td>\n",
       "      <td>http://store.steampowered.com/app/10/CounterSt...</td>\n",
       "      <td>2000-11-01</td>\n",
       "      <td>['Action', 'FPS', 'Multiplayer', 'Shooter', 'C...</td>\n",
       "      <td>NaN</td>\n",
       "      <td>http://steamcommunity.com/app/10/reviews/?brow...</td>\n",
       "      <td>['Multi-player', 'Valve Anti-Cheat enabled']</td>\n",
       "      <td>9.99</td>\n",
       "      <td>False</td>\n",
       "      <td>Valve</td>\n",
       "      <td>Overwhelmingly Positive</td>\n",
       "      <td>88.0</td>\n",
       "    </tr>\n",
       "    <tr>\n",
       "      <td>1</td>\n",
       "      <td>1</td>\n",
       "      <td>10</td>\n",
       "      <td>1.0</td>\n",
       "      <td>Valve</td>\n",
       "      <td>['Action']</td>\n",
       "      <td>Counter-Strike</td>\n",
       "      <td>Counter-Strike</td>\n",
       "      <td>http://store.steampowered.com/app/10/CounterSt...</td>\n",
       "      <td>2000-11-01</td>\n",
       "      <td>['Action', 'FPS', 'Multiplayer', 'Shooter', 'C...</td>\n",
       "      <td>NaN</td>\n",
       "      <td>http://steamcommunity.com/app/10/reviews/?brow...</td>\n",
       "      <td>['Multi-player', 'Valve Anti-Cheat enabled']</td>\n",
       "      <td>9.99</td>\n",
       "      <td>False</td>\n",
       "      <td>Valve</td>\n",
       "      <td>Overwhelmingly Positive</td>\n",
       "      <td>88.0</td>\n",
       "    </tr>\n",
       "    <tr>\n",
       "      <td>2</td>\n",
       "      <td>3</td>\n",
       "      <td>10</td>\n",
       "      <td>1.0</td>\n",
       "      <td>Valve</td>\n",
       "      <td>['Action']</td>\n",
       "      <td>Counter-Strike</td>\n",
       "      <td>Counter-Strike</td>\n",
       "      <td>http://store.steampowered.com/app/10/CounterSt...</td>\n",
       "      <td>2000-11-01</td>\n",
       "      <td>['Action', 'FPS', 'Multiplayer', 'Shooter', 'C...</td>\n",
       "      <td>NaN</td>\n",
       "      <td>http://steamcommunity.com/app/10/reviews/?brow...</td>\n",
       "      <td>['Multi-player', 'Valve Anti-Cheat enabled']</td>\n",
       "      <td>9.99</td>\n",
       "      <td>False</td>\n",
       "      <td>Valve</td>\n",
       "      <td>Overwhelmingly Positive</td>\n",
       "      <td>88.0</td>\n",
       "    </tr>\n",
       "    <tr>\n",
       "      <td>3</td>\n",
       "      <td>4</td>\n",
       "      <td>10</td>\n",
       "      <td>1.0</td>\n",
       "      <td>Valve</td>\n",
       "      <td>['Action']</td>\n",
       "      <td>Counter-Strike</td>\n",
       "      <td>Counter-Strike</td>\n",
       "      <td>http://store.steampowered.com/app/10/CounterSt...</td>\n",
       "      <td>2000-11-01</td>\n",
       "      <td>['Action', 'FPS', 'Multiplayer', 'Shooter', 'C...</td>\n",
       "      <td>NaN</td>\n",
       "      <td>http://steamcommunity.com/app/10/reviews/?brow...</td>\n",
       "      <td>['Multi-player', 'Valve Anti-Cheat enabled']</td>\n",
       "      <td>9.99</td>\n",
       "      <td>False</td>\n",
       "      <td>Valve</td>\n",
       "      <td>Overwhelmingly Positive</td>\n",
       "      <td>88.0</td>\n",
       "    </tr>\n",
       "    <tr>\n",
       "      <td>4</td>\n",
       "      <td>10</td>\n",
       "      <td>10</td>\n",
       "      <td>1.0</td>\n",
       "      <td>Valve</td>\n",
       "      <td>['Action']</td>\n",
       "      <td>Counter-Strike</td>\n",
       "      <td>Counter-Strike</td>\n",
       "      <td>http://store.steampowered.com/app/10/CounterSt...</td>\n",
       "      <td>2000-11-01</td>\n",
       "      <td>['Action', 'FPS', 'Multiplayer', 'Shooter', 'C...</td>\n",
       "      <td>NaN</td>\n",
       "      <td>http://steamcommunity.com/app/10/reviews/?brow...</td>\n",
       "      <td>['Multi-player', 'Valve Anti-Cheat enabled']</td>\n",
       "      <td>9.99</td>\n",
       "      <td>False</td>\n",
       "      <td>Valve</td>\n",
       "      <td>Overwhelmingly Positive</td>\n",
       "      <td>88.0</td>\n",
       "    </tr>\n",
       "  </tbody>\n",
       "</table>\n",
       "</div>"
      ],
      "text/plain": [
       "   uid  id  owned publisher      genres        app_name           title  \\\n",
       "0    0  10    1.0     Valve  ['Action']  Counter-Strike  Counter-Strike   \n",
       "1    1  10    1.0     Valve  ['Action']  Counter-Strike  Counter-Strike   \n",
       "2    3  10    1.0     Valve  ['Action']  Counter-Strike  Counter-Strike   \n",
       "3    4  10    1.0     Valve  ['Action']  Counter-Strike  Counter-Strike   \n",
       "4   10  10    1.0     Valve  ['Action']  Counter-Strike  Counter-Strike   \n",
       "\n",
       "                                                 url release_date  \\\n",
       "0  http://store.steampowered.com/app/10/CounterSt...   2000-11-01   \n",
       "1  http://store.steampowered.com/app/10/CounterSt...   2000-11-01   \n",
       "2  http://store.steampowered.com/app/10/CounterSt...   2000-11-01   \n",
       "3  http://store.steampowered.com/app/10/CounterSt...   2000-11-01   \n",
       "4  http://store.steampowered.com/app/10/CounterSt...   2000-11-01   \n",
       "\n",
       "                                                tags  discount_price  \\\n",
       "0  ['Action', 'FPS', 'Multiplayer', 'Shooter', 'C...             NaN   \n",
       "1  ['Action', 'FPS', 'Multiplayer', 'Shooter', 'C...             NaN   \n",
       "2  ['Action', 'FPS', 'Multiplayer', 'Shooter', 'C...             NaN   \n",
       "3  ['Action', 'FPS', 'Multiplayer', 'Shooter', 'C...             NaN   \n",
       "4  ['Action', 'FPS', 'Multiplayer', 'Shooter', 'C...             NaN   \n",
       "\n",
       "                                         reviews_url  \\\n",
       "0  http://steamcommunity.com/app/10/reviews/?brow...   \n",
       "1  http://steamcommunity.com/app/10/reviews/?brow...   \n",
       "2  http://steamcommunity.com/app/10/reviews/?brow...   \n",
       "3  http://steamcommunity.com/app/10/reviews/?brow...   \n",
       "4  http://steamcommunity.com/app/10/reviews/?brow...   \n",
       "\n",
       "                                          specs price  early_access developer  \\\n",
       "0  ['Multi-player', 'Valve Anti-Cheat enabled']  9.99         False     Valve   \n",
       "1  ['Multi-player', 'Valve Anti-Cheat enabled']  9.99         False     Valve   \n",
       "2  ['Multi-player', 'Valve Anti-Cheat enabled']  9.99         False     Valve   \n",
       "3  ['Multi-player', 'Valve Anti-Cheat enabled']  9.99         False     Valve   \n",
       "4  ['Multi-player', 'Valve Anti-Cheat enabled']  9.99         False     Valve   \n",
       "\n",
       "                 sentiment  metascore  \n",
       "0  Overwhelmingly Positive       88.0  \n",
       "1  Overwhelmingly Positive       88.0  \n",
       "2  Overwhelmingly Positive       88.0  \n",
       "3  Overwhelmingly Positive       88.0  \n",
       "4  Overwhelmingly Positive       88.0  "
      ]
     },
     "execution_count": 4,
     "metadata": {},
     "output_type": "execute_result"
    }
   ],
   "source": [
    "# Load merged data\n",
    "mergeddata = pd.read_csv('mergeddata.csv', index_col = 0)\n",
    "mergeddata.head()"
   ]
  },
  {
   "cell_type": "markdown",
   "metadata": {},
   "source": [
    "And finally we load the `numgames.csv` file which just lists the number of games owned for each user."
   ]
  },
  {
   "cell_type": "code",
   "execution_count": 6,
   "metadata": {
    "scrolled": false
   },
   "outputs": [
    {
     "data": {
      "text/html": [
       "<div>\n",
       "<style scoped>\n",
       "    .dataframe tbody tr th:only-of-type {\n",
       "        vertical-align: middle;\n",
       "    }\n",
       "\n",
       "    .dataframe tbody tr th {\n",
       "        vertical-align: top;\n",
       "    }\n",
       "\n",
       "    .dataframe thead th {\n",
       "        text-align: right;\n",
       "    }\n",
       "</style>\n",
       "<table border=\"1\" class=\"dataframe\">\n",
       "  <thead>\n",
       "    <tr style=\"text-align: right;\">\n",
       "      <th></th>\n",
       "      <th>user_id</th>\n",
       "      <th>items_count</th>\n",
       "    </tr>\n",
       "  </thead>\n",
       "  <tbody>\n",
       "    <tr>\n",
       "      <td>0</td>\n",
       "      <td>76561197970982479</td>\n",
       "      <td>277</td>\n",
       "    </tr>\n",
       "    <tr>\n",
       "      <td>1</td>\n",
       "      <td>js41637</td>\n",
       "      <td>888</td>\n",
       "    </tr>\n",
       "    <tr>\n",
       "      <td>2</td>\n",
       "      <td>evcentric</td>\n",
       "      <td>137</td>\n",
       "    </tr>\n",
       "    <tr>\n",
       "      <td>3</td>\n",
       "      <td>Riot-Punch</td>\n",
       "      <td>328</td>\n",
       "    </tr>\n",
       "    <tr>\n",
       "      <td>4</td>\n",
       "      <td>doctr</td>\n",
       "      <td>541</td>\n",
       "    </tr>\n",
       "  </tbody>\n",
       "</table>\n",
       "</div>"
      ],
      "text/plain": [
       "             user_id  items_count\n",
       "0  76561197970982479          277\n",
       "1            js41637          888\n",
       "2          evcentric          137\n",
       "3         Riot-Punch          328\n",
       "4              doctr          541"
      ]
     },
     "execution_count": 6,
     "metadata": {},
     "output_type": "execute_result"
    }
   ],
   "source": [
    "# Load numgames data\n",
    "numgames = pd.read_csv('numgames.csv', index_col = 0)\n",
    "numgames.head()"
   ]
  },
  {
   "cell_type": "markdown",
   "metadata": {},
   "source": [
    "## Exploration"
   ]
  },
  {
   "cell_type": "markdown",
   "metadata": {},
   "source": [
    "### User interaction data"
   ]
  },
  {
   "cell_type": "code",
   "execution_count": 334,
   "metadata": {},
   "outputs": [
    {
     "data": {
      "text/plain": [
       "8791"
      ]
     },
     "execution_count": 334,
     "metadata": {},
     "output_type": "execute_result"
    }
   ],
   "source": [
    "mergeddata['id'].nunique()"
   ]
  },
  {
   "cell_type": "code",
   "execution_count": 335,
   "metadata": {},
   "outputs": [
    {
     "data": {
      "text/plain": [
       "69277"
      ]
     },
     "execution_count": 335,
     "metadata": {},
     "output_type": "execute_result"
    }
   ],
   "source": [
    "mergeddata['uid'].nunique()"
   ]
  },
  {
   "cell_type": "markdown",
   "metadata": {},
   "source": [
    "### Release date"
   ]
  },
  {
   "cell_type": "code",
   "execution_count": 94,
   "metadata": {},
   "outputs": [],
   "source": [
    "# Select entries where release date is not null\n",
    "data = gamesdata[gamesdata['release_date'].notnull()]"
   ]
  },
  {
   "cell_type": "code",
   "execution_count": 95,
   "metadata": {
    "scrolled": true
   },
   "outputs": [
    {
     "data": {
      "text/plain": [
       "count          30068\n",
       "unique          3582\n",
       "top       2012-10-16\n",
       "freq             100\n",
       "Name: release_date, dtype: object"
      ]
     },
     "execution_count": 95,
     "metadata": {},
     "output_type": "execute_result"
    }
   ],
   "source": [
    "# Describe feature\n",
    "data['release_date'].describe()"
   ]
  },
  {
   "cell_type": "markdown",
   "metadata": {},
   "source": [
    "We note that there are 3582 unique values. We want to convert the type to Datetime instead of object."
   ]
  },
  {
   "cell_type": "code",
   "execution_count": 97,
   "metadata": {
    "scrolled": false
   },
   "outputs": [
    {
     "data": {
      "text/plain": [
       "count                   29783\n",
       "unique                   3457\n",
       "top       2012-10-16 00:00:00\n",
       "freq                      100\n",
       "first     1970-07-15 00:00:00\n",
       "last      2021-12-31 00:00:00\n",
       "Name: release_date, dtype: object"
      ]
     },
     "execution_count": 97,
     "metadata": {},
     "output_type": "execute_result"
    }
   ],
   "source": [
    "# Replace strings which are not of the format xxxx-xx-xx with None\n",
    "data['release_date'] = data['release_date'].map(lambda x : x if x[-3] == '-'else None)\n",
    "\n",
    "# Select entries where release date is not null\n",
    "data = data[data['release_date'].notnull()]\n",
    "\n",
    "# Convert to DateTime \n",
    "data['release_date'] = pd.to_datetime(data['release_date'])\n",
    "\n",
    "# Check \n",
    "data['release_date'].describe()"
   ]
  },
  {
   "cell_type": "markdown",
   "metadata": {},
   "source": [
    "We see that our data contains games ranging from 1970 up to predicted release date of December 2021."
   ]
  },
  {
   "cell_type": "code",
   "execution_count": 100,
   "metadata": {},
   "outputs": [
    {
     "data": {
      "image/png": "[encoded data removed]",
      "text/plain": [
       "<Figure size 432x288 with 1 Axes>"
      ]
     },
     "metadata": {
      "needs_background": "light"
     },
     "output_type": "display_data"
    }
   ],
   "source": [
    "# Plot histogram of release date feat\n",
    "data['release_date'].hist()\n",
    "plt.title('Game Releases')\n",
    "plt.ylabel('Number of Games')\n",
    "plt.xlabel('Year')\n",
    "plt.show()"
   ]
  },
  {
   "cell_type": "code",
   "execution_count": 108,
   "metadata": {},
   "outputs": [
    {
     "data": {
      "image/png": "[encoded data removed]",
      "text/plain": [
       "<Figure size 432x288 with 1 Axes>"
      ]
     },
     "metadata": {
      "needs_background": "light"
     },
     "output_type": "display_data"
    }
   ],
   "source": [
    "# Focus on post 2010\n",
    "recentgames = data[data['release_date'].dt.year > 2010]\n",
    "\n",
    "recentgames['release_date'].hist()\n",
    "plt.title('Game Releases post 2010')\n",
    "plt.ylabel('Number of Games')\n",
    "plt.xlabel('Year')\n",
    "plt.show()"
   ]
  },
  {
   "cell_type": "markdown",
   "metadata": {},
   "source": [
    "Let's see which months are most popular for new releases."
   ]
  },
  {
   "cell_type": "code",
   "execution_count": 338,
   "metadata": {
    "scrolled": false
   },
   "outputs": [
    {
     "data": {
      "image/png": "[encoded data removed]",
      "text/plain": [
       "<Figure size 432x288 with 1 Axes>"
      ]
     },
     "metadata": {
      "needs_background": "light"
     },
     "output_type": "display_data"
    }
   ],
   "source": [
    "# Create month feature\n",
    "data['release_month'] = data['release_date'].dt.month\n",
    "\n",
    "# Plot countplot using Seaborn\n",
    "sns.countplot(x = data['release_month'], data = data)\n",
    "plt.title('Frequency of game releases per month')\n",
    "plt.xlabel('Month')\n",
    "plt.ylabel('Count')\n",
    "plt.show()"
   ]
  },
  {
   "cell_type": "code",
   "execution_count": 349,
   "metadata": {},
   "outputs": [
    {
     "data": {
      "image/png": "[encoded data removed]",
      "text/plain": [
       "<Figure size 432x288 with 1 Axes>"
      ]
     },
     "metadata": {},
     "output_type": "display_data"
    }
   ],
   "source": [
    "# Countplot of sale month\n",
    "\n",
    "# define palette to highlight best months to buy house\n",
    "custompalette = {release_month: \"skyblue\" if (release_month == 10 or release_month == 11 or release_month == 12 ) else \"lightgrey\" \\\n",
    "                 for release_month in data['release_month'].unique()}\n",
    "\n",
    "with sns.axes_style(\"whitegrid\"):\n",
    "    sns.countplot(x = data['release_month'], palette = custompalette, data = data)\n",
    "plt.title('Number of game releases per month')\n",
    "plt.xlabel('Month')\n",
    "plt.ylabel('Count')\n",
    "plt.savefig('Images/month.pdf', bbox_inches = \"tight\")"
   ]
  },
  {
   "cell_type": "markdown",
   "metadata": {},
   "source": [
    "We see that October, November and December have the highest number of game releases. Let's look at quarters now."
   ]
  },
  {
   "cell_type": "code",
   "execution_count": 116,
   "metadata": {},
   "outputs": [],
   "source": [
    "# Define function to determine quarter\n",
    "def quarter(month):\n",
    "    ''' Returns quarter in which month falls'''\n",
    "    if 1 <= month <= 3:\n",
    "        quarter = 'Q1'\n",
    "    elif 4 <= month <= 6:\n",
    "        quarter = 'Q2'\n",
    "    elif 7 <= month <= 9:\n",
    "        quarter = 'Q3'\n",
    "    else:\n",
    "        quarter = 'Q4'\n",
    "    return quarter"
   ]
  },
  {
   "cell_type": "code",
   "execution_count": 119,
   "metadata": {},
   "outputs": [
    {
     "data": {
      "image/png": "[encoded data removed]",
      "text/plain": [
       "<Figure size 432x288 with 1 Axes>"
      ]
     },
     "metadata": {
      "needs_background": "light"
     },
     "output_type": "display_data"
    }
   ],
   "source": [
    "# Create quarter feature\n",
    "data['release_quarter'] = data['release_month'].apply(quarter)\n",
    "\n",
    "# Plot countplot using Seaborn\n",
    "sns.countplot(x = data['release_quarter'], data = data, \n",
    "              order = data['release_quarter'].value_counts().index)\n",
    "plt.title('Frequency of game releases per quarter')\n",
    "plt.xlabel('Quarter')\n",
    "plt.ylabel('Count')\n",
    "plt.show()"
   ]
  },
  {
   "cell_type": "markdown",
   "metadata": {},
   "source": [
    "**Recommendation:**\n",
    "\n",
    "Q4 and in particular the month of October sees the most new games released. We would recommend ensuring advertisement deals are priced at a premium during this period."
   ]
  },
  {
   "cell_type": "markdown",
   "metadata": {},
   "source": [
    "Finally, let's look at release date for the user-item data."
   ]
  },
  {
   "cell_type": "code",
   "execution_count": 121,
   "metadata": {
    "scrolled": true
   },
   "outputs": [
    {
     "data": {
      "text/plain": [
       "count                 4191586\n",
       "unique                   2649\n",
       "top       2012-08-21 00:00:00\n",
       "freq                    44434\n",
       "first     1983-06-19 00:00:00\n",
       "last      2018-12-01 00:00:00\n",
       "Name: release_date, dtype: object"
      ]
     },
     "execution_count": 121,
     "metadata": {},
     "output_type": "execute_result"
    }
   ],
   "source": [
    "# Create copy to work with\n",
    "releasedatedata = mergeddata.copy()\n",
    "\n",
    "# Select entries where release date is not null\n",
    "releasedatedata = releasedatedata[releasedatedata['release_date'].notnull()]\n",
    "\n",
    "# Replace strings which are not of the format xxxx-xx-xx with None\n",
    "releasedatedata['release_date'] = releasedatedata['release_date'].map(lambda x : x if x[-3] == '-'else None)\n",
    "\n",
    "# Select entries where release date is not null\n",
    "releasedatedata = releasedatedata[releasedatedata['release_date'].notnull()]\n",
    "\n",
    "# Convert to DateTime \n",
    "releasedatedata['release_date'] = pd.to_datetime(releasedatedata['release_date'])\n",
    "\n",
    "# Check \n",
    "releasedatedata['release_date'].describe()"
   ]
  },
  {
   "cell_type": "markdown",
   "metadata": {},
   "source": [
    "Of course, we now have plenty of duplicate entries. However we note that the games span 1983 to 2018."
   ]
  },
  {
   "cell_type": "markdown",
   "metadata": {},
   "source": [
    "### Game library size"
   ]
  },
  {
   "cell_type": "code",
   "execution_count": 123,
   "metadata": {},
   "outputs": [
    {
     "data": {
      "text/html": [
       "<div>\n",
       "<style scoped>\n",
       "    .dataframe tbody tr th:only-of-type {\n",
       "        vertical-align: middle;\n",
       "    }\n",
       "\n",
       "    .dataframe tbody tr th {\n",
       "        vertical-align: top;\n",
       "    }\n",
       "\n",
       "    .dataframe thead th {\n",
       "        text-align: right;\n",
       "    }\n",
       "</style>\n",
       "<table border=\"1\" class=\"dataframe\">\n",
       "  <thead>\n",
       "    <tr style=\"text-align: right;\">\n",
       "      <th></th>\n",
       "      <th>user_id</th>\n",
       "      <th>items_count</th>\n",
       "    </tr>\n",
       "  </thead>\n",
       "  <tbody>\n",
       "    <tr>\n",
       "      <td>0</td>\n",
       "      <td>76561197970982479</td>\n",
       "      <td>277</td>\n",
       "    </tr>\n",
       "    <tr>\n",
       "      <td>1</td>\n",
       "      <td>js41637</td>\n",
       "      <td>888</td>\n",
       "    </tr>\n",
       "    <tr>\n",
       "      <td>2</td>\n",
       "      <td>evcentric</td>\n",
       "      <td>137</td>\n",
       "    </tr>\n",
       "    <tr>\n",
       "      <td>3</td>\n",
       "      <td>Riot-Punch</td>\n",
       "      <td>328</td>\n",
       "    </tr>\n",
       "    <tr>\n",
       "      <td>4</td>\n",
       "      <td>doctr</td>\n",
       "      <td>541</td>\n",
       "    </tr>\n",
       "  </tbody>\n",
       "</table>\n",
       "</div>"
      ],
      "text/plain": [
       "             user_id  items_count\n",
       "0  76561197970982479          277\n",
       "1            js41637          888\n",
       "2          evcentric          137\n",
       "3         Riot-Punch          328\n",
       "4              doctr          541"
      ]
     },
     "execution_count": 123,
     "metadata": {},
     "output_type": "execute_result"
    }
   ],
   "source": [
    "# View head\n",
    "numgames.head()"
   ]
  },
  {
   "cell_type": "code",
   "execution_count": 126,
   "metadata": {
    "scrolled": true
   },
   "outputs": [
    {
     "data": {
      "text/plain": [
       "count    88310.000000\n",
       "mean        58.353629\n",
       "std        122.312095\n",
       "min          0.000000\n",
       "25%          3.000000\n",
       "50%         26.000000\n",
       "75%         73.000000\n",
       "max       7762.000000\n",
       "Name: items_count, dtype: float64"
      ]
     },
     "execution_count": 126,
     "metadata": {},
     "output_type": "execute_result"
    }
   ],
   "source": [
    "# Get summary statistics\n",
    "numgames['items_count'].describe()"
   ]
  },
  {
   "cell_type": "markdown",
   "metadata": {},
   "source": [
    "We have data for 88310 unique steam users. We note that the minimum number of games owned is 0 whereas the maximum is 7762. The average number of games owned is 58."
   ]
  },
  {
   "cell_type": "code",
   "execution_count": 128,
   "metadata": {
    "scrolled": true
   },
   "outputs": [
    {
     "data": {
      "image/png": "[encoded data removed]",
      "text/plain": [
       "<Figure size 432x288 with 1 Axes>"
      ]
     },
     "metadata": {
      "needs_background": "light"
     },
     "output_type": "display_data"
    }
   ],
   "source": [
    "# Plot distribution of `items_count`\n",
    "numgames['items_count'].hist()\n",
    "plt.title('Distribution of number of games owned')\n",
    "plt.xlabel('Number of games')\n",
    "plt.ylabel('Number of users')\n",
    "plt.show()"
   ]
  },
  {
   "cell_type": "code",
   "execution_count": 135,
   "metadata": {},
   "outputs": [
    {
     "data": {
      "image/png": "[encoded data removed]",
      "text/plain": [
       "<Figure size 432x288 with 1 Axes>"
      ]
     },
     "metadata": {
      "needs_background": "light"
     },
     "output_type": "display_data"
    }
   ],
   "source": [
    "# Plot distribution of items_count within 90% centile\n",
    "numgames[numgames['items_count'] < numgames['items_count'].quantile(0.90)].hist()\n",
    "plt.title('Distribution of number of games owned')\n",
    "plt.xlabel('Number of games')\n",
    "plt.ylabel('Number of users')\n",
    "plt.show()"
   ]
  },
  {
   "cell_type": "code",
   "execution_count": 351,
   "metadata": {},
   "outputs": [
    {
     "data": {
      "image/png": "[encoded data removed]",
      "text/plain": [
       "<Figure size 432x288 with 1 Axes>"
      ]
     },
     "metadata": {
      "needs_background": "light"
     },
     "output_type": "display_data"
    }
   ],
   "source": [
    "# Plot distribution of items_count within 90% centile\n",
    "numgames[numgames['items_count'] < numgames['items_count'].quantile(0.90)].hist()\n",
    "plt.title('Distribution of number of games owned')\n",
    "plt.xlabel('Number of games')\n",
    "plt.ylabel('Number of users')\n",
    "plt.savefig('Images/numgames.pdf', bbox_inches = \"tight\")\n",
    "plt.show()"
   ]
  },
  {
   "cell_type": "markdown",
   "metadata": {},
   "source": [
    "**Recommendation:**\n",
    "\n",
    "Focus campaign on users who have below the average number of games of 58. These users are more likely to find games they do not own which appeal."
   ]
  },
  {
   "cell_type": "markdown",
   "metadata": {},
   "source": [
    "### Game Price"
   ]
  },
  {
   "cell_type": "code",
   "execution_count": 136,
   "metadata": {
    "scrolled": true
   },
   "outputs": [
    {
     "data": {
      "text/plain": [
       "count     30758\n",
       "unique      162\n",
       "top        4.99\n",
       "freq       4278\n",
       "Name: price, dtype: object"
      ]
     },
     "execution_count": 136,
     "metadata": {},
     "output_type": "execute_result"
    }
   ],
   "source": [
    "# Create a copy to work with\n",
    "gamesprice = gamesdata.copy()\n",
    "\n",
    "# Get statistics and type\n",
    "gamesprice['price'].describe()"
   ]
  },
  {
   "cell_type": "markdown",
   "metadata": {},
   "source": [
    "We see that the values are of type `object`. \n",
    "\n",
    "From viewing the head above, we noticed the presence of the string `Free To Play`. Let us replace that value with 0. \n",
    "\n",
    "We will also iterate and replace all strings we find with 0."
   ]
  },
  {
   "cell_type": "code",
   "execution_count": 174,
   "metadata": {},
   "outputs": [],
   "source": [
    "gamesprice = gamesprice.replace(to_replace = 'Free To Play', value = 0)\n",
    "gamesprice = gamesprice.replace(to_replace = 'Free', value = 0)\n",
    "gamesprice = gamesprice.replace(to_replace = 'Free Demo', value = 0)\n",
    "gamesprice = gamesprice.replace(to_replace = 'Play for Free!', value = 0)\n",
    "gamesprice = gamesprice.replace(to_replace = 'Install Now', value = 0)\n",
    "gamesprice = gamesprice.replace(to_replace = 'Play WARMACHINE: Tactics Demo', value = 0)\n",
    "gamesprice = gamesprice.replace(to_replace = 'Free Mod', value = 0)\n",
    "gamesprice = gamesprice.replace(to_replace = 'Install Theme', value = 0)\n",
    "gamesprice = gamesprice.replace(to_replace = 'Third-party', value = 0)\n",
    "gamesprice = gamesprice.replace(to_replace = 'Play Now', value = 0)\n",
    "gamesprice = gamesprice.replace(to_replace = 'Free HITMAN™ Holiday Pack', value = 0)\n",
    "gamesprice = gamesprice.replace(to_replace = 'Play the Demo', value = 0)\n",
    "gamesprice = gamesprice.replace(to_replace = 'Starting at $499.00', value = 0)\n",
    "gamesprice = gamesprice.replace(to_replace = 'Starting at $449.00', value = 0)\n",
    "gamesprice = gamesprice.replace(to_replace = 'Free to Try', value = 0)\n",
    "gamesprice = gamesprice.replace(to_replace = 'Free Movie', value = 0)\n",
    "gamesprice = gamesprice.replace(to_replace = 'Free to Use', value = 0)"
   ]
  },
  {
   "cell_type": "code",
   "execution_count": 175,
   "metadata": {
    "scrolled": false
   },
   "outputs": [],
   "source": [
    "# Convert to float\n",
    "gamesprice['price'] = gamesprice['price'].astype(float)"
   ]
  },
  {
   "cell_type": "code",
   "execution_count": 357,
   "metadata": {
    "scrolled": false
   },
   "outputs": [
    {
     "data": {
      "text/plain": [
       "count    30758.000000\n",
       "mean         8.866855\n",
       "std         15.903457\n",
       "min          0.000000\n",
       "25%          2.990000\n",
       "50%          4.990000\n",
       "75%          9.990000\n",
       "max        995.000000\n",
       "Name: price, dtype: float64"
      ]
     },
     "execution_count": 357,
     "metadata": {},
     "output_type": "execute_result"
    }
   ],
   "source": [
    "# Get summary statistics\n",
    "gamesprice['price'].describe()"
   ]
  },
  {
   "cell_type": "markdown",
   "metadata": {},
   "source": [
    "We see that 75% of games are under $10! Looks like the majority of games are cheap."
   ]
  },
  {
   "cell_type": "code",
   "execution_count": 360,
   "metadata": {},
   "outputs": [],
   "source": [
    "belowcentile = gamesprice[gamesprice['price'] < gamesprice['price'].quantile(0.99)]"
   ]
  },
  {
   "cell_type": "code",
   "execution_count": 361,
   "metadata": {},
   "outputs": [
    {
     "data": {
      "text/plain": [
       "count    30440.000000\n",
       "mean         7.879879\n",
       "std          8.100161\n",
       "min          0.000000\n",
       "25%          2.990000\n",
       "50%          4.990000\n",
       "75%          9.990000\n",
       "max         49.990000\n",
       "Name: price, dtype: float64"
      ]
     },
     "execution_count": 361,
     "metadata": {},
     "output_type": "execute_result"
    }
   ],
   "source": [
    "belowcentile['price'].describe()"
   ]
  },
  {
   "cell_type": "code",
   "execution_count": 365,
   "metadata": {},
   "outputs": [
    {
     "data": {
      "image/png": "[encoded data removed]",
      "text/plain": [
       "<Figure size 432x288 with 1 Axes>"
      ]
     },
     "metadata": {
      "needs_background": "light"
     },
     "output_type": "display_data"
    }
   ],
   "source": [
    "belowcentile['price'].hist()\n",
    "plt.xlabel('Price in USD')\n",
    "plt.title('Game Price Distribution')\n",
    "plt.savefig('Images/price.pdf', bbox_inches = \"tight\")\n",
    "plt.show()"
   ]
  },
  {
   "cell_type": "markdown",
   "metadata": {},
   "source": [
    "**Recommendation**: Focus on volume of sales as the 75% of games are below $10. Highlights the importance of bundles for higher single transactions and where the user may not be interested in all games but still think it worthwhile."
   ]
  },
  {
   "cell_type": "markdown",
   "metadata": {},
   "source": [
    "### Game genre"
   ]
  },
  {
   "cell_type": "code",
   "execution_count": 234,
   "metadata": {},
   "outputs": [
    {
     "data": {
      "text/html": [
       "<div>\n",
       "<style scoped>\n",
       "    .dataframe tbody tr th:only-of-type {\n",
       "        vertical-align: middle;\n",
       "    }\n",
       "\n",
       "    .dataframe tbody tr th {\n",
       "        vertical-align: top;\n",
       "    }\n",
       "\n",
       "    .dataframe thead th {\n",
       "        text-align: right;\n",
       "    }\n",
       "</style>\n",
       "<table border=\"1\" class=\"dataframe\">\n",
       "  <thead>\n",
       "    <tr style=\"text-align: right;\">\n",
       "      <th></th>\n",
       "      <th>publisher</th>\n",
       "      <th>genres</th>\n",
       "      <th>app_name</th>\n",
       "      <th>title</th>\n",
       "      <th>url</th>\n",
       "      <th>release_date</th>\n",
       "      <th>tags</th>\n",
       "      <th>discount_price</th>\n",
       "      <th>reviews_url</th>\n",
       "      <th>specs</th>\n",
       "      <th>price</th>\n",
       "      <th>early_access</th>\n",
       "      <th>id</th>\n",
       "      <th>developer</th>\n",
       "      <th>sentiment</th>\n",
       "      <th>metascore</th>\n",
       "    </tr>\n",
       "  </thead>\n",
       "  <tbody>\n",
       "    <tr>\n",
       "      <td>0</td>\n",
       "      <td>Kotoshiro</td>\n",
       "      <td>['Action', 'Casual', 'Indie', 'Simulation', 'S...</td>\n",
       "      <td>Lost Summoner Kitty</td>\n",
       "      <td>Lost Summoner Kitty</td>\n",
       "      <td>http://store.steampowered.com/app/761140/Lost_...</td>\n",
       "      <td>2018-01-04</td>\n",
       "      <td>['Strategy', 'Action', 'Indie', 'Casual', 'Sim...</td>\n",
       "      <td>4.49</td>\n",
       "      <td>http://steamcommunity.com/app/761140/reviews/?...</td>\n",
       "      <td>['Single-player']</td>\n",
       "      <td>4.99</td>\n",
       "      <td>False</td>\n",
       "      <td>761140.0</td>\n",
       "      <td>Kotoshiro</td>\n",
       "      <td>NaN</td>\n",
       "      <td>NaN</td>\n",
       "    </tr>\n",
       "    <tr>\n",
       "      <td>1</td>\n",
       "      <td>Making Fun, Inc.</td>\n",
       "      <td>['Free to Play', 'Indie', 'RPG', 'Strategy']</td>\n",
       "      <td>Ironbound</td>\n",
       "      <td>Ironbound</td>\n",
       "      <td>http://store.steampowered.com/app/643980/Ironb...</td>\n",
       "      <td>2018-01-04</td>\n",
       "      <td>['Free to Play', 'Strategy', 'Indie', 'RPG', '...</td>\n",
       "      <td>NaN</td>\n",
       "      <td>http://steamcommunity.com/app/643980/reviews/?...</td>\n",
       "      <td>['Single-player', 'Multi-player', 'Online Mult...</td>\n",
       "      <td>Free To Play</td>\n",
       "      <td>False</td>\n",
       "      <td>643980.0</td>\n",
       "      <td>Secret Level SRL</td>\n",
       "      <td>Mostly Positive</td>\n",
       "      <td>NaN</td>\n",
       "    </tr>\n",
       "    <tr>\n",
       "      <td>2</td>\n",
       "      <td>Poolians.com</td>\n",
       "      <td>['Casual', 'Free to Play', 'Indie', 'Simulatio...</td>\n",
       "      <td>Real Pool 3D - Poolians</td>\n",
       "      <td>Real Pool 3D - Poolians</td>\n",
       "      <td>http://store.steampowered.com/app/670290/Real_...</td>\n",
       "      <td>2017-07-24</td>\n",
       "      <td>['Free to Play', 'Simulation', 'Sports', 'Casu...</td>\n",
       "      <td>NaN</td>\n",
       "      <td>http://steamcommunity.com/app/670290/reviews/?...</td>\n",
       "      <td>['Single-player', 'Multi-player', 'Online Mult...</td>\n",
       "      <td>Free to Play</td>\n",
       "      <td>False</td>\n",
       "      <td>670290.0</td>\n",
       "      <td>Poolians.com</td>\n",
       "      <td>Mostly Positive</td>\n",
       "      <td>NaN</td>\n",
       "    </tr>\n",
       "    <tr>\n",
       "      <td>3</td>\n",
       "      <td>彼岸领域</td>\n",
       "      <td>['Action', 'Adventure', 'Casual']</td>\n",
       "      <td>弹炸人2222</td>\n",
       "      <td>弹炸人2222</td>\n",
       "      <td>http://store.steampowered.com/app/767400/2222/</td>\n",
       "      <td>2017-12-07</td>\n",
       "      <td>['Action', 'Adventure', 'Casual']</td>\n",
       "      <td>0.83</td>\n",
       "      <td>http://steamcommunity.com/app/767400/reviews/?...</td>\n",
       "      <td>['Single-player']</td>\n",
       "      <td>0.99</td>\n",
       "      <td>False</td>\n",
       "      <td>767400.0</td>\n",
       "      <td>彼岸领域</td>\n",
       "      <td>NaN</td>\n",
       "      <td>NaN</td>\n",
       "    </tr>\n",
       "    <tr>\n",
       "      <td>4</td>\n",
       "      <td>NaN</td>\n",
       "      <td>NaN</td>\n",
       "      <td>Log Challenge</td>\n",
       "      <td>NaN</td>\n",
       "      <td>http://store.steampowered.com/app/773570/Log_C...</td>\n",
       "      <td>NaN</td>\n",
       "      <td>['Action', 'Indie', 'Casual', 'Sports']</td>\n",
       "      <td>1.79</td>\n",
       "      <td>http://steamcommunity.com/app/773570/reviews/?...</td>\n",
       "      <td>['Single-player', 'Full controller support', '...</td>\n",
       "      <td>2.99</td>\n",
       "      <td>False</td>\n",
       "      <td>773570.0</td>\n",
       "      <td>NaN</td>\n",
       "      <td>NaN</td>\n",
       "      <td>NaN</td>\n",
       "    </tr>\n",
       "  </tbody>\n",
       "</table>\n",
       "</div>"
      ],
      "text/plain": [
       "          publisher                                             genres  \\\n",
       "0         Kotoshiro  ['Action', 'Casual', 'Indie', 'Simulation', 'S...   \n",
       "1  Making Fun, Inc.       ['Free to Play', 'Indie', 'RPG', 'Strategy']   \n",
       "2      Poolians.com  ['Casual', 'Free to Play', 'Indie', 'Simulatio...   \n",
       "3              彼岸领域                  ['Action', 'Adventure', 'Casual']   \n",
       "4               NaN                                                NaN   \n",
       "\n",
       "                  app_name                    title  \\\n",
       "0      Lost Summoner Kitty      Lost Summoner Kitty   \n",
       "1                Ironbound                Ironbound   \n",
       "2  Real Pool 3D - Poolians  Real Pool 3D - Poolians   \n",
       "3                  弹炸人2222                  弹炸人2222   \n",
       "4            Log Challenge                      NaN   \n",
       "\n",
       "                                                 url release_date  \\\n",
       "0  http://store.steampowered.com/app/761140/Lost_...   2018-01-04   \n",
       "1  http://store.steampowered.com/app/643980/Ironb...   2018-01-04   \n",
       "2  http://store.steampowered.com/app/670290/Real_...   2017-07-24   \n",
       "3     http://store.steampowered.com/app/767400/2222/   2017-12-07   \n",
       "4  http://store.steampowered.com/app/773570/Log_C...          NaN   \n",
       "\n",
       "                                                tags  discount_price  \\\n",
       "0  ['Strategy', 'Action', 'Indie', 'Casual', 'Sim...            4.49   \n",
       "1  ['Free to Play', 'Strategy', 'Indie', 'RPG', '...             NaN   \n",
       "2  ['Free to Play', 'Simulation', 'Sports', 'Casu...             NaN   \n",
       "3                  ['Action', 'Adventure', 'Casual']            0.83   \n",
       "4            ['Action', 'Indie', 'Casual', 'Sports']            1.79   \n",
       "\n",
       "                                         reviews_url  \\\n",
       "0  http://steamcommunity.com/app/761140/reviews/?...   \n",
       "1  http://steamcommunity.com/app/643980/reviews/?...   \n",
       "2  http://steamcommunity.com/app/670290/reviews/?...   \n",
       "3  http://steamcommunity.com/app/767400/reviews/?...   \n",
       "4  http://steamcommunity.com/app/773570/reviews/?...   \n",
       "\n",
       "                                               specs         price  \\\n",
       "0                                  ['Single-player']          4.99   \n",
       "1  ['Single-player', 'Multi-player', 'Online Mult...  Free To Play   \n",
       "2  ['Single-player', 'Multi-player', 'Online Mult...  Free to Play   \n",
       "3                                  ['Single-player']          0.99   \n",
       "4  ['Single-player', 'Full controller support', '...          2.99   \n",
       "\n",
       "   early_access        id         developer        sentiment  metascore  \n",
       "0         False  761140.0         Kotoshiro              NaN        NaN  \n",
       "1         False  643980.0  Secret Level SRL  Mostly Positive        NaN  \n",
       "2         False  670290.0      Poolians.com  Mostly Positive        NaN  \n",
       "3         False  767400.0              彼岸领域              NaN        NaN  \n",
       "4         False  773570.0               NaN              NaN        NaN  "
      ]
     },
     "execution_count": 234,
     "metadata": {},
     "output_type": "execute_result"
    }
   ],
   "source": [
    "gamesdata.head()"
   ]
  },
  {
   "cell_type": "code",
   "execution_count": 322,
   "metadata": {
    "scrolled": false
   },
   "outputs": [
    {
     "data": {
      "text/plain": [
       "[\"['Action', 'Casual', 'Indie', 'Simulation', 'Strategy']\",\n",
       " \"['Free to Play', 'Indie', 'RPG', 'Strategy']\",\n",
       " \"['Casual', 'Free to Play', 'Indie', 'Simulation', 'Sports']\",\n",
       " \"['Action', 'Adventure', 'Casual']\",\n",
       " \"['Action', 'Adventure', 'Simulation']\"]"
      ]
     },
     "execution_count": 322,
     "metadata": {},
     "output_type": "execute_result"
    }
   ],
   "source": [
    "# Create copy\n",
    "gamegenres = gamesdata.copy()\n",
    "\n",
    "# Drop NaN\n",
    "gamegenres = gamegenres[gamegenres['genres'].notnull()]\n",
    "\n",
    "# Get unique lists\n",
    "genres = list(gamegenres['genres'].unique())\n",
    "\n",
    "# View first 5\n",
    "genres[:5]"
   ]
  },
  {
   "cell_type": "code",
   "execution_count": 323,
   "metadata": {},
   "outputs": [
    {
     "data": {
      "text/plain": [
       "\"['Action', 'Casual', 'Indie', 'Simulation', 'Strategy'],['Free to Play', 'Indie', 'RPG', 'Strategy']\""
      ]
     },
     "execution_count": 323,
     "metadata": {},
     "output_type": "execute_result"
    }
   ],
   "source": [
    "# Combine all strings\n",
    "allgenres = ','.join(genres)\n",
    "\n",
    "# Preview first 100 characters\n",
    "allgenres[:100]"
   ]
  },
  {
   "cell_type": "code",
   "execution_count": 324,
   "metadata": {
    "scrolled": true
   },
   "outputs": [
    {
     "data": {
      "text/plain": [
       "'Action,Casual,Indie,Simulation,Strategy,FreetoPlay,Indie,RPG,Strategy,Casual,FreetoPlay,Indie,Simula'"
      ]
     },
     "execution_count": 324,
     "metadata": {},
     "output_type": "execute_result"
    }
   ],
   "source": [
    "# Replace chars\n",
    "allgenres = allgenres.replace(\"[\",\"\").replace(\"]\", \"\").replace(\"'\", \"\").replace(\" \",\"\")\n",
    "\n",
    "# Check\n",
    "allgenres[:100]"
   ]
  },
  {
   "cell_type": "code",
   "execution_count": 325,
   "metadata": {},
   "outputs": [
    {
     "data": {
      "text/plain": [
       "['Action', 'Casual', 'Indie', 'Simulation', 'Strategy']"
      ]
     },
     "execution_count": 325,
     "metadata": {},
     "output_type": "execute_result"
    }
   ],
   "source": [
    "# Split\n",
    "splitgenres = allgenres.split(',')\n",
    "splitgenres[:5]"
   ]
  },
  {
   "cell_type": "code",
   "execution_count": 326,
   "metadata": {
    "scrolled": false
   },
   "outputs": [
    {
     "data": {
      "text/plain": [
       "{'Accounting',\n",
       " 'Action',\n",
       " 'Adventure',\n",
       " 'Animation&amp;Modeling',\n",
       " 'AudioProduction',\n",
       " 'Casual',\n",
       " 'Design&amp;Illustration',\n",
       " 'EarlyAccess',\n",
       " 'Education',\n",
       " 'FreetoPlay',\n",
       " 'Indie',\n",
       " 'MassivelyMultiplayer',\n",
       " 'PhotoEditing',\n",
       " 'RPG',\n",
       " 'Racing',\n",
       " 'Simulation',\n",
       " 'SoftwareTraining',\n",
       " 'Sports',\n",
       " 'Strategy',\n",
       " 'Utilities',\n",
       " 'VideoProduction',\n",
       " 'WebPublishing'}"
      ]
     },
     "execution_count": 326,
     "metadata": {},
     "output_type": "execute_result"
    }
   ],
   "source": [
    "# Use set to obtain unique values\n",
    "uniquegenres = set(splitgenres)\n",
    "uniquegenres"
   ]
  },
  {
   "cell_type": "code",
   "execution_count": 327,
   "metadata": {},
   "outputs": [
    {
     "data": {
      "text/html": [
       "<div>\n",
       "<style scoped>\n",
       "    .dataframe tbody tr th:only-of-type {\n",
       "        vertical-align: middle;\n",
       "    }\n",
       "\n",
       "    .dataframe tbody tr th {\n",
       "        vertical-align: top;\n",
       "    }\n",
       "\n",
       "    .dataframe thead th {\n",
       "        text-align: right;\n",
       "    }\n",
       "</style>\n",
       "<table border=\"1\" class=\"dataframe\">\n",
       "  <thead>\n",
       "    <tr style=\"text-align: right;\">\n",
       "      <th></th>\n",
       "      <th>publisher</th>\n",
       "      <th>genres</th>\n",
       "      <th>app_name</th>\n",
       "      <th>title</th>\n",
       "      <th>url</th>\n",
       "      <th>release_date</th>\n",
       "      <th>tags</th>\n",
       "      <th>discount_price</th>\n",
       "      <th>reviews_url</th>\n",
       "      <th>specs</th>\n",
       "      <th>...</th>\n",
       "      <th>Education</th>\n",
       "      <th>WebPublishing</th>\n",
       "      <th>Indie</th>\n",
       "      <th>Strategy</th>\n",
       "      <th>Design&amp;amp;Illustration</th>\n",
       "      <th>Simulation</th>\n",
       "      <th>AudioProduction</th>\n",
       "      <th>FreetoPlay</th>\n",
       "      <th>Sports</th>\n",
       "      <th>Adventure</th>\n",
       "    </tr>\n",
       "  </thead>\n",
       "  <tbody>\n",
       "    <tr>\n",
       "      <td>0</td>\n",
       "      <td>Kotoshiro</td>\n",
       "      <td>[Action, Casual, Indie, Simulation, Strategy]</td>\n",
       "      <td>Lost Summoner Kitty</td>\n",
       "      <td>Lost Summoner Kitty</td>\n",
       "      <td>http://store.steampowered.com/app/761140/Lost_...</td>\n",
       "      <td>2018-01-04</td>\n",
       "      <td>['Strategy', 'Action', 'Indie', 'Casual', 'Sim...</td>\n",
       "      <td>4.49</td>\n",
       "      <td>http://steamcommunity.com/app/761140/reviews/?...</td>\n",
       "      <td>['Single-player']</td>\n",
       "      <td>...</td>\n",
       "      <td>0.0</td>\n",
       "      <td>0.0</td>\n",
       "      <td>1.0</td>\n",
       "      <td>1.0</td>\n",
       "      <td>0.0</td>\n",
       "      <td>1.0</td>\n",
       "      <td>0.0</td>\n",
       "      <td>0.0</td>\n",
       "      <td>0.0</td>\n",
       "      <td>0.0</td>\n",
       "    </tr>\n",
       "    <tr>\n",
       "      <td>1</td>\n",
       "      <td>Making Fun, Inc.</td>\n",
       "      <td>[FreetoPlay, Indie, RPG, Strategy]</td>\n",
       "      <td>Ironbound</td>\n",
       "      <td>Ironbound</td>\n",
       "      <td>http://store.steampowered.com/app/643980/Ironb...</td>\n",
       "      <td>2018-01-04</td>\n",
       "      <td>['Free to Play', 'Strategy', 'Indie', 'RPG', '...</td>\n",
       "      <td>NaN</td>\n",
       "      <td>http://steamcommunity.com/app/643980/reviews/?...</td>\n",
       "      <td>['Single-player', 'Multi-player', 'Online Mult...</td>\n",
       "      <td>...</td>\n",
       "      <td>0.0</td>\n",
       "      <td>0.0</td>\n",
       "      <td>1.0</td>\n",
       "      <td>1.0</td>\n",
       "      <td>0.0</td>\n",
       "      <td>0.0</td>\n",
       "      <td>0.0</td>\n",
       "      <td>1.0</td>\n",
       "      <td>0.0</td>\n",
       "      <td>0.0</td>\n",
       "    </tr>\n",
       "  </tbody>\n",
       "</table>\n",
       "<p>2 rows × 38 columns</p>\n",
       "</div>"
      ],
      "text/plain": [
       "          publisher                                         genres  \\\n",
       "0         Kotoshiro  [Action, Casual, Indie, Simulation, Strategy]   \n",
       "1  Making Fun, Inc.             [FreetoPlay, Indie, RPG, Strategy]   \n",
       "\n",
       "              app_name                title  \\\n",
       "0  Lost Summoner Kitty  Lost Summoner Kitty   \n",
       "1            Ironbound            Ironbound   \n",
       "\n",
       "                                                 url release_date  \\\n",
       "0  http://store.steampowered.com/app/761140/Lost_...   2018-01-04   \n",
       "1  http://store.steampowered.com/app/643980/Ironb...   2018-01-04   \n",
       "\n",
       "                                                tags  discount_price  \\\n",
       "0  ['Strategy', 'Action', 'Indie', 'Casual', 'Sim...            4.49   \n",
       "1  ['Free to Play', 'Strategy', 'Indie', 'RPG', '...             NaN   \n",
       "\n",
       "                                         reviews_url  \\\n",
       "0  http://steamcommunity.com/app/761140/reviews/?...   \n",
       "1  http://steamcommunity.com/app/643980/reviews/?...   \n",
       "\n",
       "                                               specs  ... Education  \\\n",
       "0                                  ['Single-player']  ...       0.0   \n",
       "1  ['Single-player', 'Multi-player', 'Online Mult...  ...       0.0   \n",
       "\n",
       "  WebPublishing  Indie Strategy Design&amp;Illustration  Simulation  \\\n",
       "0           0.0    1.0      1.0                     0.0         1.0   \n",
       "1           0.0    1.0      1.0                     0.0         0.0   \n",
       "\n",
       "   AudioProduction  FreetoPlay  Sports  Adventure  \n",
       "0              0.0         0.0     0.0        0.0  \n",
       "1              0.0         1.0     0.0        0.0  \n",
       "\n",
       "[2 rows x 38 columns]"
      ]
     },
     "execution_count": 327,
     "metadata": {},
     "output_type": "execute_result"
    }
   ],
   "source": [
    "# Create columns with genres\n",
    "for genre in uniquegenres:\n",
    "    gamegenres[genre] = 0\n",
    "    \n",
    "# Split genres in genres column\n",
    "gamegenres['genres'] = gamegenres['genres'].map(lambda x : x.replace(\"[\",\" \").replace(\"]\", \"\").replace(\"'\", \"\").replace(\" \",\"\").split(','))\n",
    "\n",
    "# Map to columns - set to 1 if genre applies\n",
    "for index, genres in enumerate(gamegenres['genres']):\n",
    "    for genre in genres:\n",
    "        gamegenres.loc[index,genre] = 1\n",
    "        \n",
    "# Visuale the new columns\n",
    "gamegenres.head(2)  "
   ]
  },
  {
   "cell_type": "code",
   "execution_count": 328,
   "metadata": {},
   "outputs": [
    {
     "data": {
      "text/plain": [
       "Index(['publisher', 'genres', 'app_name', 'title', 'url', 'release_date',\n",
       "       'tags', 'discount_price', 'reviews_url', 'specs', 'price',\n",
       "       'early_access', 'id', 'developer', 'sentiment', 'metascore', 'Casual',\n",
       "       'RPG', 'Accounting', 'MassivelyMultiplayer', 'EarlyAccess',\n",
       "       'SoftwareTraining', 'VideoProduction', 'Racing',\n",
       "       'Animation&amp;Modeling', 'Utilities', 'PhotoEditing', 'Action',\n",
       "       'Education', 'WebPublishing', 'Indie', 'Strategy',\n",
       "       'Design&amp;Illustration', 'Simulation', 'AudioProduction',\n",
       "       'FreetoPlay', 'Sports', 'Adventure'],\n",
       "      dtype='object')"
      ]
     },
     "execution_count": 328,
     "metadata": {},
     "output_type": "execute_result"
    }
   ],
   "source": [
    "gamegenres.columns"
   ]
  },
  {
   "cell_type": "code",
   "execution_count": 332,
   "metadata": {},
   "outputs": [],
   "source": [
    "# Start with empty dictionary\n",
    "genredict = {}\n",
    "\n",
    "# Get genre columns\n",
    "genrecols = gamegenres.loc[:, 'Casual':'Adventure'].columns\n",
    "\n",
    "# Go through each column and sum it\n",
    "for col in genrecols:\n",
    "    genredict[col] = gamegenres[col].sum()\n",
    "        \n",
    "# sort dictionary based on counts, ascending order so reverse = True    \n",
    "sortedgenresdict = {keys: values for keys, values in \\\n",
    "                        sorted(genredict.items(), key = lambda item: item[1], reverse = True)}"
   ]
  },
  {
   "cell_type": "code",
   "execution_count": 333,
   "metadata": {},
   "outputs": [
    {
     "data": {
      "text/plain": [
       "{'Indie': 15858.0,\n",
       " 'Action': 11321.0,\n",
       " 'Casual': 8282.0,\n",
       " 'Adventure': 8243.0,\n",
       " 'Strategy': 6957.0,\n",
       " 'Simulation': 6699.0,\n",
       " 'RPG': 5479.0,\n",
       " 'FreetoPlay': 2031.0,\n",
       " 'EarlyAccess': 1462.0,\n",
       " 'Sports': 1257.0,\n",
       " 'MassivelyMultiplayer': 1108.0,\n",
       " 'Racing': 1083.0,\n",
       " 'Design&amp;Illustration': 460.0,\n",
       " 'Utilities': 340.0,\n",
       " 'WebPublishing': 268.0,\n",
       " 'Animation&amp;Modeling': 183.0,\n",
       " 'Education': 125.0,\n",
       " 'VideoProduction': 116.0,\n",
       " 'SoftwareTraining': 105.0,\n",
       " 'AudioProduction': 93.0,\n",
       " 'PhotoEditing': 77.0,\n",
       " 'Accounting': 7.0}"
      ]
     },
     "execution_count": 333,
     "metadata": {},
     "output_type": "execute_result"
    }
   ],
   "source": [
    "# View dictionary\n",
    "sortedgenresdict"
   ]
  },
  {
   "cell_type": "markdown",
   "metadata": {},
   "source": [
    "We see that Indie is the most popular genre, followed by Action. On the other end of the spectrum, there are few entries relating to Photo Editing and only 7 for Accounting. This makes sense as Steam is a gaming platform, and so photo editing or accounting software doesn't really belong."
   ]
  },
  {
   "cell_type": "markdown",
   "metadata": {},
   "source": [
    "### Game tags"
   ]
  },
  {
   "cell_type": "code",
   "execution_count": 264,
   "metadata": {
    "scrolled": true
   },
   "outputs": [
    {
     "data": {
      "text/plain": [
       "[\"['Strategy', 'Action', 'Indie', 'Casual', 'Simulation']\",\n",
       " \"['Free to Play', 'Strategy', 'Indie', 'RPG', 'Card Game', 'Trading Card Game', 'Turn-Based', 'Fantasy', 'Tactical', 'Dark Fantasy', 'Board Game', 'PvP', '2D', 'Competitive', 'Replay Value', 'Character Customization', 'Female Protagonist', 'Difficult', 'Design & Illustration']\",\n",
       " \"['Free to Play', 'Simulation', 'Sports', 'Casual', 'Indie', 'Multiplayer']\",\n",
       " \"['Action', 'Adventure', 'Casual']\",\n",
       " \"['Action', 'Adventure', 'Simulation', 'FPS', 'Shooter', 'Third-Person Shooter', 'Sniper', 'Third Person']\"]"
      ]
     },
     "execution_count": 264,
     "metadata": {},
     "output_type": "execute_result"
    }
   ],
   "source": [
    "# Create copy\n",
    "gametags = gamesdata.copy()\n",
    "\n",
    "# Drop NaN\n",
    "gametags = gamegenres[gamegenres['tags'].notnull()]\n",
    "\n",
    "# Get unique lists\n",
    "tags = list(gametags['tags'].unique())\n",
    "\n",
    "# View first 5\n",
    "tags[:5]"
   ]
  },
  {
   "cell_type": "code",
   "execution_count": 265,
   "metadata": {},
   "outputs": [
    {
     "data": {
      "text/plain": [
       "\"['Strategy', 'Action', 'Indie', 'Casual', 'Simulation'],['Free to Play', 'Strategy', 'Indie', 'RPG',\""
      ]
     },
     "execution_count": 265,
     "metadata": {},
     "output_type": "execute_result"
    }
   ],
   "source": [
    "# Combine all strings\n",
    "alltags = ','.join(tags)\n",
    "\n",
    "# Preview first 100 characters\n",
    "alltags[:100]"
   ]
  },
  {
   "cell_type": "code",
   "execution_count": 266,
   "metadata": {},
   "outputs": [
    {
     "data": {
      "text/plain": [
       "' Strategy, Action, Indie, Casual, Simulation, Free to Play, Strategy, Indie, RPG, Card Game, Trading'"
      ]
     },
     "execution_count": 266,
     "metadata": {},
     "output_type": "execute_result"
    }
   ],
   "source": [
    "# Replace chars\n",
    "alltags = alltags.replace(\"[\",\" \").replace(\"]\", \"\").replace(\"'\", \"\")\n",
    "\n",
    "# Check\n",
    "alltags[:100]"
   ]
  },
  {
   "cell_type": "code",
   "execution_count": 270,
   "metadata": {
    "scrolled": true
   },
   "outputs": [
    {
     "data": {
      "text/plain": [
       "['Strategy', ' Action', ' Indie', ' Casual', ' Simulation']"
      ]
     },
     "execution_count": 270,
     "metadata": {},
     "output_type": "execute_result"
    }
   ],
   "source": [
    "# Split\n",
    "splittags = alltags[1:].split(',')\n",
    "splittags[:5]"
   ]
  },
  {
   "cell_type": "code",
   "execution_count": 271,
   "metadata": {
    "scrolled": false
   },
   "outputs": [
    {
     "data": {
      "text/plain": [
       "337"
      ]
     },
     "execution_count": 271,
     "metadata": {},
     "output_type": "execute_result"
    }
   ],
   "source": [
    "# Use set to obtain unique values\n",
    "uniquetags = set(splittags)\n",
    "len(uniquetags)"
   ]
  },
  {
   "cell_type": "markdown",
   "metadata": {},
   "source": [
    "### Top publishers"
   ]
  },
  {
   "cell_type": "code",
   "execution_count": 8,
   "metadata": {},
   "outputs": [],
   "source": [
    "# Select entries where publisher is non-null\n",
    "data = gamesdata[gamesdata['publisher'].notnull()]"
   ]
  },
  {
   "cell_type": "code",
   "execution_count": 9,
   "metadata": {},
   "outputs": [],
   "source": [
    "# Create dictionary\n",
    "game_publishers = {}\n",
    "for publisher in list(data['publisher']):\n",
    "    if not publisher in game_publishers:\n",
    "        game_publishers[publisher] = 1\n",
    "    else:\n",
    "        game_publishers[publisher] += 1"
   ]
  },
  {
   "cell_type": "code",
   "execution_count": 10,
   "metadata": {
    "scrolled": false
   },
   "outputs": [
    {
     "data": {
      "text/plain": [
       "{'Ubisoft': 385,\n",
       " 'Dovetail Games - Trains': 360,\n",
       " 'Degica': 286,\n",
       " 'Paradox Interactive': 271,\n",
       " 'SEGA': 251,\n",
       " 'Dovetail Games - Flight': 220,\n",
       " 'KOEI TECMO GAMES CO., LTD.': 208,\n",
       " 'Activision': 202,\n",
       " 'Big Fish Games': 195,\n",
       " 'KISS ltd': 189}"
      ]
     },
     "execution_count": 10,
     "metadata": {},
     "output_type": "execute_result"
    }
   ],
   "source": [
    "# Get top 10 publishers\n",
    "top10_publishers = dict(Counter(game_publishers).most_common(10))\n",
    "top10_publishers"
   ]
  },
  {
   "cell_type": "code",
   "execution_count": 11,
   "metadata": {},
   "outputs": [
    {
     "data": {
      "image/png": "[encoded data removed]",
      "text/plain": [
       "<Figure size 576x288 with 1 Axes>"
      ]
     },
     "metadata": {
      "needs_background": "light"
     },
     "output_type": "display_data"
    }
   ],
   "source": [
    "# Prepare for bar chart plot\n",
    "top10_publishers = dict(sorted(Counter(game_publishers).most_common(10), key=lambda x:x[1]))\n",
    "\n",
    "# Plots most popular publishers\n",
    "fig = plt.figure(figsize = (8,4))\n",
    "plt.barh(range(len(top10_publishers)), list(top10_publishers.values()), align='center')\n",
    "plt.yticks(range(len(top10_publishers)), list(top10_publishers.keys()), fontsize=12)\n",
    "plt.title(\"Most Popular Publishers\", fontsize=12, fontweight= 22)\n",
    "plt.show()"
   ]
  },
  {
   "cell_type": "code",
   "execution_count": null,
   "metadata": {},
   "outputs": [],
   "source": []
  }
 ],
 "metadata": {
  "kernelspec": {
   "display_name": "Python 3",
   "language": "python",
   "name": "python3"
  },
  "language_info": {
   "codemirror_mode": {
    "name": "ipython",
    "version": 3
   },
   "file_extension": ".py",
   "mimetype": "text/x-python",
   "name": "python",
   "nbconvert_exporter": "python",
   "pygments_lexer": "ipython3",
   "version": "3.6.9"
  },
  "toc": {
   "base_numbering": 1,
   "nav_menu": {},
   "number_sections": true,
   "sideBar": true,
   "skip_h1_title": true,
   "title_cell": "Table of Contents",
   "title_sidebar": "Contents",
   "toc_cell": false,
   "toc_position": {
    "height": "calc(100% - 180px)",
    "left": "10px",
    "top": "150px",
    "width": "277.188px"
   },
   "toc_section_display": true,
   "toc_window_display": true
  }
 },
 "nbformat": 4,
 "nbformat_minor": 2
}
