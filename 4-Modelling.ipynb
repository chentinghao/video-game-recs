{
 "cells": [
  {
   "cell_type": "markdown",
   "metadata": {},
   "source": [
    "# Modelling"
   ]
  },
  {
   "cell_type": "code",
   "execution_count": 98,
   "metadata": {},
   "outputs": [],
   "source": [
    "import pandas as pd\n",
    "import numpy as np\n",
    "\n",
    "from scipy import sparse\n",
    "\n",
    "from lightfm import LightFM\n",
    "from sklearn.metrics.pairwise import cosine_similarity\n",
    "from lightfm.evaluation import precision_at_k\n",
    "from lightfm.evaluation import auc_score\n",
    "\n",
    "from scipy.spatial import distance\n",
    "\n",
    "from gensim.models.keyedvectors import WordEmbeddingsKeyedVectors\n",
    "\n",
    "\n",
    "from resources import *\n",
    "\n",
    "#Import Warnings\n",
    "import warnings\n",
    "warnings.filterwarnings(\"ignore\")"
   ]
  },
  {
   "cell_type": "code",
   "execution_count": 2,
   "metadata": {},
   "outputs": [],
   "source": [
    "%run resources.py"
   ]
  },
  {
   "cell_type": "markdown",
   "metadata": {},
   "source": [
    "## Load data"
   ]
  },
  {
   "cell_type": "code",
   "execution_count": 3,
   "metadata": {
    "scrolled": true
   },
   "outputs": [
    {
     "data": {
      "text/html": [
       "<div>\n",
       "<style scoped>\n",
       "    .dataframe tbody tr th:only-of-type {\n",
       "        vertical-align: middle;\n",
       "    }\n",
       "\n",
       "    .dataframe tbody tr th {\n",
       "        vertical-align: top;\n",
       "    }\n",
       "\n",
       "    .dataframe thead th {\n",
       "        text-align: right;\n",
       "    }\n",
       "</style>\n",
       "<table border=\"1\" class=\"dataframe\">\n",
       "  <thead>\n",
       "    <tr style=\"text-align: right;\">\n",
       "      <th></th>\n",
       "      <th>id</th>\n",
       "      <th>uid</th>\n",
       "      <th>owned</th>\n",
       "    </tr>\n",
       "  </thead>\n",
       "  <tbody>\n",
       "    <tr>\n",
       "      <td>0</td>\n",
       "      <td>10</td>\n",
       "      <td>0</td>\n",
       "      <td>1.0</td>\n",
       "    </tr>\n",
       "    <tr>\n",
       "      <td>1</td>\n",
       "      <td>10</td>\n",
       "      <td>1</td>\n",
       "      <td>1.0</td>\n",
       "    </tr>\n",
       "    <tr>\n",
       "      <td>2</td>\n",
       "      <td>10</td>\n",
       "      <td>3</td>\n",
       "      <td>1.0</td>\n",
       "    </tr>\n",
       "    <tr>\n",
       "      <td>3</td>\n",
       "      <td>10</td>\n",
       "      <td>4</td>\n",
       "      <td>1.0</td>\n",
       "    </tr>\n",
       "    <tr>\n",
       "      <td>4</td>\n",
       "      <td>10</td>\n",
       "      <td>10</td>\n",
       "      <td>1.0</td>\n",
       "    </tr>\n",
       "  </tbody>\n",
       "</table>\n",
       "</div>"
      ],
      "text/plain": [
       "   id  uid  owned\n",
       "0  10    0    1.0\n",
       "1  10    1    1.0\n",
       "2  10    3    1.0\n",
       "3  10    4    1.0\n",
       "4  10   10    1.0"
      ]
     },
     "execution_count": 3,
     "metadata": {},
     "output_type": "execute_result"
    }
   ],
   "source": [
    "# Load user items data\n",
    "recdata = pd.read_csv('../Data/steam/recdata.csv', index_col=0)\n",
    "recdata = recdata.rename(columns = {'variable':'id', 'value': 'owned'})\n",
    "recdata.head()"
   ]
  },
  {
   "cell_type": "code",
   "execution_count": 4,
   "metadata": {
    "scrolled": false
   },
   "outputs": [
    {
     "data": {
      "text/html": [
       "<div>\n",
       "<style scoped>\n",
       "    .dataframe tbody tr th:only-of-type {\n",
       "        vertical-align: middle;\n",
       "    }\n",
       "\n",
       "    .dataframe tbody tr th {\n",
       "        vertical-align: top;\n",
       "    }\n",
       "\n",
       "    .dataframe thead th {\n",
       "        text-align: right;\n",
       "    }\n",
       "</style>\n",
       "<table border=\"1\" class=\"dataframe\">\n",
       "  <thead>\n",
       "    <tr style=\"text-align: right;\">\n",
       "      <th></th>\n",
       "      <th>title</th>\n",
       "      <th>id</th>\n",
       "    </tr>\n",
       "  </thead>\n",
       "  <tbody>\n",
       "    <tr>\n",
       "      <td>0</td>\n",
       "      <td>Lost Summoner Kitty</td>\n",
       "      <td>761140.0</td>\n",
       "    </tr>\n",
       "    <tr>\n",
       "      <td>1</td>\n",
       "      <td>Ironbound</td>\n",
       "      <td>643980.0</td>\n",
       "    </tr>\n",
       "    <tr>\n",
       "      <td>2</td>\n",
       "      <td>Real Pool 3D - Poolians</td>\n",
       "      <td>670290.0</td>\n",
       "    </tr>\n",
       "    <tr>\n",
       "      <td>3</td>\n",
       "      <td>弹炸人2222</td>\n",
       "      <td>767400.0</td>\n",
       "    </tr>\n",
       "    <tr>\n",
       "      <td>4</td>\n",
       "      <td>NaN</td>\n",
       "      <td>773570.0</td>\n",
       "    </tr>\n",
       "  </tbody>\n",
       "</table>\n",
       "</div>"
      ],
      "text/plain": [
       "                     title        id\n",
       "0      Lost Summoner Kitty  761140.0\n",
       "1                Ironbound  643980.0\n",
       "2  Real Pool 3D - Poolians  670290.0\n",
       "3                  弹炸人2222  767400.0\n",
       "4                      NaN  773570.0"
      ]
     },
     "execution_count": 4,
     "metadata": {},
     "output_type": "execute_result"
    }
   ],
   "source": [
    "# Load game names data\n",
    "games = pd.read_csv('../Data/steam/gamenames.csv', index_col = 0)\n",
    "games.head()"
   ]
  },
  {
   "cell_type": "code",
   "execution_count": 5,
   "metadata": {},
   "outputs": [
    {
     "data": {
      "text/html": [
       "<div>\n",
       "<style scoped>\n",
       "    .dataframe tbody tr th:only-of-type {\n",
       "        vertical-align: middle;\n",
       "    }\n",
       "\n",
       "    .dataframe tbody tr th {\n",
       "        vertical-align: top;\n",
       "    }\n",
       "\n",
       "    .dataframe thead th {\n",
       "        text-align: right;\n",
       "    }\n",
       "</style>\n",
       "<table border=\"1\" class=\"dataframe\">\n",
       "  <thead>\n",
       "    <tr style=\"text-align: right;\">\n",
       "      <th></th>\n",
       "      <th>publisher</th>\n",
       "      <th>genres</th>\n",
       "      <th>app_name</th>\n",
       "      <th>title</th>\n",
       "      <th>url</th>\n",
       "      <th>release_date</th>\n",
       "      <th>tags</th>\n",
       "      <th>discount_price</th>\n",
       "      <th>reviews_url</th>\n",
       "      <th>specs</th>\n",
       "      <th>price</th>\n",
       "      <th>early_access</th>\n",
       "      <th>id</th>\n",
       "      <th>developer</th>\n",
       "      <th>sentiment</th>\n",
       "      <th>metascore</th>\n",
       "    </tr>\n",
       "  </thead>\n",
       "  <tbody>\n",
       "    <tr>\n",
       "      <td>0</td>\n",
       "      <td>Kotoshiro</td>\n",
       "      <td>['Action', 'Casual', 'Indie', 'Simulation', 'S...</td>\n",
       "      <td>Lost Summoner Kitty</td>\n",
       "      <td>Lost Summoner Kitty</td>\n",
       "      <td>http://store.steampowered.com/app/761140/Lost_...</td>\n",
       "      <td>2018-01-04</td>\n",
       "      <td>['Strategy', 'Action', 'Indie', 'Casual', 'Sim...</td>\n",
       "      <td>4.49</td>\n",
       "      <td>http://steamcommunity.com/app/761140/reviews/?...</td>\n",
       "      <td>['Single-player']</td>\n",
       "      <td>4.99</td>\n",
       "      <td>False</td>\n",
       "      <td>761140.0</td>\n",
       "      <td>Kotoshiro</td>\n",
       "      <td>NaN</td>\n",
       "      <td>NaN</td>\n",
       "    </tr>\n",
       "    <tr>\n",
       "      <td>1</td>\n",
       "      <td>Making Fun, Inc.</td>\n",
       "      <td>['Free to Play', 'Indie', 'RPG', 'Strategy']</td>\n",
       "      <td>Ironbound</td>\n",
       "      <td>Ironbound</td>\n",
       "      <td>http://store.steampowered.com/app/643980/Ironb...</td>\n",
       "      <td>2018-01-04</td>\n",
       "      <td>['Free to Play', 'Strategy', 'Indie', 'RPG', '...</td>\n",
       "      <td>NaN</td>\n",
       "      <td>http://steamcommunity.com/app/643980/reviews/?...</td>\n",
       "      <td>['Single-player', 'Multi-player', 'Online Mult...</td>\n",
       "      <td>Free To Play</td>\n",
       "      <td>False</td>\n",
       "      <td>643980.0</td>\n",
       "      <td>Secret Level SRL</td>\n",
       "      <td>Mostly Positive</td>\n",
       "      <td>NaN</td>\n",
       "    </tr>\n",
       "    <tr>\n",
       "      <td>2</td>\n",
       "      <td>Poolians.com</td>\n",
       "      <td>['Casual', 'Free to Play', 'Indie', 'Simulatio...</td>\n",
       "      <td>Real Pool 3D - Poolians</td>\n",
       "      <td>Real Pool 3D - Poolians</td>\n",
       "      <td>http://store.steampowered.com/app/670290/Real_...</td>\n",
       "      <td>2017-07-24</td>\n",
       "      <td>['Free to Play', 'Simulation', 'Sports', 'Casu...</td>\n",
       "      <td>NaN</td>\n",
       "      <td>http://steamcommunity.com/app/670290/reviews/?...</td>\n",
       "      <td>['Single-player', 'Multi-player', 'Online Mult...</td>\n",
       "      <td>Free to Play</td>\n",
       "      <td>False</td>\n",
       "      <td>670290.0</td>\n",
       "      <td>Poolians.com</td>\n",
       "      <td>Mostly Positive</td>\n",
       "      <td>NaN</td>\n",
       "    </tr>\n",
       "    <tr>\n",
       "      <td>3</td>\n",
       "      <td>彼岸领域</td>\n",
       "      <td>['Action', 'Adventure', 'Casual']</td>\n",
       "      <td>弹炸人2222</td>\n",
       "      <td>弹炸人2222</td>\n",
       "      <td>http://store.steampowered.com/app/767400/2222/</td>\n",
       "      <td>2017-12-07</td>\n",
       "      <td>['Action', 'Adventure', 'Casual']</td>\n",
       "      <td>0.83</td>\n",
       "      <td>http://steamcommunity.com/app/767400/reviews/?...</td>\n",
       "      <td>['Single-player']</td>\n",
       "      <td>0.99</td>\n",
       "      <td>False</td>\n",
       "      <td>767400.0</td>\n",
       "      <td>彼岸领域</td>\n",
       "      <td>NaN</td>\n",
       "      <td>NaN</td>\n",
       "    </tr>\n",
       "    <tr>\n",
       "      <td>4</td>\n",
       "      <td>NaN</td>\n",
       "      <td>NaN</td>\n",
       "      <td>Log Challenge</td>\n",
       "      <td>NaN</td>\n",
       "      <td>http://store.steampowered.com/app/773570/Log_C...</td>\n",
       "      <td>NaN</td>\n",
       "      <td>['Action', 'Indie', 'Casual', 'Sports']</td>\n",
       "      <td>1.79</td>\n",
       "      <td>http://steamcommunity.com/app/773570/reviews/?...</td>\n",
       "      <td>['Single-player', 'Full controller support', '...</td>\n",
       "      <td>2.99</td>\n",
       "      <td>False</td>\n",
       "      <td>773570.0</td>\n",
       "      <td>NaN</td>\n",
       "      <td>NaN</td>\n",
       "      <td>NaN</td>\n",
       "    </tr>\n",
       "  </tbody>\n",
       "</table>\n",
       "</div>"
      ],
      "text/plain": [
       "          publisher                                             genres  \\\n",
       "0         Kotoshiro  ['Action', 'Casual', 'Indie', 'Simulation', 'S...   \n",
       "1  Making Fun, Inc.       ['Free to Play', 'Indie', 'RPG', 'Strategy']   \n",
       "2      Poolians.com  ['Casual', 'Free to Play', 'Indie', 'Simulatio...   \n",
       "3              彼岸领域                  ['Action', 'Adventure', 'Casual']   \n",
       "4               NaN                                                NaN   \n",
       "\n",
       "                  app_name                    title  \\\n",
       "0      Lost Summoner Kitty      Lost Summoner Kitty   \n",
       "1                Ironbound                Ironbound   \n",
       "2  Real Pool 3D - Poolians  Real Pool 3D - Poolians   \n",
       "3                  弹炸人2222                  弹炸人2222   \n",
       "4            Log Challenge                      NaN   \n",
       "\n",
       "                                                 url release_date  \\\n",
       "0  http://store.steampowered.com/app/761140/Lost_...   2018-01-04   \n",
       "1  http://store.steampowered.com/app/643980/Ironb...   2018-01-04   \n",
       "2  http://store.steampowered.com/app/670290/Real_...   2017-07-24   \n",
       "3     http://store.steampowered.com/app/767400/2222/   2017-12-07   \n",
       "4  http://store.steampowered.com/app/773570/Log_C...          NaN   \n",
       "\n",
       "                                                tags  discount_price  \\\n",
       "0  ['Strategy', 'Action', 'Indie', 'Casual', 'Sim...            4.49   \n",
       "1  ['Free to Play', 'Strategy', 'Indie', 'RPG', '...             NaN   \n",
       "2  ['Free to Play', 'Simulation', 'Sports', 'Casu...             NaN   \n",
       "3                  ['Action', 'Adventure', 'Casual']            0.83   \n",
       "4            ['Action', 'Indie', 'Casual', 'Sports']            1.79   \n",
       "\n",
       "                                         reviews_url  \\\n",
       "0  http://steamcommunity.com/app/761140/reviews/?...   \n",
       "1  http://steamcommunity.com/app/643980/reviews/?...   \n",
       "2  http://steamcommunity.com/app/670290/reviews/?...   \n",
       "3  http://steamcommunity.com/app/767400/reviews/?...   \n",
       "4  http://steamcommunity.com/app/773570/reviews/?...   \n",
       "\n",
       "                                               specs         price  \\\n",
       "0                                  ['Single-player']          4.99   \n",
       "1  ['Single-player', 'Multi-player', 'Online Mult...  Free To Play   \n",
       "2  ['Single-player', 'Multi-player', 'Online Mult...  Free to Play   \n",
       "3                                  ['Single-player']          0.99   \n",
       "4  ['Single-player', 'Full controller support', '...          2.99   \n",
       "\n",
       "   early_access        id         developer        sentiment  metascore  \n",
       "0         False  761140.0         Kotoshiro              NaN        NaN  \n",
       "1         False  643980.0  Secret Level SRL  Mostly Positive        NaN  \n",
       "2         False  670290.0      Poolians.com  Mostly Positive        NaN  \n",
       "3         False  767400.0              彼岸领域              NaN        NaN  \n",
       "4         False  773570.0               NaN              NaN        NaN  "
      ]
     },
     "execution_count": 5,
     "metadata": {},
     "output_type": "execute_result"
    }
   ],
   "source": [
    "# Load game names data\n",
    "gamesdata = pd.read_csv('gamesdata.csv', index_col = 0)\n",
    "gamesdata.head()"
   ]
  },
  {
   "cell_type": "markdown",
   "metadata": {},
   "source": [
    "## Additional Preprocessing"
   ]
  },
  {
   "cell_type": "markdown",
   "metadata": {},
   "source": [
    "### Create interaction matrix"
   ]
  },
  {
   "cell_type": "code",
   "execution_count": 6,
   "metadata": {},
   "outputs": [
    {
     "data": {
      "text/plain": [
       "(69277, 8791)"
      ]
     },
     "execution_count": 6,
     "metadata": {},
     "output_type": "execute_result"
    }
   ],
   "source": [
    "# Use create_interaction_matrix function\n",
    "interactions = create_interaction_matrix(df = recdata,\n",
    "                                         user_col = 'uid',\n",
    "                                         item_col = 'id',\n",
    "                                         rating_col = 'owned')\n",
    "interactions.shape"
   ]
  },
  {
   "cell_type": "code",
   "execution_count": 7,
   "metadata": {
    "scrolled": false
   },
   "outputs": [
    {
     "data": {
      "text/html": [
       "<div>\n",
       "<style scoped>\n",
       "    .dataframe tbody tr th:only-of-type {\n",
       "        vertical-align: middle;\n",
       "    }\n",
       "\n",
       "    .dataframe tbody tr th {\n",
       "        vertical-align: top;\n",
       "    }\n",
       "\n",
       "    .dataframe thead th {\n",
       "        text-align: right;\n",
       "    }\n",
       "</style>\n",
       "<table border=\"1\" class=\"dataframe\">\n",
       "  <thead>\n",
       "    <tr style=\"text-align: right;\">\n",
       "      <th>id</th>\n",
       "      <th>10</th>\n",
       "      <th>20</th>\n",
       "      <th>30</th>\n",
       "      <th>40</th>\n",
       "      <th>50</th>\n",
       "      <th>60</th>\n",
       "      <th>70</th>\n",
       "      <th>80</th>\n",
       "      <th>130</th>\n",
       "      <th>220</th>\n",
       "      <th>...</th>\n",
       "      <th>526790</th>\n",
       "      <th>527340</th>\n",
       "      <th>527440</th>\n",
       "      <th>527510</th>\n",
       "      <th>527520</th>\n",
       "      <th>527810</th>\n",
       "      <th>527890</th>\n",
       "      <th>527900</th>\n",
       "      <th>528660</th>\n",
       "      <th>530720</th>\n",
       "    </tr>\n",
       "    <tr>\n",
       "      <th>uid</th>\n",
       "      <th></th>\n",
       "      <th></th>\n",
       "      <th></th>\n",
       "      <th></th>\n",
       "      <th></th>\n",
       "      <th></th>\n",
       "      <th></th>\n",
       "      <th></th>\n",
       "      <th></th>\n",
       "      <th></th>\n",
       "      <th></th>\n",
       "      <th></th>\n",
       "      <th></th>\n",
       "      <th></th>\n",
       "      <th></th>\n",
       "      <th></th>\n",
       "      <th></th>\n",
       "      <th></th>\n",
       "      <th></th>\n",
       "      <th></th>\n",
       "      <th></th>\n",
       "    </tr>\n",
       "  </thead>\n",
       "  <tbody>\n",
       "    <tr>\n",
       "      <td>0</td>\n",
       "      <td>1.0</td>\n",
       "      <td>1.0</td>\n",
       "      <td>1.0</td>\n",
       "      <td>1.0</td>\n",
       "      <td>1.0</td>\n",
       "      <td>1.0</td>\n",
       "      <td>1.0</td>\n",
       "      <td>0.0</td>\n",
       "      <td>1.0</td>\n",
       "      <td>1.0</td>\n",
       "      <td>...</td>\n",
       "      <td>0.0</td>\n",
       "      <td>0.0</td>\n",
       "      <td>0.0</td>\n",
       "      <td>0.0</td>\n",
       "      <td>0.0</td>\n",
       "      <td>0.0</td>\n",
       "      <td>0.0</td>\n",
       "      <td>0.0</td>\n",
       "      <td>0.0</td>\n",
       "      <td>0.0</td>\n",
       "    </tr>\n",
       "    <tr>\n",
       "      <td>1</td>\n",
       "      <td>1.0</td>\n",
       "      <td>1.0</td>\n",
       "      <td>1.0</td>\n",
       "      <td>1.0</td>\n",
       "      <td>1.0</td>\n",
       "      <td>1.0</td>\n",
       "      <td>1.0</td>\n",
       "      <td>1.0</td>\n",
       "      <td>1.0</td>\n",
       "      <td>1.0</td>\n",
       "      <td>...</td>\n",
       "      <td>0.0</td>\n",
       "      <td>0.0</td>\n",
       "      <td>0.0</td>\n",
       "      <td>0.0</td>\n",
       "      <td>0.0</td>\n",
       "      <td>0.0</td>\n",
       "      <td>0.0</td>\n",
       "      <td>0.0</td>\n",
       "      <td>0.0</td>\n",
       "      <td>0.0</td>\n",
       "    </tr>\n",
       "    <tr>\n",
       "      <td>2</td>\n",
       "      <td>0.0</td>\n",
       "      <td>0.0</td>\n",
       "      <td>0.0</td>\n",
       "      <td>0.0</td>\n",
       "      <td>0.0</td>\n",
       "      <td>0.0</td>\n",
       "      <td>0.0</td>\n",
       "      <td>0.0</td>\n",
       "      <td>0.0</td>\n",
       "      <td>1.0</td>\n",
       "      <td>...</td>\n",
       "      <td>0.0</td>\n",
       "      <td>0.0</td>\n",
       "      <td>0.0</td>\n",
       "      <td>0.0</td>\n",
       "      <td>0.0</td>\n",
       "      <td>0.0</td>\n",
       "      <td>0.0</td>\n",
       "      <td>0.0</td>\n",
       "      <td>0.0</td>\n",
       "      <td>0.0</td>\n",
       "    </tr>\n",
       "    <tr>\n",
       "      <td>3</td>\n",
       "      <td>1.0</td>\n",
       "      <td>1.0</td>\n",
       "      <td>1.0</td>\n",
       "      <td>1.0</td>\n",
       "      <td>1.0</td>\n",
       "      <td>1.0</td>\n",
       "      <td>1.0</td>\n",
       "      <td>1.0</td>\n",
       "      <td>1.0</td>\n",
       "      <td>1.0</td>\n",
       "      <td>...</td>\n",
       "      <td>0.0</td>\n",
       "      <td>0.0</td>\n",
       "      <td>0.0</td>\n",
       "      <td>0.0</td>\n",
       "      <td>0.0</td>\n",
       "      <td>0.0</td>\n",
       "      <td>0.0</td>\n",
       "      <td>0.0</td>\n",
       "      <td>0.0</td>\n",
       "      <td>0.0</td>\n",
       "    </tr>\n",
       "    <tr>\n",
       "      <td>4</td>\n",
       "      <td>1.0</td>\n",
       "      <td>1.0</td>\n",
       "      <td>1.0</td>\n",
       "      <td>1.0</td>\n",
       "      <td>1.0</td>\n",
       "      <td>1.0</td>\n",
       "      <td>1.0</td>\n",
       "      <td>1.0</td>\n",
       "      <td>1.0</td>\n",
       "      <td>1.0</td>\n",
       "      <td>...</td>\n",
       "      <td>0.0</td>\n",
       "      <td>0.0</td>\n",
       "      <td>0.0</td>\n",
       "      <td>0.0</td>\n",
       "      <td>0.0</td>\n",
       "      <td>0.0</td>\n",
       "      <td>0.0</td>\n",
       "      <td>0.0</td>\n",
       "      <td>0.0</td>\n",
       "      <td>0.0</td>\n",
       "    </tr>\n",
       "  </tbody>\n",
       "</table>\n",
       "<p>5 rows × 8791 columns</p>\n",
       "</div>"
      ],
      "text/plain": [
       "id   10      20      30      40      50      60      70      80      130     \\\n",
       "uid                                                                           \n",
       "0       1.0     1.0     1.0     1.0     1.0     1.0     1.0     0.0     1.0   \n",
       "1       1.0     1.0     1.0     1.0     1.0     1.0     1.0     1.0     1.0   \n",
       "2       0.0     0.0     0.0     0.0     0.0     0.0     0.0     0.0     0.0   \n",
       "3       1.0     1.0     1.0     1.0     1.0     1.0     1.0     1.0     1.0   \n",
       "4       1.0     1.0     1.0     1.0     1.0     1.0     1.0     1.0     1.0   \n",
       "\n",
       "id   220     ...  526790  527340  527440  527510  527520  527810  527890  \\\n",
       "uid          ...                                                           \n",
       "0       1.0  ...     0.0     0.0     0.0     0.0     0.0     0.0     0.0   \n",
       "1       1.0  ...     0.0     0.0     0.0     0.0     0.0     0.0     0.0   \n",
       "2       1.0  ...     0.0     0.0     0.0     0.0     0.0     0.0     0.0   \n",
       "3       1.0  ...     0.0     0.0     0.0     0.0     0.0     0.0     0.0   \n",
       "4       1.0  ...     0.0     0.0     0.0     0.0     0.0     0.0     0.0   \n",
       "\n",
       "id   527900  528660  530720  \n",
       "uid                          \n",
       "0       0.0     0.0     0.0  \n",
       "1       0.0     0.0     0.0  \n",
       "2       0.0     0.0     0.0  \n",
       "3       0.0     0.0     0.0  \n",
       "4       0.0     0.0     0.0  \n",
       "\n",
       "[5 rows x 8791 columns]"
      ]
     },
     "execution_count": 7,
     "metadata": {},
     "output_type": "execute_result"
    }
   ],
   "source": [
    "interactions.head()"
   ]
  },
  {
   "cell_type": "code",
   "execution_count": 8,
   "metadata": {
    "scrolled": false
   },
   "outputs": [
    {
     "data": {
      "text/plain": [
       "pandas.core.frame.DataFrame"
      ]
     },
     "execution_count": 8,
     "metadata": {},
     "output_type": "execute_result"
    }
   ],
   "source": [
    "type(interactions)"
   ]
  },
  {
   "cell_type": "markdown",
   "metadata": {},
   "source": [
    "### Train test split"
   ]
  },
  {
   "cell_type": "code",
   "execution_count": 9,
   "metadata": {},
   "outputs": [
    {
     "data": {
      "text/plain": [
       "69277"
      ]
     },
     "execution_count": 9,
     "metadata": {},
     "output_type": "execute_result"
    }
   ],
   "source": [
    "# Get number of users\n",
    "len(interactions)"
   ]
  },
  {
   "cell_type": "code",
   "execution_count": 10,
   "metadata": {},
   "outputs": [
    {
     "name": "stdout",
     "output_type": "stream",
     "text": [
      "We desire 55422.0 users in our training set.\n",
      "We desire 13855.0 users in our test set.\n"
     ]
    }
   ],
   "source": [
    "# Establish number of users in train/test sets\n",
    "\n",
    "train_num = round((80/100)*len(interactions),0)\n",
    "print(f'We desire {train_num} users in our training set.')\n",
    "\n",
    "test_num = len(interactions)-train_num\n",
    "print(f'We desire {test_num} users in our test set.')"
   ]
  },
  {
   "cell_type": "code",
   "execution_count": 11,
   "metadata": {},
   "outputs": [],
   "source": [
    "# Define train and test sets\n",
    "train = interactions[:55422]\n",
    "test = interactions[55422:]"
   ]
  },
  {
   "cell_type": "markdown",
   "metadata": {},
   "source": [
    "### Create user dictionary"
   ]
  },
  {
   "cell_type": "code",
   "execution_count": 12,
   "metadata": {
    "scrolled": false
   },
   "outputs": [],
   "source": [
    "# Create user dictionary using helper function\n",
    "user_dict = create_user_dict(interactions=interactions)"
   ]
  },
  {
   "cell_type": "markdown",
   "metadata": {},
   "source": [
    "### Create item dictionary"
   ]
  },
  {
   "cell_type": "code",
   "execution_count": 13,
   "metadata": {},
   "outputs": [],
   "source": [
    "# Create game dictionary using helper function\n",
    "games_dict = create_item_dict(df = gamesdata, id_col = 'id', name_col = 'title')"
   ]
  },
  {
   "cell_type": "markdown",
   "metadata": {},
   "source": [
    "### Create sparse matrices"
   ]
  },
  {
   "cell_type": "code",
   "execution_count": 14,
   "metadata": {},
   "outputs": [],
   "source": [
    "# Create sparse matrices for evaluation \n",
    "train_sparse = sparse.csr_matrix(train.values)\n",
    "\n",
    "#Add X users to Test so that the number of rows in Train match Test\n",
    "N = train.shape[0] #Rows in Train set\n",
    "n,m = test.shape #Rows & columns in Test set\n",
    "z = np.zeros([(N-n),m]) #Create the necessary rows of zeros with m columns\n",
    "#test = test.toarray() #Temporarily convert Test into a numpy array\n",
    "test = np.vstack((test,z)) #Vertically stack Test on top of the blank users\n",
    "test_sparse = sparse.csr_matrix(test) #Convert back to sparse"
   ]
  },
  {
   "cell_type": "markdown",
   "metadata": {},
   "source": [
    "## Modelling using LightFM"
   ]
  },
  {
   "cell_type": "markdown",
   "metadata": {},
   "source": [
    "### WARP loss model"
   ]
  },
  {
   "cell_type": "code",
   "execution_count": 15,
   "metadata": {},
   "outputs": [],
   "source": [
    "# Instantiate and fit model\n",
    "mf_model_warp = run_model(interactions = train,\n",
    "                 n_components = 30,\n",
    "                 loss = 'warp',\n",
    "                 epoch = 30,\n",
    "                 n_jobs = 4)"
   ]
  },
  {
   "cell_type": "code",
   "execution_count": 16,
   "metadata": {},
   "outputs": [
    {
     "name": "stdout",
     "output_type": "stream",
     "text": [
      "Precision: train 0.66, test 0.19.\n"
     ]
    }
   ],
   "source": [
    "# Get precision\n",
    "train_precision = precision_at_k(mf_model_warp, train_sparse, k=10).mean()\n",
    "test_precision = precision_at_k(mf_model_warp, test_sparse, k=10).mean()\n",
    "print('Precision: train %.2f, test %.2f.' % (train_precision, test_precision))"
   ]
  },
  {
   "cell_type": "code",
   "execution_count": 17,
   "metadata": {},
   "outputs": [
    {
     "name": "stdout",
     "output_type": "stream",
     "text": [
      "AUC: train 0.99, test 0.94.\n"
     ]
    }
   ],
   "source": [
    "# Get AUC\n",
    "train_auc = auc_score(mf_model_warp, train_sparse).mean()\n",
    "test_auc = auc_score(mf_model_warp, test_sparse).mean()\n",
    "print('AUC: train %.2f, test %.2f.' % (train_auc, test_auc))"
   ]
  },
  {
   "cell_type": "markdown",
   "metadata": {},
   "source": [
    "### BPR loss model"
   ]
  },
  {
   "cell_type": "code",
   "execution_count": 18,
   "metadata": {},
   "outputs": [],
   "source": [
    "# Instantiate and fit model\n",
    "mf_model_bpr = run_model(interactions = train,\n",
    "                 n_components = 30,\n",
    "                 loss = 'bpr',\n",
    "                 epoch = 30,\n",
    "                 n_jobs = 4)"
   ]
  },
  {
   "cell_type": "code",
   "execution_count": 19,
   "metadata": {},
   "outputs": [
    {
     "name": "stdout",
     "output_type": "stream",
     "text": [
      "Precision: train 0.75, test 0.15.\n"
     ]
    }
   ],
   "source": [
    "# Get precision\n",
    "train_precision = precision_at_k(mf_model_bpr, train_sparse, k=10).mean()\n",
    "test_precision = precision_at_k(mf_model_bpr, test_sparse, k=10).mean()\n",
    "print('Precision: train %.2f, test %.2f.' % (train_precision, test_precision))"
   ]
  },
  {
   "cell_type": "code",
   "execution_count": 20,
   "metadata": {
    "scrolled": true
   },
   "outputs": [
    {
     "name": "stdout",
     "output_type": "stream",
     "text": [
      "AUC: train 0.97, test 0.73.\n"
     ]
    }
   ],
   "source": [
    "# Get AUC\n",
    "train_auc = auc_score(mf_model_bpr, train_sparse).mean()\n",
    "test_auc = auc_score(mf_model_bpr, test_sparse).mean()\n",
    "print('AUC: train %.2f, test %.2f.' % (train_auc, test_auc))"
   ]
  },
  {
   "cell_type": "markdown",
   "metadata": {},
   "source": [
    "### Adjust num of components"
   ]
  },
  {
   "cell_type": "code",
   "execution_count": 21,
   "metadata": {},
   "outputs": [],
   "source": [
    "# Instantiate and fit model\n",
    "mf_model_warp_2 = run_model(interactions = train,\n",
    "                 n_components = 10,\n",
    "                 loss = 'warp',\n",
    "                 epoch = 30,\n",
    "                 n_jobs = 4)"
   ]
  },
  {
   "cell_type": "code",
   "execution_count": 22,
   "metadata": {},
   "outputs": [
    {
     "name": "stdout",
     "output_type": "stream",
     "text": [
      "Precision: train 0.60, test 0.22.\n"
     ]
    }
   ],
   "source": [
    "# Get precision\n",
    "train_precision = precision_at_k(mf_model_warp_2, train_sparse, k=10).mean()\n",
    "test_precision = precision_at_k(mf_model_warp_2, test_sparse, k=10).mean()\n",
    "print('Precision: train %.2f, test %.2f.' % (train_precision, test_precision))"
   ]
  },
  {
   "cell_type": "code",
   "execution_count": 23,
   "metadata": {},
   "outputs": [
    {
     "name": "stdout",
     "output_type": "stream",
     "text": [
      "AUC: train 0.98, test 0.95.\n"
     ]
    }
   ],
   "source": [
    "# Get AUC\n",
    "train_auc = auc_score(mf_model_warp_2, train_sparse).mean()\n",
    "test_auc = auc_score(mf_model_warp_2, test_sparse).mean()\n",
    "print('AUC: train %.2f, test %.2f.' % (train_auc, test_auc))"
   ]
  },
  {
   "cell_type": "code",
   "execution_count": 24,
   "metadata": {},
   "outputs": [],
   "source": [
    "# Instantiate and fit model\n",
    "mf_model_warp_50 = run_model(interactions = train,\n",
    "                 n_components = 50,\n",
    "                 loss = 'warp',\n",
    "                 epoch = 30,\n",
    "                 n_jobs = 4)"
   ]
  },
  {
   "cell_type": "code",
   "execution_count": 25,
   "metadata": {},
   "outputs": [
    {
     "name": "stdout",
     "output_type": "stream",
     "text": [
      "Precision: train 0.70, test 0.18.\n"
     ]
    }
   ],
   "source": [
    "# Get precision\n",
    "train_precision = precision_at_k(mf_model_warp_50, train_sparse, k=10).mean()\n",
    "test_precision = precision_at_k(mf_model_warp_50, test_sparse, k=10).mean()\n",
    "print('Precision: train %.2f, test %.2f.' % (train_precision, test_precision))"
   ]
  },
  {
   "cell_type": "code",
   "execution_count": 26,
   "metadata": {},
   "outputs": [
    {
     "name": "stdout",
     "output_type": "stream",
     "text": [
      "AUC: train 0.99, test 0.94.\n"
     ]
    }
   ],
   "source": [
    "# Get AUC\n",
    "train_auc = auc_score(mf_model_warp_50, train_sparse).mean()\n",
    "test_auc = auc_score(mf_model_warp_50, test_sparse).mean()\n",
    "print('AUC: train %.2f, test %.2f.' % (train_auc, test_auc))"
   ]
  },
  {
   "cell_type": "markdown",
   "metadata": {},
   "source": [
    "### Final model"
   ]
  },
  {
   "cell_type": "code",
   "execution_count": 27,
   "metadata": {},
   "outputs": [],
   "source": [
    "# Instantiate and fit model on full interactions set\n",
    "mf_model = run_model(interactions = interactions,\n",
    "                 n_components = 30,\n",
    "                 loss = 'warp',\n",
    "                 epoch = 30,\n",
    "                 n_jobs = 4)"
   ]
  },
  {
   "cell_type": "markdown",
   "metadata": {},
   "source": [
    "## Embeddings"
   ]
  },
  {
   "cell_type": "markdown",
   "metadata": {},
   "source": [
    "### Retrieve embeddings matrix"
   ]
  },
  {
   "cell_type": "code",
   "execution_count": 31,
   "metadata": {
    "scrolled": true
   },
   "outputs": [
    {
     "data": {
      "text/plain": [
       "array([[ 0.24690884, -0.60024494, -0.34321675, ...,  0.39954203,\n",
       "        -0.34470356,  0.6996237 ],\n",
       "       [ 1.013957  , -1.0958432 , -1.1673098 , ...,  1.5129188 ,\n",
       "        -1.0025263 ,  0.8605353 ],\n",
       "       [ 1.419911  , -0.76011163, -1.4812998 , ...,  1.0426521 ,\n",
       "        -0.58840156,  0.6917034 ],\n",
       "       ...,\n",
       "       [ 0.37666148,  0.06383109, -0.37983808, ...,  0.01275835,\n",
       "        -0.647543  , -0.5578531 ],\n",
       "       [ 0.31045482,  0.4377617 , -0.30335838, ..., -0.27258068,\n",
       "        -0.25924444, -0.29798537],\n",
       "       [ 0.8851168 , -0.1208554 , -0.43298256, ..., -0.08469868,\n",
       "        -0.27769536, -0.29746038]], dtype=float32)"
      ]
     },
     "execution_count": 31,
     "metadata": {},
     "output_type": "execute_result"
    }
   ],
   "source": [
    "# Get embeddings\n",
    "embeddings = mf_model.item_embeddings\n",
    "embeddings"
   ]
  },
  {
   "cell_type": "code",
   "execution_count": 32,
   "metadata": {},
   "outputs": [
    {
     "data": {
      "text/plain": [
       "(8791, 30)"
      ]
     },
     "execution_count": 32,
     "metadata": {},
     "output_type": "execute_result"
    }
   ],
   "source": [
    "# View shape\n",
    "embeddings.shape"
   ]
  },
  {
   "cell_type": "markdown",
   "metadata": {},
   "source": [
    "Our embeddings array has 8791 rows, with each row representing a game. Each row has 30 numbers, representing the components of our game embeddings. This is because we set `n_components` to be 30 in our model."
   ]
  },
  {
   "cell_type": "markdown",
   "metadata": {},
   "source": [
    "Let's investigate a sample game vector."
   ]
  },
  {
   "cell_type": "code",
   "execution_count": 39,
   "metadata": {
    "scrolled": true
   },
   "outputs": [
    {
     "data": {
      "text/plain": [
       "array([ 0.24690884, -0.60024494, -0.34321675,  0.18282364, -1.2370884 ,\n",
       "       -0.5774308 , -0.35622823,  0.54888403,  0.28783935, -0.828556  ,\n",
       "        0.35981768, -0.5272332 , -0.5084524 , -0.7428038 ,  0.12216418,\n",
       "        0.47244594, -0.52268714, -0.39862898, -1.503811  ,  1.1665981 ,\n",
       "       -0.24812686, -1.1389667 ,  1.6629837 , -0.37311617,  0.00638717,\n",
       "       -0.07876787, -0.08371691,  0.39954203, -0.34470356,  0.6996237 ],\n",
       "      dtype=float32)"
      ]
     },
     "execution_count": 39,
     "metadata": {},
     "output_type": "execute_result"
    }
   ],
   "source": [
    "embeddings[0]"
   ]
  },
  {
   "cell_type": "markdown",
   "metadata": {},
   "source": [
    "To retrieve the name of the game, we first look up the game id using our interactions matrix and then obtain the name using the games dictionary."
   ]
  },
  {
   "cell_type": "code",
   "execution_count": 53,
   "metadata": {
    "scrolled": true
   },
   "outputs": [
    {
     "data": {
      "text/plain": [
       "'Counter-Strike'"
      ]
     },
     "execution_count": 53,
     "metadata": {},
     "output_type": "execute_result"
    }
   ],
   "source": [
    "firstgameid = interactions.columns[0]\n",
    "games_dict[firstgameid]"
   ]
  },
  {
   "cell_type": "markdown",
   "metadata": {},
   "source": [
    "### Pair similarity"
   ]
  },
  {
   "cell_type": "markdown",
   "metadata": {},
   "source": [
    "Let us examine how close or distant pairs of games are in the embedding space. The embedding space can be interpreted as a distance metric and so we would expect similar games to have similar vectors.\n",
    "\n",
    "Our first game will be `Counter-Strike` as seen above. \n",
    "\n",
    "We would expect it to be similar to `Left 4 Dead 2`."
   ]
  },
  {
   "cell_type": "code",
   "execution_count": 86,
   "metadata": {},
   "outputs": [
    {
     "data": {
      "text/html": [
       "<div>\n",
       "<style scoped>\n",
       "    .dataframe tbody tr th:only-of-type {\n",
       "        vertical-align: middle;\n",
       "    }\n",
       "\n",
       "    .dataframe tbody tr th {\n",
       "        vertical-align: top;\n",
       "    }\n",
       "\n",
       "    .dataframe thead th {\n",
       "        text-align: right;\n",
       "    }\n",
       "</style>\n",
       "<table border=\"1\" class=\"dataframe\">\n",
       "  <thead>\n",
       "    <tr style=\"text-align: right;\">\n",
       "      <th></th>\n",
       "      <th>publisher</th>\n",
       "      <th>genres</th>\n",
       "      <th>app_name</th>\n",
       "      <th>title</th>\n",
       "      <th>url</th>\n",
       "      <th>release_date</th>\n",
       "      <th>tags</th>\n",
       "      <th>discount_price</th>\n",
       "      <th>reviews_url</th>\n",
       "      <th>specs</th>\n",
       "      <th>price</th>\n",
       "      <th>early_access</th>\n",
       "      <th>id</th>\n",
       "      <th>developer</th>\n",
       "      <th>sentiment</th>\n",
       "      <th>metascore</th>\n",
       "    </tr>\n",
       "  </thead>\n",
       "  <tbody>\n",
       "    <tr>\n",
       "      <td>31529</td>\n",
       "      <td>Valve</td>\n",
       "      <td>['Action']</td>\n",
       "      <td>Left 4 Dead 2</td>\n",
       "      <td>Left 4 Dead 2</td>\n",
       "      <td>http://store.steampowered.com/app/550/Left_4_D...</td>\n",
       "      <td>2009-11-16</td>\n",
       "      <td>['Zombies', 'Co-op', 'FPS', 'Multiplayer', 'Ac...</td>\n",
       "      <td>NaN</td>\n",
       "      <td>http://steamcommunity.com/app/550/reviews/?bro...</td>\n",
       "      <td>['Single-player', 'Multi-player', 'Co-op', 'St...</td>\n",
       "      <td>19.99</td>\n",
       "      <td>False</td>\n",
       "      <td>550.0</td>\n",
       "      <td>Valve</td>\n",
       "      <td>Overwhelmingly Positive</td>\n",
       "      <td>89.0</td>\n",
       "    </tr>\n",
       "    <tr>\n",
       "      <td>32106</td>\n",
       "      <td>Valve</td>\n",
       "      <td>['Action']</td>\n",
       "      <td>Counter-Strike</td>\n",
       "      <td>Counter-Strike</td>\n",
       "      <td>http://store.steampowered.com/app/10/CounterSt...</td>\n",
       "      <td>2000-11-01</td>\n",
       "      <td>['Action', 'FPS', 'Multiplayer', 'Shooter', 'C...</td>\n",
       "      <td>NaN</td>\n",
       "      <td>http://steamcommunity.com/app/10/reviews/?brow...</td>\n",
       "      <td>['Multi-player', 'Valve Anti-Cheat enabled']</td>\n",
       "      <td>9.99</td>\n",
       "      <td>False</td>\n",
       "      <td>10.0</td>\n",
       "      <td>Valve</td>\n",
       "      <td>Overwhelmingly Positive</td>\n",
       "      <td>88.0</td>\n",
       "    </tr>\n",
       "  </tbody>\n",
       "</table>\n",
       "</div>"
      ],
      "text/plain": [
       "      publisher      genres        app_name           title  \\\n",
       "31529     Valve  ['Action']   Left 4 Dead 2   Left 4 Dead 2   \n",
       "32106     Valve  ['Action']  Counter-Strike  Counter-Strike   \n",
       "\n",
       "                                                     url release_date  \\\n",
       "31529  http://store.steampowered.com/app/550/Left_4_D...   2009-11-16   \n",
       "32106  http://store.steampowered.com/app/10/CounterSt...   2000-11-01   \n",
       "\n",
       "                                                    tags  discount_price  \\\n",
       "31529  ['Zombies', 'Co-op', 'FPS', 'Multiplayer', 'Ac...             NaN   \n",
       "32106  ['Action', 'FPS', 'Multiplayer', 'Shooter', 'C...             NaN   \n",
       "\n",
       "                                             reviews_url  \\\n",
       "31529  http://steamcommunity.com/app/550/reviews/?bro...   \n",
       "32106  http://steamcommunity.com/app/10/reviews/?brow...   \n",
       "\n",
       "                                                   specs  price  early_access  \\\n",
       "31529  ['Single-player', 'Multi-player', 'Co-op', 'St...  19.99         False   \n",
       "32106       ['Multi-player', 'Valve Anti-Cheat enabled']   9.99         False   \n",
       "\n",
       "          id developer                sentiment  metascore  \n",
       "31529  550.0     Valve  Overwhelmingly Positive       89.0  \n",
       "32106   10.0     Valve  Overwhelmingly Positive       88.0  "
      ]
     },
     "execution_count": 86,
     "metadata": {},
     "output_type": "execute_result"
    }
   ],
   "source": [
    "# Get data for both games\n",
    "gamesdata[(gamesdata['title']=='Counter-Strike') | (gamesdata['title']=='Left 4 Dead 2') ]"
   ]
  },
  {
   "cell_type": "markdown",
   "metadata": {},
   "source": [
    "Let us look at the vectors for these two games."
   ]
  },
  {
   "cell_type": "code",
   "execution_count": 70,
   "metadata": {},
   "outputs": [
    {
     "data": {
      "text/plain": [
       "array([ 0.24690884, -0.60024494, -0.34321675,  0.18282364, -1.2370884 ,\n",
       "       -0.5774308 , -0.35622823,  0.54888403,  0.28783935, -0.828556  ,\n",
       "        0.35981768, -0.5272332 , -0.5084524 , -0.7428038 ,  0.12216418,\n",
       "        0.47244594, -0.52268714, -0.39862898, -1.503811  ,  1.1665981 ,\n",
       "       -0.24812686, -1.1389667 ,  1.6629837 , -0.37311617,  0.00638717,\n",
       "       -0.07876787, -0.08371691,  0.39954203, -0.34470356,  0.6996237 ],\n",
       "      dtype=float32)"
      ]
     },
     "execution_count": 70,
     "metadata": {},
     "output_type": "execute_result"
    }
   ],
   "source": [
    "# Set index for Counter-Strike\n",
    "cs_index = 0\n",
    "\n",
    "# Obtain embeddings vector \n",
    "cs_vector = embeddings[cs_index]\n",
    "\n",
    "cs_vector"
   ]
  },
  {
   "cell_type": "code",
   "execution_count": 76,
   "metadata": {
    "scrolled": false
   },
   "outputs": [
    {
     "data": {
      "text/plain": [
       "array([-0.47054738, -0.09553305,  0.3035873 , -0.04027557, -0.30052912,\n",
       "       -0.04460974, -0.430263  ,  0.3894665 , -0.16456904, -0.3458131 ,\n",
       "        0.02933553,  0.08092439, -0.44579884,  0.5828283 ,  0.12577946,\n",
       "        0.48369217, -0.32890347,  0.08169048,  0.05243007, -0.24915524,\n",
       "        0.33367637, -0.5070402 ,  0.1763026 , -0.35381997, -0.1324723 ,\n",
       "        0.40483642,  0.12619357,  0.31072268,  0.07221867,  0.37287298],\n",
       "      dtype=float32)"
      ]
     },
     "execution_count": 76,
     "metadata": {},
     "output_type": "execute_result"
    }
   ],
   "source": [
    "# Retrieve game id for LFD2\n",
    "lfd2_id = gamesdata[gamesdata['title']=='Left 4 Dead 2']['id'].values[0]\n",
    "\n",
    "# Obtain index for Squad in interactions matrix\n",
    "lfd2_index = list(interactions.columns).index(lfd2_id)\n",
    "\n",
    "# Obtain embeddings vector\n",
    "lfd2_vector = embeddings[lfd2_index]\n",
    "\n",
    "lfd2_vector"
   ]
  },
  {
   "cell_type": "markdown",
   "metadata": {},
   "source": [
    "To assign a single value to the similarity between these two vectors, we calculate the distance between them. Let us first compute the Euclidean distance."
   ]
  },
  {
   "cell_type": "code",
   "execution_count": 77,
   "metadata": {},
   "outputs": [
    {
     "data": {
      "text/plain": [
       "3.6518919467926025"
      ]
     },
     "execution_count": 77,
     "metadata": {},
     "output_type": "execute_result"
    }
   ],
   "source": [
    "# Compute Euclidean distance\n",
    "distance.euclidean(cs_vector, lfd2_vector)"
   ]
  },
  {
   "cell_type": "markdown",
   "metadata": {},
   "source": [
    "Let us compare this figure with a pair of games we believe to be very different."
   ]
  },
  {
   "cell_type": "code",
   "execution_count": 87,
   "metadata": {},
   "outputs": [
    {
     "data": {
      "text/html": [
       "<div>\n",
       "<style scoped>\n",
       "    .dataframe tbody tr th:only-of-type {\n",
       "        vertical-align: middle;\n",
       "    }\n",
       "\n",
       "    .dataframe tbody tr th {\n",
       "        vertical-align: top;\n",
       "    }\n",
       "\n",
       "    .dataframe thead th {\n",
       "        text-align: right;\n",
       "    }\n",
       "</style>\n",
       "<table border=\"1\" class=\"dataframe\">\n",
       "  <thead>\n",
       "    <tr style=\"text-align: right;\">\n",
       "      <th></th>\n",
       "      <th>publisher</th>\n",
       "      <th>genres</th>\n",
       "      <th>app_name</th>\n",
       "      <th>title</th>\n",
       "      <th>url</th>\n",
       "      <th>release_date</th>\n",
       "      <th>tags</th>\n",
       "      <th>discount_price</th>\n",
       "      <th>reviews_url</th>\n",
       "      <th>specs</th>\n",
       "      <th>price</th>\n",
       "      <th>early_access</th>\n",
       "      <th>id</th>\n",
       "      <th>developer</th>\n",
       "      <th>sentiment</th>\n",
       "      <th>metascore</th>\n",
       "    </tr>\n",
       "  </thead>\n",
       "  <tbody>\n",
       "    <tr>\n",
       "      <td>2472</td>\n",
       "      <td>Fireproof Games</td>\n",
       "      <td>['Adventure', 'Indie']</td>\n",
       "      <td>The Room</td>\n",
       "      <td>The Room</td>\n",
       "      <td>http://store.steampowered.com/app/288160/The_R...</td>\n",
       "      <td>2014-07-28</td>\n",
       "      <td>['Puzzle', 'Adventure', 'Point &amp; Click', 'Indi...</td>\n",
       "      <td>NaN</td>\n",
       "      <td>http://steamcommunity.com/app/288160/reviews/?...</td>\n",
       "      <td>['Single-player', 'Steam Achievements', 'Steam...</td>\n",
       "      <td>4.99</td>\n",
       "      <td>False</td>\n",
       "      <td>288160.0</td>\n",
       "      <td>Fireproof Games</td>\n",
       "      <td>Overwhelmingly Positive</td>\n",
       "      <td>73.0</td>\n",
       "    </tr>\n",
       "    <tr>\n",
       "      <td>32106</td>\n",
       "      <td>Valve</td>\n",
       "      <td>['Action']</td>\n",
       "      <td>Counter-Strike</td>\n",
       "      <td>Counter-Strike</td>\n",
       "      <td>http://store.steampowered.com/app/10/CounterSt...</td>\n",
       "      <td>2000-11-01</td>\n",
       "      <td>['Action', 'FPS', 'Multiplayer', 'Shooter', 'C...</td>\n",
       "      <td>NaN</td>\n",
       "      <td>http://steamcommunity.com/app/10/reviews/?brow...</td>\n",
       "      <td>['Multi-player', 'Valve Anti-Cheat enabled']</td>\n",
       "      <td>9.99</td>\n",
       "      <td>False</td>\n",
       "      <td>10.0</td>\n",
       "      <td>Valve</td>\n",
       "      <td>Overwhelmingly Positive</td>\n",
       "      <td>88.0</td>\n",
       "    </tr>\n",
       "  </tbody>\n",
       "</table>\n",
       "</div>"
      ],
      "text/plain": [
       "             publisher                  genres        app_name  \\\n",
       "2472   Fireproof Games  ['Adventure', 'Indie']        The Room   \n",
       "32106            Valve              ['Action']  Counter-Strike   \n",
       "\n",
       "                title                                                url  \\\n",
       "2472         The Room  http://store.steampowered.com/app/288160/The_R...   \n",
       "32106  Counter-Strike  http://store.steampowered.com/app/10/CounterSt...   \n",
       "\n",
       "      release_date                                               tags  \\\n",
       "2472    2014-07-28  ['Puzzle', 'Adventure', 'Point & Click', 'Indi...   \n",
       "32106   2000-11-01  ['Action', 'FPS', 'Multiplayer', 'Shooter', 'C...   \n",
       "\n",
       "       discount_price                                        reviews_url  \\\n",
       "2472              NaN  http://steamcommunity.com/app/288160/reviews/?...   \n",
       "32106             NaN  http://steamcommunity.com/app/10/reviews/?brow...   \n",
       "\n",
       "                                                   specs price  early_access  \\\n",
       "2472   ['Single-player', 'Steam Achievements', 'Steam...  4.99         False   \n",
       "32106       ['Multi-player', 'Valve Anti-Cheat enabled']  9.99         False   \n",
       "\n",
       "             id        developer                sentiment  metascore  \n",
       "2472   288160.0  Fireproof Games  Overwhelmingly Positive       73.0  \n",
       "32106      10.0            Valve  Overwhelmingly Positive       88.0  "
      ]
     },
     "execution_count": 87,
     "metadata": {},
     "output_type": "execute_result"
    }
   ],
   "source": [
    "# Get data for both games\n",
    "gamesdata[(gamesdata['title']=='Counter-Strike') | (gamesdata['title']=='The Room') ]"
   ]
  },
  {
   "cell_type": "code",
   "execution_count": 81,
   "metadata": {
    "scrolled": false
   },
   "outputs": [
    {
     "data": {
      "text/plain": [
       "array([ 0.18102524,  0.03450267, -0.49559462,  0.52064276, -0.13829972,\n",
       "       -0.6893131 , -0.10249795, -0.6738657 , -0.13697192,  0.5107905 ,\n",
       "       -0.69814545, -0.17198849,  0.00435968,  0.63461906,  0.9719135 ,\n",
       "        0.17290895,  0.71184224, -0.12161961,  0.43436503, -0.6281764 ,\n",
       "       -0.11903907, -0.1752168 ,  0.03669906, -0.4266076 , -0.34094498,\n",
       "        0.25538862,  0.28402406,  0.42189395, -0.7988556 ,  0.30456227],\n",
       "      dtype=float32)"
      ]
     },
     "execution_count": 81,
     "metadata": {},
     "output_type": "execute_result"
    }
   ],
   "source": [
    "# Retrieve game id for The Room\n",
    "room_id = gamesdata[gamesdata['title']=='The Room']['id'].values[0]\n",
    "\n",
    "# Obtain index for Squad in interactions matrix\n",
    "room_index = list(interactions.columns).index(room_id)\n",
    "\n",
    "# Obtain embeddings vector\n",
    "room_vector = embeddings[room_index]\n",
    "\n",
    "room_vector"
   ]
  },
  {
   "cell_type": "code",
   "execution_count": 82,
   "metadata": {
    "scrolled": false
   },
   "outputs": [
    {
     "data": {
      "text/plain": [
       "4.734748363494873"
      ]
     },
     "execution_count": 82,
     "metadata": {},
     "output_type": "execute_result"
    }
   ],
   "source": [
    "# Compute Euclidean distance\n",
    "distance.euclidean(cs_vector, room_vector)"
   ]
  },
  {
   "cell_type": "markdown",
   "metadata": {},
   "source": [
    "When looking at the similarity of embeddings, it is more common to look at cosine similarity. Cosine similarity ranges between -1 and 1 based on the angle between the vectors. From this figure, cosine distance is defined as 1 minus the cosine similarity and therefore a value between 0 and 2."
   ]
  },
  {
   "cell_type": "code",
   "execution_count": 97,
   "metadata": {
    "scrolled": true
   },
   "outputs": [
    {
     "name": "stdout",
     "output_type": "stream",
     "text": [
      "Cosine distance between Counter Strike and Left 4 Dead 2: 0.7091985046863556\n",
      "Cosine distance between Counter Strike and The Room: 1.108935683965683\n"
     ]
    }
   ],
   "source": [
    "print(f'Cosine distance between Counter Strike and Left 4 Dead 2: {distance.cosine(cs_vector, lfd2_vector)}')\n",
    "print(f'Cosine distance between Counter Strike and The Room: {distance.cosine(cs_vector, room_vector)}')"
   ]
  },
  {
   "cell_type": "markdown",
   "metadata": {},
   "source": [
    "### Exploring embeddings with Gensim"
   ]
  },
  {
   "cell_type": "code",
   "execution_count": 99,
   "metadata": {},
   "outputs": [],
   "source": [
    "# Set threshold to only include games which are owned by at least 200 users\n",
    "\n",
    "threshold = 200"
   ]
  },
  {
   "cell_type": "code",
   "execution_count": 103,
   "metadata": {
    "scrolled": true
   },
   "outputs": [],
   "source": [
    "# Set embedding size\n",
    "embedding_size = embeddings.shape[1]"
   ]
  },
  {
   "cell_type": "code",
   "execution_count": 104,
   "metadata": {},
   "outputs": [],
   "source": [
    "# Create instance\n",
    "kv = WordEmbeddingsKeyedVectors(embedding_size)"
   ]
  },
  {
   "cell_type": "code",
   "execution_count": 117,
   "metadata": {
    "scrolled": false
   },
   "outputs": [
    {
     "data": {
      "text/plain": [
       "['Counter-Strike',\n",
       " 'Team Fortress Classic',\n",
       " 'Day of Defeat',\n",
       " 'Deathmatch Classic',\n",
       " 'Half-Life: Opposing Force']"
      ]
     },
     "execution_count": 117,
     "metadata": {},
     "output_type": "execute_result"
    }
   ],
   "source": [
    "# Get list of game names in correct order to match embeddings\n",
    "\n",
    "gameslist = []\n",
    "for game_id in interactions.columns:\n",
    "    name = games_dict[game_id]\n",
    "    gameslist.append(name)\n",
    "    \n",
    "gameslist[:5]"
   ]
  },
  {
   "cell_type": "code",
   "execution_count": 118,
   "metadata": {},
   "outputs": [],
   "source": [
    "# Add to kv\n",
    "kv.add(gameslist, embeddings )"
   ]
  },
  {
   "cell_type": "code",
   "execution_count": 119,
   "metadata": {},
   "outputs": [
    {
     "data": {
      "text/plain": [
       "[('Counter-Strike: Condition Zero', 0.9947258234024048),\n",
       " ('Day of Defeat', 0.8795914649963379),\n",
       " ('Ricochet', 0.8772425651550293),\n",
       " ('Deathmatch Classic', 0.8760509490966797),\n",
       " ('Counter-Strike: Source', 0.7674432992935181),\n",
       " ('Team Fortress Classic', 0.7315292954444885),\n",
       " ('Day of Defeat: Source', 0.7312443852424622),\n",
       " ('Half-Life: Source', 0.7133708596229553),\n",
       " ('Half-Life: Blue Shift', 0.7080429196357727),\n",
       " ('Half-Life: Opposing Force', 0.7068089246749878)]"
      ]
     },
     "execution_count": 119,
     "metadata": {},
     "output_type": "execute_result"
    }
   ],
   "source": [
    "kv.most_similar('Counter-Strike')"
   ]
  },
  {
   "cell_type": "markdown",
   "metadata": {},
   "source": [
    "## User Recommendations"
   ]
  },
  {
   "cell_type": "markdown",
   "metadata": {},
   "source": [
    "### Recommendations for existing user"
   ]
  },
  {
   "cell_type": "code",
   "execution_count": 30,
   "metadata": {
    "scrolled": true
   },
   "outputs": [
    {
     "name": "stdout",
     "output_type": "stream",
     "text": [
      "Known Likes:\n",
      "1- Epic Battle Fantasy 3\n",
      "2- Paladins®\n",
      "3- Shakes and Fidget\n",
      "4- Tactical Craft Online\n",
      "5- Crusaders of the Lost Idols\n",
      "6- Time Clickers\n",
      "7- Dragon Saga\n",
      "8- Blender\n",
      "9- Clicker Heroes\n",
      "10- Spooky's Jump Scare Mansion\n",
      "11- Codename CURE\n",
      "12- Fire With Fire Tower Attack and Defense\n",
      "13- Modular Combat\n",
      "14- AdVenture Capitalist\n",
      "15- BrainBread 2\n",
      "16- Brick-Force\n",
      "17- Dirty Bomb®\n",
      "18- Five Nights at Freddy's 2\n",
      "19- TERA\n",
      "20- Don't Starve Together\n",
      "21- Double Action: Boogaloo\n",
      "22- The Way of Life Free Edition\n",
      "23- Unturned\n",
      "24- Trove\n",
      "25- BLOCKADE 3D\n",
      "26- Robocraft\n",
      "27- Block N Load\n",
      "28- Brawlhalla\n",
      "29- Warface\n",
      "30- Quake Live™\n",
      "31- Lambda Wars Beta\n",
      "32- Fistful of Frags\n",
      "33- GunZ 2: The Second Duel\n",
      "34- BattleBlock Theater®\n",
      "35- Dungeon Defenders II\n",
      "36- Warframe\n",
      "37- Sven Co-op\n",
      "38- Defiance\n",
      "39- No More Room in Hell\n",
      "40- PlanetSide 2\n",
      "41- Gear Up\n",
      "42- The Lord of the Rings Online™\n",
      "43- Blacklight: Retribution\n",
      "44- Gotham City Impostors Free to Play\n",
      "45- Everquest ®\n",
      "46- Castle Crashers®\n",
      "47- Orcs Must Die! 2\n",
      "48- Realm of the Mad God\n",
      "49- Fallen Earth Free2Play\n",
      "50- ORION: Prelude\n",
      "51- Super MNC\n",
      "52- Spiral Knights\n",
      "53- Dino D-Day\n",
      "54- Garry's Mod\n",
      "55- Counter-Strike: Global Offensive\n",
      "56- Counter-Strike: Source\n",
      "\n",
      " Recommended Items:\n",
      "1- The Expendabros\n",
      "2- Loadout\n",
      "3- Heroes &amp; Generals\n",
      "4- Relic Hunters Zero\n",
      "5- Terraria\n"
     ]
    }
   ],
   "source": [
    "# Get recommendations\n",
    "rec_list_u12 = get_recs(model = mf_model, \n",
    "                    interactions = interactions, \n",
    "                    user_id = 12, \n",
    "                    user_dict = user_dict,\n",
    "                    item_dict = games_dict, \n",
    "                    threshold = 0,\n",
    "                    num_items = 5,\n",
    "                    show_known = True, \n",
    "                    show_recs = True)"
   ]
  },
  {
   "cell_type": "code",
   "execution_count": null,
   "metadata": {},
   "outputs": [],
   "source": [
    "### Add comments - Expect additional CS game etc"
   ]
  },
  {
   "cell_type": "markdown",
   "metadata": {},
   "source": [
    "### Recommendations for new user"
   ]
  },
  {
   "cell_type": "code",
   "execution_count": 8,
   "metadata": {
    "scrolled": true
   },
   "outputs": [
    {
     "name": "stdout",
     "output_type": "stream",
     "text": [
      "Please enter the game id: 8\n",
      "Do you have more games to add? y/n n\n",
      "You own the following games: ['8']\n"
     ]
    }
   ],
   "source": [
    "# Get list of owned games from user\n",
    "\n",
    "# Create empty list to store game ids\n",
    "ownedgames = []\n",
    "\n",
    "# Create loop to prompt for game id and ask if want to continue\n",
    "moretoadd = 'y'\n",
    "while moretoadd == 'y':\n",
    "    game = input('Please enter the game id: ')\n",
    "    ownedgames.append(game)\n",
    "    moretoadd = input('Do you have more games to add? y/n ')\n",
    "    \n",
    "# Print list of owned games\n",
    "print(f\"You own the following games: {ownedgames}\")"
   ]
  },
  {
   "cell_type": "code",
   "execution_count": 15,
   "metadata": {
    "scrolled": false
   },
   "outputs": [
    {
     "data": {
      "text/html": [
       "<div>\n",
       "<style scoped>\n",
       "    .dataframe tbody tr th:only-of-type {\n",
       "        vertical-align: middle;\n",
       "    }\n",
       "\n",
       "    .dataframe tbody tr th {\n",
       "        vertical-align: top;\n",
       "    }\n",
       "\n",
       "    .dataframe thead th {\n",
       "        text-align: right;\n",
       "    }\n",
       "</style>\n",
       "<table border=\"1\" class=\"dataframe\">\n",
       "  <thead>\n",
       "    <tr style=\"text-align: right;\">\n",
       "      <th>id</th>\n",
       "      <th>10</th>\n",
       "      <th>20</th>\n",
       "      <th>30</th>\n",
       "      <th>40</th>\n",
       "      <th>50</th>\n",
       "      <th>60</th>\n",
       "      <th>70</th>\n",
       "      <th>80</th>\n",
       "      <th>130</th>\n",
       "      <th>220</th>\n",
       "      <th>...</th>\n",
       "      <th>526790</th>\n",
       "      <th>527340</th>\n",
       "      <th>527440</th>\n",
       "      <th>527510</th>\n",
       "      <th>527520</th>\n",
       "      <th>527810</th>\n",
       "      <th>527890</th>\n",
       "      <th>527900</th>\n",
       "      <th>528660</th>\n",
       "      <th>530720</th>\n",
       "    </tr>\n",
       "    <tr>\n",
       "      <th>uid</th>\n",
       "      <th></th>\n",
       "      <th></th>\n",
       "      <th></th>\n",
       "      <th></th>\n",
       "      <th></th>\n",
       "      <th></th>\n",
       "      <th></th>\n",
       "      <th></th>\n",
       "      <th></th>\n",
       "      <th></th>\n",
       "      <th></th>\n",
       "      <th></th>\n",
       "      <th></th>\n",
       "      <th></th>\n",
       "      <th></th>\n",
       "      <th></th>\n",
       "      <th></th>\n",
       "      <th></th>\n",
       "      <th></th>\n",
       "      <th></th>\n",
       "      <th></th>\n",
       "    </tr>\n",
       "  </thead>\n",
       "  <tbody>\n",
       "    <tr>\n",
       "      <td>88308</td>\n",
       "      <td>0.0</td>\n",
       "      <td>0.0</td>\n",
       "      <td>0.0</td>\n",
       "      <td>0.0</td>\n",
       "      <td>0.0</td>\n",
       "      <td>0.0</td>\n",
       "      <td>0.0</td>\n",
       "      <td>0.0</td>\n",
       "      <td>0.0</td>\n",
       "      <td>0.0</td>\n",
       "      <td>...</td>\n",
       "      <td>0.0</td>\n",
       "      <td>0.0</td>\n",
       "      <td>0.0</td>\n",
       "      <td>0.0</td>\n",
       "      <td>0.0</td>\n",
       "      <td>0.0</td>\n",
       "      <td>0.0</td>\n",
       "      <td>0.0</td>\n",
       "      <td>0.0</td>\n",
       "      <td>0.0</td>\n",
       "    </tr>\n",
       "  </tbody>\n",
       "</table>\n",
       "<p>1 rows × 8791 columns</p>\n",
       "</div>"
      ],
      "text/plain": [
       "id     10      20      30      40      50      60      70      80      130     \\\n",
       "uid                                                                             \n",
       "88308     0.0     0.0     0.0     0.0     0.0     0.0     0.0     0.0     0.0   \n",
       "\n",
       "id     220     ...  526790  527340  527440  527510  527520  527810  527890  \\\n",
       "uid            ...                                                           \n",
       "88308     0.0  ...     0.0     0.0     0.0     0.0     0.0     0.0     0.0   \n",
       "\n",
       "id     527900  528660  530720  \n",
       "uid                            \n",
       "88308     0.0     0.0     0.0  \n",
       "\n",
       "[1 rows x 8791 columns]"
      ]
     },
     "execution_count": 15,
     "metadata": {},
     "output_type": "execute_result"
    }
   ],
   "source": [
    "# View last entry in interactions matrix\n",
    "interactions[-1:]"
   ]
  },
  {
   "cell_type": "code",
   "execution_count": 16,
   "metadata": {
    "scrolled": true
   },
   "outputs": [
    {
     "data": {
      "text/plain": [
       "88309"
      ]
     },
     "execution_count": 16,
     "metadata": {},
     "output_type": "execute_result"
    }
   ],
   "source": [
    " # Get new user index\n",
    "newuidindex = interactions.index[-1]+1\n",
    "newuidindex"
   ]
  },
  {
   "cell_type": "code",
   "execution_count": 17,
   "metadata": {
    "scrolled": false
   },
   "outputs": [
    {
     "data": {
      "text/html": [
       "<div>\n",
       "<style scoped>\n",
       "    .dataframe tbody tr th:only-of-type {\n",
       "        vertical-align: middle;\n",
       "    }\n",
       "\n",
       "    .dataframe tbody tr th {\n",
       "        vertical-align: top;\n",
       "    }\n",
       "\n",
       "    .dataframe thead th {\n",
       "        text-align: right;\n",
       "    }\n",
       "</style>\n",
       "<table border=\"1\" class=\"dataframe\">\n",
       "  <thead>\n",
       "    <tr style=\"text-align: right;\">\n",
       "      <th>id</th>\n",
       "      <th>10</th>\n",
       "      <th>20</th>\n",
       "      <th>30</th>\n",
       "      <th>40</th>\n",
       "      <th>50</th>\n",
       "      <th>60</th>\n",
       "      <th>70</th>\n",
       "      <th>80</th>\n",
       "      <th>130</th>\n",
       "      <th>220</th>\n",
       "      <th>...</th>\n",
       "      <th>526790</th>\n",
       "      <th>527340</th>\n",
       "      <th>527440</th>\n",
       "      <th>527510</th>\n",
       "      <th>527520</th>\n",
       "      <th>527810</th>\n",
       "      <th>527890</th>\n",
       "      <th>527900</th>\n",
       "      <th>528660</th>\n",
       "      <th>530720</th>\n",
       "    </tr>\n",
       "    <tr>\n",
       "      <th>uid</th>\n",
       "      <th></th>\n",
       "      <th></th>\n",
       "      <th></th>\n",
       "      <th></th>\n",
       "      <th></th>\n",
       "      <th></th>\n",
       "      <th></th>\n",
       "      <th></th>\n",
       "      <th></th>\n",
       "      <th></th>\n",
       "      <th></th>\n",
       "      <th></th>\n",
       "      <th></th>\n",
       "      <th></th>\n",
       "      <th></th>\n",
       "      <th></th>\n",
       "      <th></th>\n",
       "      <th></th>\n",
       "      <th></th>\n",
       "      <th></th>\n",
       "      <th></th>\n",
       "    </tr>\n",
       "  </thead>\n",
       "  <tbody>\n",
       "    <tr>\n",
       "      <td>0</td>\n",
       "      <td>1.0</td>\n",
       "      <td>1.0</td>\n",
       "      <td>1.0</td>\n",
       "      <td>1.0</td>\n",
       "      <td>1.0</td>\n",
       "      <td>1.0</td>\n",
       "      <td>1.0</td>\n",
       "      <td>0.0</td>\n",
       "      <td>1.0</td>\n",
       "      <td>1.0</td>\n",
       "      <td>...</td>\n",
       "      <td>0.0</td>\n",
       "      <td>0.0</td>\n",
       "      <td>0.0</td>\n",
       "      <td>0.0</td>\n",
       "      <td>0.0</td>\n",
       "      <td>0.0</td>\n",
       "      <td>0.0</td>\n",
       "      <td>0.0</td>\n",
       "      <td>0.0</td>\n",
       "      <td>0.0</td>\n",
       "    </tr>\n",
       "    <tr>\n",
       "      <td>1</td>\n",
       "      <td>1.0</td>\n",
       "      <td>1.0</td>\n",
       "      <td>1.0</td>\n",
       "      <td>1.0</td>\n",
       "      <td>1.0</td>\n",
       "      <td>1.0</td>\n",
       "      <td>1.0</td>\n",
       "      <td>1.0</td>\n",
       "      <td>1.0</td>\n",
       "      <td>1.0</td>\n",
       "      <td>...</td>\n",
       "      <td>0.0</td>\n",
       "      <td>0.0</td>\n",
       "      <td>0.0</td>\n",
       "      <td>0.0</td>\n",
       "      <td>0.0</td>\n",
       "      <td>0.0</td>\n",
       "      <td>0.0</td>\n",
       "      <td>0.0</td>\n",
       "      <td>0.0</td>\n",
       "      <td>0.0</td>\n",
       "    </tr>\n",
       "    <tr>\n",
       "      <td>2</td>\n",
       "      <td>0.0</td>\n",
       "      <td>0.0</td>\n",
       "      <td>0.0</td>\n",
       "      <td>0.0</td>\n",
       "      <td>0.0</td>\n",
       "      <td>0.0</td>\n",
       "      <td>0.0</td>\n",
       "      <td>0.0</td>\n",
       "      <td>0.0</td>\n",
       "      <td>1.0</td>\n",
       "      <td>...</td>\n",
       "      <td>0.0</td>\n",
       "      <td>0.0</td>\n",
       "      <td>0.0</td>\n",
       "      <td>0.0</td>\n",
       "      <td>0.0</td>\n",
       "      <td>0.0</td>\n",
       "      <td>0.0</td>\n",
       "      <td>0.0</td>\n",
       "      <td>0.0</td>\n",
       "      <td>0.0</td>\n",
       "    </tr>\n",
       "    <tr>\n",
       "      <td>3</td>\n",
       "      <td>1.0</td>\n",
       "      <td>1.0</td>\n",
       "      <td>1.0</td>\n",
       "      <td>1.0</td>\n",
       "      <td>1.0</td>\n",
       "      <td>1.0</td>\n",
       "      <td>1.0</td>\n",
       "      <td>1.0</td>\n",
       "      <td>1.0</td>\n",
       "      <td>1.0</td>\n",
       "      <td>...</td>\n",
       "      <td>0.0</td>\n",
       "      <td>0.0</td>\n",
       "      <td>0.0</td>\n",
       "      <td>0.0</td>\n",
       "      <td>0.0</td>\n",
       "      <td>0.0</td>\n",
       "      <td>0.0</td>\n",
       "      <td>0.0</td>\n",
       "      <td>0.0</td>\n",
       "      <td>0.0</td>\n",
       "    </tr>\n",
       "    <tr>\n",
       "      <td>4</td>\n",
       "      <td>1.0</td>\n",
       "      <td>1.0</td>\n",
       "      <td>1.0</td>\n",
       "      <td>1.0</td>\n",
       "      <td>1.0</td>\n",
       "      <td>1.0</td>\n",
       "      <td>1.0</td>\n",
       "      <td>1.0</td>\n",
       "      <td>1.0</td>\n",
       "      <td>1.0</td>\n",
       "      <td>...</td>\n",
       "      <td>0.0</td>\n",
       "      <td>0.0</td>\n",
       "      <td>0.0</td>\n",
       "      <td>0.0</td>\n",
       "      <td>0.0</td>\n",
       "      <td>0.0</td>\n",
       "      <td>0.0</td>\n",
       "      <td>0.0</td>\n",
       "      <td>0.0</td>\n",
       "      <td>0.0</td>\n",
       "    </tr>\n",
       "    <tr>\n",
       "      <td>...</td>\n",
       "      <td>...</td>\n",
       "      <td>...</td>\n",
       "      <td>...</td>\n",
       "      <td>...</td>\n",
       "      <td>...</td>\n",
       "      <td>...</td>\n",
       "      <td>...</td>\n",
       "      <td>...</td>\n",
       "      <td>...</td>\n",
       "      <td>...</td>\n",
       "      <td>...</td>\n",
       "      <td>...</td>\n",
       "      <td>...</td>\n",
       "      <td>...</td>\n",
       "      <td>...</td>\n",
       "      <td>...</td>\n",
       "      <td>...</td>\n",
       "      <td>...</td>\n",
       "      <td>...</td>\n",
       "      <td>...</td>\n",
       "      <td>...</td>\n",
       "    </tr>\n",
       "    <tr>\n",
       "      <td>88304</td>\n",
       "      <td>0.0</td>\n",
       "      <td>0.0</td>\n",
       "      <td>0.0</td>\n",
       "      <td>0.0</td>\n",
       "      <td>0.0</td>\n",
       "      <td>0.0</td>\n",
       "      <td>0.0</td>\n",
       "      <td>0.0</td>\n",
       "      <td>0.0</td>\n",
       "      <td>0.0</td>\n",
       "      <td>...</td>\n",
       "      <td>0.0</td>\n",
       "      <td>0.0</td>\n",
       "      <td>0.0</td>\n",
       "      <td>0.0</td>\n",
       "      <td>0.0</td>\n",
       "      <td>0.0</td>\n",
       "      <td>0.0</td>\n",
       "      <td>0.0</td>\n",
       "      <td>0.0</td>\n",
       "      <td>0.0</td>\n",
       "    </tr>\n",
       "    <tr>\n",
       "      <td>88305</td>\n",
       "      <td>0.0</td>\n",
       "      <td>0.0</td>\n",
       "      <td>0.0</td>\n",
       "      <td>0.0</td>\n",
       "      <td>0.0</td>\n",
       "      <td>0.0</td>\n",
       "      <td>0.0</td>\n",
       "      <td>0.0</td>\n",
       "      <td>0.0</td>\n",
       "      <td>0.0</td>\n",
       "      <td>...</td>\n",
       "      <td>0.0</td>\n",
       "      <td>0.0</td>\n",
       "      <td>0.0</td>\n",
       "      <td>0.0</td>\n",
       "      <td>0.0</td>\n",
       "      <td>0.0</td>\n",
       "      <td>0.0</td>\n",
       "      <td>0.0</td>\n",
       "      <td>0.0</td>\n",
       "      <td>0.0</td>\n",
       "    </tr>\n",
       "    <tr>\n",
       "      <td>88306</td>\n",
       "      <td>0.0</td>\n",
       "      <td>0.0</td>\n",
       "      <td>0.0</td>\n",
       "      <td>0.0</td>\n",
       "      <td>0.0</td>\n",
       "      <td>0.0</td>\n",
       "      <td>0.0</td>\n",
       "      <td>0.0</td>\n",
       "      <td>0.0</td>\n",
       "      <td>0.0</td>\n",
       "      <td>...</td>\n",
       "      <td>0.0</td>\n",
       "      <td>0.0</td>\n",
       "      <td>0.0</td>\n",
       "      <td>0.0</td>\n",
       "      <td>0.0</td>\n",
       "      <td>0.0</td>\n",
       "      <td>0.0</td>\n",
       "      <td>0.0</td>\n",
       "      <td>0.0</td>\n",
       "      <td>0.0</td>\n",
       "    </tr>\n",
       "    <tr>\n",
       "      <td>88308</td>\n",
       "      <td>0.0</td>\n",
       "      <td>0.0</td>\n",
       "      <td>0.0</td>\n",
       "      <td>0.0</td>\n",
       "      <td>0.0</td>\n",
       "      <td>0.0</td>\n",
       "      <td>0.0</td>\n",
       "      <td>0.0</td>\n",
       "      <td>0.0</td>\n",
       "      <td>0.0</td>\n",
       "      <td>...</td>\n",
       "      <td>0.0</td>\n",
       "      <td>0.0</td>\n",
       "      <td>0.0</td>\n",
       "      <td>0.0</td>\n",
       "      <td>0.0</td>\n",
       "      <td>0.0</td>\n",
       "      <td>0.0</td>\n",
       "      <td>0.0</td>\n",
       "      <td>0.0</td>\n",
       "      <td>0.0</td>\n",
       "    </tr>\n",
       "    <tr>\n",
       "      <td>88309</td>\n",
       "      <td>0.0</td>\n",
       "      <td>0.0</td>\n",
       "      <td>0.0</td>\n",
       "      <td>0.0</td>\n",
       "      <td>0.0</td>\n",
       "      <td>0.0</td>\n",
       "      <td>0.0</td>\n",
       "      <td>0.0</td>\n",
       "      <td>0.0</td>\n",
       "      <td>0.0</td>\n",
       "      <td>...</td>\n",
       "      <td>0.0</td>\n",
       "      <td>0.0</td>\n",
       "      <td>0.0</td>\n",
       "      <td>0.0</td>\n",
       "      <td>0.0</td>\n",
       "      <td>0.0</td>\n",
       "      <td>0.0</td>\n",
       "      <td>0.0</td>\n",
       "      <td>0.0</td>\n",
       "      <td>0.0</td>\n",
       "    </tr>\n",
       "  </tbody>\n",
       "</table>\n",
       "<p>69278 rows × 8791 columns</p>\n",
       "</div>"
      ],
      "text/plain": [
       "id     10      20      30      40      50      60      70      80      130     \\\n",
       "uid                                                                             \n",
       "0         1.0     1.0     1.0     1.0     1.0     1.0     1.0     0.0     1.0   \n",
       "1         1.0     1.0     1.0     1.0     1.0     1.0     1.0     1.0     1.0   \n",
       "2         0.0     0.0     0.0     0.0     0.0     0.0     0.0     0.0     0.0   \n",
       "3         1.0     1.0     1.0     1.0     1.0     1.0     1.0     1.0     1.0   \n",
       "4         1.0     1.0     1.0     1.0     1.0     1.0     1.0     1.0     1.0   \n",
       "...       ...     ...     ...     ...     ...     ...     ...     ...     ...   \n",
       "88304     0.0     0.0     0.0     0.0     0.0     0.0     0.0     0.0     0.0   \n",
       "88305     0.0     0.0     0.0     0.0     0.0     0.0     0.0     0.0     0.0   \n",
       "88306     0.0     0.0     0.0     0.0     0.0     0.0     0.0     0.0     0.0   \n",
       "88308     0.0     0.0     0.0     0.0     0.0     0.0     0.0     0.0     0.0   \n",
       "88309     0.0     0.0     0.0     0.0     0.0     0.0     0.0     0.0     0.0   \n",
       "\n",
       "id     220     ...  526790  527340  527440  527510  527520  527810  527890  \\\n",
       "uid            ...                                                           \n",
       "0         1.0  ...     0.0     0.0     0.0     0.0     0.0     0.0     0.0   \n",
       "1         1.0  ...     0.0     0.0     0.0     0.0     0.0     0.0     0.0   \n",
       "2         1.0  ...     0.0     0.0     0.0     0.0     0.0     0.0     0.0   \n",
       "3         1.0  ...     0.0     0.0     0.0     0.0     0.0     0.0     0.0   \n",
       "4         1.0  ...     0.0     0.0     0.0     0.0     0.0     0.0     0.0   \n",
       "...       ...  ...     ...     ...     ...     ...     ...     ...     ...   \n",
       "88304     0.0  ...     0.0     0.0     0.0     0.0     0.0     0.0     0.0   \n",
       "88305     0.0  ...     0.0     0.0     0.0     0.0     0.0     0.0     0.0   \n",
       "88306     0.0  ...     0.0     0.0     0.0     0.0     0.0     0.0     0.0   \n",
       "88308     0.0  ...     0.0     0.0     0.0     0.0     0.0     0.0     0.0   \n",
       "88309     0.0  ...     0.0     0.0     0.0     0.0     0.0     0.0     0.0   \n",
       "\n",
       "id     527900  528660  530720  \n",
       "uid                            \n",
       "0         0.0     0.0     0.0  \n",
       "1         0.0     0.0     0.0  \n",
       "2         0.0     0.0     0.0  \n",
       "3         0.0     0.0     0.0  \n",
       "4         0.0     0.0     0.0  \n",
       "...       ...     ...     ...  \n",
       "88304     0.0     0.0     0.0  \n",
       "88305     0.0     0.0     0.0  \n",
       "88306     0.0     0.0     0.0  \n",
       "88308     0.0     0.0     0.0  \n",
       "88309     0.0     0.0     0.0  \n",
       "\n",
       "[69278 rows x 8791 columns]"
      ]
     },
     "execution_count": 17,
     "metadata": {},
     "output_type": "execute_result"
    }
   ],
   "source": [
    "# Add row for new user id with zeros\n",
    "interactions.loc[newuidindex] = 0\n",
    "interactions"
   ]
  },
  {
   "cell_type": "code",
   "execution_count": 21,
   "metadata": {},
   "outputs": [],
   "source": [
    "# Change value to 1 where user owns the game\n",
    "\n",
    "for gameid in ownedgames:\n",
    "    interactions.loc[newuidindex, gameid] = 1"
   ]
  },
  {
   "cell_type": "code",
   "execution_count": null,
   "metadata": {},
   "outputs": [],
   "source": [
    "# Recreate dictionaries\n",
    "user_dict = create_user_dict(interactions=interactions)\n",
    "games_dict = create_item_dict(df = games, id_col = 'id', name_col = 'title')"
   ]
  },
  {
   "cell_type": "code",
   "execution_count": null,
   "metadata": {},
   "outputs": [],
   "source": [
    "# Fit model\n",
    "mf_model = run_model(interactions = train,\n",
    "                     n_components = 30,\n",
    "                     loss = 'warp',\n",
    "                     epoch = 30,\n",
    "                     n_jobs = 4)"
   ]
  },
  {
   "cell_type": "code",
   "execution_count": null,
   "metadata": {},
   "outputs": [],
   "source": [
    "# Get recommendations\n",
    "rec_list = get_recs(model = mf_model, \n",
    "                    interactions = interactions, \n",
    "                    user_id = newuidindex, \n",
    "                    user_dict = user_dict,\n",
    "                    item_dict = games_dict, \n",
    "                    threshold = 0,\n",
    "                    num_items = 5,\n",
    "                    show_known = True, \n",
    "                    show_recs = True)"
   ]
  },
  {
   "cell_type": "markdown",
   "metadata": {},
   "source": [
    "## Item Recommendations"
   ]
  },
  {
   "cell_type": "markdown",
   "metadata": {},
   "source": [
    "### Create item embedding matrix"
   ]
  },
  {
   "cell_type": "code",
   "execution_count": 64,
   "metadata": {},
   "outputs": [],
   "source": [
    "item_dist = create_item_emdedding_matrix(model = mf_model,interactions = interactions)"
   ]
  },
  {
   "cell_type": "code",
   "execution_count": 66,
   "metadata": {},
   "outputs": [
    {
     "data": {
      "text/plain": [
       "(8791, 8791)"
      ]
     },
     "execution_count": 66,
     "metadata": {},
     "output_type": "execute_result"
    }
   ],
   "source": [
    "item_dist.shape"
   ]
  },
  {
   "cell_type": "code",
   "execution_count": 67,
   "metadata": {},
   "outputs": [
    {
     "data": {
      "text/html": [
       "<div>\n",
       "<style scoped>\n",
       "    .dataframe tbody tr th:only-of-type {\n",
       "        vertical-align: middle;\n",
       "    }\n",
       "\n",
       "    .dataframe tbody tr th {\n",
       "        vertical-align: top;\n",
       "    }\n",
       "\n",
       "    .dataframe thead th {\n",
       "        text-align: right;\n",
       "    }\n",
       "</style>\n",
       "<table border=\"1\" class=\"dataframe\">\n",
       "  <thead>\n",
       "    <tr style=\"text-align: right;\">\n",
       "      <th>id</th>\n",
       "      <th>10</th>\n",
       "      <th>20</th>\n",
       "      <th>30</th>\n",
       "      <th>40</th>\n",
       "      <th>50</th>\n",
       "      <th>60</th>\n",
       "      <th>70</th>\n",
       "      <th>80</th>\n",
       "      <th>130</th>\n",
       "      <th>220</th>\n",
       "      <th>...</th>\n",
       "      <th>526790</th>\n",
       "      <th>527340</th>\n",
       "      <th>527440</th>\n",
       "      <th>527510</th>\n",
       "      <th>527520</th>\n",
       "      <th>527810</th>\n",
       "      <th>527890</th>\n",
       "      <th>527900</th>\n",
       "      <th>528660</th>\n",
       "      <th>530720</th>\n",
       "    </tr>\n",
       "    <tr>\n",
       "      <th>id</th>\n",
       "      <th></th>\n",
       "      <th></th>\n",
       "      <th></th>\n",
       "      <th></th>\n",
       "      <th></th>\n",
       "      <th></th>\n",
       "      <th></th>\n",
       "      <th></th>\n",
       "      <th></th>\n",
       "      <th></th>\n",
       "      <th></th>\n",
       "      <th></th>\n",
       "      <th></th>\n",
       "      <th></th>\n",
       "      <th></th>\n",
       "      <th></th>\n",
       "      <th></th>\n",
       "      <th></th>\n",
       "      <th></th>\n",
       "      <th></th>\n",
       "      <th></th>\n",
       "    </tr>\n",
       "  </thead>\n",
       "  <tbody>\n",
       "    <tr>\n",
       "      <td>10</td>\n",
       "      <td>1.000000</td>\n",
       "      <td>0.703092</td>\n",
       "      <td>0.867419</td>\n",
       "      <td>0.871559</td>\n",
       "      <td>0.684434</td>\n",
       "      <td>0.869805</td>\n",
       "      <td>0.683555</td>\n",
       "      <td>0.993782</td>\n",
       "      <td>0.683072</td>\n",
       "      <td>0.510813</td>\n",
       "      <td>...</td>\n",
       "      <td>0.041585</td>\n",
       "      <td>0.070690</td>\n",
       "      <td>-0.076905</td>\n",
       "      <td>-0.086024</td>\n",
       "      <td>0.070537</td>\n",
       "      <td>0.008223</td>\n",
       "      <td>-0.148230</td>\n",
       "      <td>-0.115156</td>\n",
       "      <td>0.014385</td>\n",
       "      <td>-0.056317</td>\n",
       "    </tr>\n",
       "    <tr>\n",
       "      <td>20</td>\n",
       "      <td>0.703092</td>\n",
       "      <td>1.000000</td>\n",
       "      <td>0.845572</td>\n",
       "      <td>0.843557</td>\n",
       "      <td>0.997379</td>\n",
       "      <td>0.839401</td>\n",
       "      <td>0.986706</td>\n",
       "      <td>0.663473</td>\n",
       "      <td>0.997265</td>\n",
       "      <td>0.847267</td>\n",
       "      <td>...</td>\n",
       "      <td>-0.166892</td>\n",
       "      <td>-0.104024</td>\n",
       "      <td>-0.078415</td>\n",
       "      <td>-0.054945</td>\n",
       "      <td>-0.042555</td>\n",
       "      <td>-0.072952</td>\n",
       "      <td>-0.243327</td>\n",
       "      <td>-0.226339</td>\n",
       "      <td>-0.004695</td>\n",
       "      <td>-0.075152</td>\n",
       "    </tr>\n",
       "    <tr>\n",
       "      <td>30</td>\n",
       "      <td>0.867419</td>\n",
       "      <td>0.845572</td>\n",
       "      <td>1.000000</td>\n",
       "      <td>0.996962</td>\n",
       "      <td>0.839656</td>\n",
       "      <td>0.996300</td>\n",
       "      <td>0.812246</td>\n",
       "      <td>0.819267</td>\n",
       "      <td>0.840940</td>\n",
       "      <td>0.617789</td>\n",
       "      <td>...</td>\n",
       "      <td>0.057061</td>\n",
       "      <td>-0.125987</td>\n",
       "      <td>0.019689</td>\n",
       "      <td>-0.035818</td>\n",
       "      <td>0.096059</td>\n",
       "      <td>0.076818</td>\n",
       "      <td>-0.079370</td>\n",
       "      <td>-0.075650</td>\n",
       "      <td>0.087320</td>\n",
       "      <td>0.050368</td>\n",
       "    </tr>\n",
       "    <tr>\n",
       "      <td>40</td>\n",
       "      <td>0.871559</td>\n",
       "      <td>0.843557</td>\n",
       "      <td>0.996962</td>\n",
       "      <td>1.000000</td>\n",
       "      <td>0.838675</td>\n",
       "      <td>0.999104</td>\n",
       "      <td>0.810467</td>\n",
       "      <td>0.822601</td>\n",
       "      <td>0.839866</td>\n",
       "      <td>0.608376</td>\n",
       "      <td>...</td>\n",
       "      <td>0.067647</td>\n",
       "      <td>-0.125478</td>\n",
       "      <td>0.008246</td>\n",
       "      <td>-0.021051</td>\n",
       "      <td>0.112209</td>\n",
       "      <td>0.093214</td>\n",
       "      <td>-0.075856</td>\n",
       "      <td>-0.070456</td>\n",
       "      <td>0.091169</td>\n",
       "      <td>0.053585</td>\n",
       "    </tr>\n",
       "    <tr>\n",
       "      <td>50</td>\n",
       "      <td>0.684434</td>\n",
       "      <td>0.997379</td>\n",
       "      <td>0.839656</td>\n",
       "      <td>0.838675</td>\n",
       "      <td>1.000000</td>\n",
       "      <td>0.834340</td>\n",
       "      <td>0.989329</td>\n",
       "      <td>0.641949</td>\n",
       "      <td>0.999489</td>\n",
       "      <td>0.859258</td>\n",
       "      <td>...</td>\n",
       "      <td>-0.184936</td>\n",
       "      <td>-0.122161</td>\n",
       "      <td>-0.089101</td>\n",
       "      <td>-0.062516</td>\n",
       "      <td>-0.046453</td>\n",
       "      <td>-0.075597</td>\n",
       "      <td>-0.248418</td>\n",
       "      <td>-0.238196</td>\n",
       "      <td>-0.020810</td>\n",
       "      <td>-0.079319</td>\n",
       "    </tr>\n",
       "  </tbody>\n",
       "</table>\n",
       "<p>5 rows × 8791 columns</p>\n",
       "</div>"
      ],
      "text/plain": [
       "id    10        20        30        40        50        60        70      \\\n",
       "id                                                                         \n",
       "10  1.000000  0.703092  0.867419  0.871559  0.684434  0.869805  0.683555   \n",
       "20  0.703092  1.000000  0.845572  0.843557  0.997379  0.839401  0.986706   \n",
       "30  0.867419  0.845572  1.000000  0.996962  0.839656  0.996300  0.812246   \n",
       "40  0.871559  0.843557  0.996962  1.000000  0.838675  0.999104  0.810467   \n",
       "50  0.684434  0.997379  0.839656  0.838675  1.000000  0.834340  0.989329   \n",
       "\n",
       "id    80        130       220     ...    526790    527340    527440    527510  \\\n",
       "id                                ...                                           \n",
       "10  0.993782  0.683072  0.510813  ...  0.041585  0.070690 -0.076905 -0.086024   \n",
       "20  0.663473  0.997265  0.847267  ... -0.166892 -0.104024 -0.078415 -0.054945   \n",
       "30  0.819267  0.840940  0.617789  ...  0.057061 -0.125987  0.019689 -0.035818   \n",
       "40  0.822601  0.839866  0.608376  ...  0.067647 -0.125478  0.008246 -0.021051   \n",
       "50  0.641949  0.999489  0.859258  ... -0.184936 -0.122161 -0.089101 -0.062516   \n",
       "\n",
       "id    527520    527810    527890    527900    528660    530720  \n",
       "id                                                              \n",
       "10  0.070537  0.008223 -0.148230 -0.115156  0.014385 -0.056317  \n",
       "20 -0.042555 -0.072952 -0.243327 -0.226339 -0.004695 -0.075152  \n",
       "30  0.096059  0.076818 -0.079370 -0.075650  0.087320  0.050368  \n",
       "40  0.112209  0.093214 -0.075856 -0.070456  0.091169  0.053585  \n",
       "50 -0.046453 -0.075597 -0.248418 -0.238196 -0.020810 -0.079319  \n",
       "\n",
       "[5 rows x 8791 columns]"
      ]
     },
     "execution_count": 67,
     "metadata": {},
     "output_type": "execute_result"
    }
   ],
   "source": [
    "item_dist.head()"
   ]
  },
  {
   "cell_type": "markdown",
   "metadata": {},
   "source": [
    "### Generate item recommendations"
   ]
  },
  {
   "cell_type": "code",
   "execution_count": 70,
   "metadata": {},
   "outputs": [
    {
     "name": "stdout",
     "output_type": "stream",
     "text": [
      "Item of interest: Counter-Strike\n",
      "Similar items:\n",
      "1- Counter-Strike: Condition Zero\n",
      "2- Deathmatch Classic\n",
      "3- Ricochet\n",
      "4- Day of Defeat\n",
      "5- Counter-Strike: Source\n",
      "6- Team Fortress Classic\n",
      "7- Day of Defeat: Source\n",
      "8- Half-Life: Opposing Force\n",
      "9- Half-Life\n",
      "10- Half-Life: Blue Shift\n"
     ]
    }
   ],
   "source": [
    "# Similar items to item_id 10 - Counter Strike\n",
    "item_rec_list_10 = get_item_recs(item_emdedding_matrix = item_dist, \n",
    "                              item_id = 10, \n",
    "                              item_dict = games_dict, \n",
    "                              n_items = 10, \n",
    "                              show = True)"
   ]
  },
  {
   "cell_type": "code",
   "execution_count": 71,
   "metadata": {},
   "outputs": [
    {
     "data": {
      "text/html": [
       "<div>\n",
       "<style scoped>\n",
       "    .dataframe tbody tr th:only-of-type {\n",
       "        vertical-align: middle;\n",
       "    }\n",
       "\n",
       "    .dataframe tbody tr th {\n",
       "        vertical-align: top;\n",
       "    }\n",
       "\n",
       "    .dataframe thead th {\n",
       "        text-align: right;\n",
       "    }\n",
       "</style>\n",
       "<table border=\"1\" class=\"dataframe\">\n",
       "  <thead>\n",
       "    <tr style=\"text-align: right;\">\n",
       "      <th></th>\n",
       "      <th>title</th>\n",
       "      <th>id</th>\n",
       "    </tr>\n",
       "  </thead>\n",
       "  <tbody>\n",
       "    <tr>\n",
       "      <td>5211</td>\n",
       "      <td>The Witness</td>\n",
       "      <td>210970.0</td>\n",
       "    </tr>\n",
       "  </tbody>\n",
       "</table>\n",
       "</div>"
      ],
      "text/plain": [
       "            title        id\n",
       "5211  The Witness  210970.0"
      ]
     },
     "execution_count": 71,
     "metadata": {},
     "output_type": "execute_result"
    }
   ],
   "source": [
    "games[games['title'] == 'The Witness']"
   ]
  },
  {
   "cell_type": "code",
   "execution_count": 72,
   "metadata": {},
   "outputs": [
    {
     "name": "stdout",
     "output_type": "stream",
     "text": [
      "Item of interest: The Witness\n",
      "Similar items:\n",
      "1- Headlander\n",
      "2- ABZU\n",
      "3- SUPERHOT\n",
      "4- Assault Android Cactus\n",
      "5- Oxenfree\n",
      "6- Quadrilateral Cowboy\n",
      "7- Poly Bridge\n",
      "8- The Guest\n",
      "9- Firewatch\n",
      "10- Grow Up\n"
     ]
    }
   ],
   "source": [
    "# Similar items to item_id 210970 The Witness\n",
    "item_rec_list = get_item_recs(item_emdedding_matrix = item_dist, \n",
    "                              item_id = 210970, \n",
    "                              item_dict = games_dict, \n",
    "                              n_items = 10, \n",
    "                              show = True)"
   ]
  },
  {
   "cell_type": "code",
   "execution_count": 78,
   "metadata": {},
   "outputs": [
    {
     "data": {
      "text/html": [
       "<div>\n",
       "<style scoped>\n",
       "    .dataframe tbody tr th:only-of-type {\n",
       "        vertical-align: middle;\n",
       "    }\n",
       "\n",
       "    .dataframe tbody tr th {\n",
       "        vertical-align: top;\n",
       "    }\n",
       "\n",
       "    .dataframe thead th {\n",
       "        text-align: right;\n",
       "    }\n",
       "</style>\n",
       "<table border=\"1\" class=\"dataframe\">\n",
       "  <thead>\n",
       "    <tr style=\"text-align: right;\">\n",
       "      <th></th>\n",
       "      <th>publisher</th>\n",
       "      <th>genres</th>\n",
       "      <th>app_name</th>\n",
       "      <th>title</th>\n",
       "      <th>url</th>\n",
       "      <th>release_date</th>\n",
       "      <th>tags</th>\n",
       "      <th>discount_price</th>\n",
       "      <th>reviews_url</th>\n",
       "      <th>specs</th>\n",
       "      <th>price</th>\n",
       "      <th>early_access</th>\n",
       "      <th>id</th>\n",
       "      <th>developer</th>\n",
       "      <th>sentiment</th>\n",
       "      <th>metascore</th>\n",
       "    </tr>\n",
       "  </thead>\n",
       "  <tbody>\n",
       "    <tr>\n",
       "      <td>1550</td>\n",
       "      <td>Witch Beam</td>\n",
       "      <td>['Action', 'Indie']</td>\n",
       "      <td>Assault Android Cactus</td>\n",
       "      <td>Assault Android Cactus</td>\n",
       "      <td>http://store.steampowered.com/app/250110/Assau...</td>\n",
       "      <td>2015-09-23</td>\n",
       "      <td>['Twin Stick Shooter', 'Indie', 'Action', 'Bul...</td>\n",
       "      <td>NaN</td>\n",
       "      <td>http://steamcommunity.com/app/250110/reviews/?...</td>\n",
       "      <td>['Single-player', 'Shared/Split Screen', 'Stea...</td>\n",
       "      <td>14.99</td>\n",
       "      <td>False</td>\n",
       "      <td>250110.0</td>\n",
       "      <td>Witch Beam</td>\n",
       "      <td>Overwhelmingly Positive</td>\n",
       "      <td>79.0</td>\n",
       "    </tr>\n",
       "    <tr>\n",
       "      <td>5143</td>\n",
       "      <td>Night School Studio</td>\n",
       "      <td>['Adventure', 'Indie']</td>\n",
       "      <td>Oxenfree</td>\n",
       "      <td>Oxenfree</td>\n",
       "      <td>http://store.steampowered.com/app/388880/Oxenf...</td>\n",
       "      <td>2016-01-14</td>\n",
       "      <td>['Story Rich', 'Choices Matter', 'Supernatural...</td>\n",
       "      <td>NaN</td>\n",
       "      <td>http://steamcommunity.com/app/388880/reviews/?...</td>\n",
       "      <td>['Single-player', 'Steam Achievements', 'Full ...</td>\n",
       "      <td>19.99</td>\n",
       "      <td>False</td>\n",
       "      <td>388880.0</td>\n",
       "      <td>Night School Studio</td>\n",
       "      <td>Very Positive</td>\n",
       "      <td>80.0</td>\n",
       "    </tr>\n",
       "    <tr>\n",
       "      <td>5500</td>\n",
       "      <td>SUPERHOT Team</td>\n",
       "      <td>['Action', 'Indie']</td>\n",
       "      <td>SUPERHOT</td>\n",
       "      <td>SUPERHOT</td>\n",
       "      <td>http://store.steampowered.com/app/322500/SUPER...</td>\n",
       "      <td>2016-02-25</td>\n",
       "      <td>['FPS', 'Action', 'Bullet Time', 'First-Person...</td>\n",
       "      <td>NaN</td>\n",
       "      <td>http://steamcommunity.com/app/322500/reviews/?...</td>\n",
       "      <td>['Single-player', 'Steam Achievements', 'Full ...</td>\n",
       "      <td>24.99</td>\n",
       "      <td>False</td>\n",
       "      <td>322500.0</td>\n",
       "      <td>SUPERHOT Team</td>\n",
       "      <td>Very Positive</td>\n",
       "      <td>82.0</td>\n",
       "    </tr>\n",
       "    <tr>\n",
       "      <td>5513</td>\n",
       "      <td>505 Games</td>\n",
       "      <td>['Adventure', 'Indie']</td>\n",
       "      <td>The Guest</td>\n",
       "      <td>The Guest</td>\n",
       "      <td>http://store.steampowered.com/app/402040/The_G...</td>\n",
       "      <td>2016-03-10</td>\n",
       "      <td>['Indie', 'Adventure', 'Puzzle', 'Atmospheric'...</td>\n",
       "      <td>NaN</td>\n",
       "      <td>http://steamcommunity.com/app/402040/reviews/?...</td>\n",
       "      <td>['Single-player', 'Steam Achievements', 'Full ...</td>\n",
       "      <td>9.99</td>\n",
       "      <td>False</td>\n",
       "      <td>402040.0</td>\n",
       "      <td>Team Gotham</td>\n",
       "      <td>Mostly Positive</td>\n",
       "      <td>68.0</td>\n",
       "    </tr>\n",
       "    <tr>\n",
       "      <td>6783</td>\n",
       "      <td>Adult Swim Games</td>\n",
       "      <td>['Action']</td>\n",
       "      <td>Headlander</td>\n",
       "      <td>Headlander</td>\n",
       "      <td>http://store.steampowered.com/app/340000/Headl...</td>\n",
       "      <td>2016-07-25</td>\n",
       "      <td>['Action', 'Sci-fi', 'Metroidvania', 'Platform...</td>\n",
       "      <td>NaN</td>\n",
       "      <td>http://steamcommunity.com/app/340000/reviews/?...</td>\n",
       "      <td>['Single-player', 'Steam Achievements', 'Full ...</td>\n",
       "      <td>19.99</td>\n",
       "      <td>False</td>\n",
       "      <td>340000.0</td>\n",
       "      <td>Double Fine Productions</td>\n",
       "      <td>Very Positive</td>\n",
       "      <td>74.0</td>\n",
       "    </tr>\n",
       "    <tr>\n",
       "      <td>6976</td>\n",
       "      <td>Ubisoft</td>\n",
       "      <td>['Adventure', 'Casual', 'Indie']</td>\n",
       "      <td>Grow Up</td>\n",
       "      <td>Grow Up</td>\n",
       "      <td>http://store.steampowered.com/app/426790/Grow_Up/</td>\n",
       "      <td>2016-08-16</td>\n",
       "      <td>['Adventure', 'Casual', 'Indie', 'Open World',...</td>\n",
       "      <td>NaN</td>\n",
       "      <td>http://steamcommunity.com/app/426790/reviews/?...</td>\n",
       "      <td>['Single-player', 'Steam Achievements', 'Full ...</td>\n",
       "      <td>9.99</td>\n",
       "      <td>False</td>\n",
       "      <td>426790.0</td>\n",
       "      <td>Reflections, a Ubisoft Studio</td>\n",
       "      <td>Very Positive</td>\n",
       "      <td>71.0</td>\n",
       "    </tr>\n",
       "    <tr>\n",
       "      <td>22123</td>\n",
       "      <td>505 Games</td>\n",
       "      <td>['Action', 'Adventure', 'Casual', 'Indie', 'Si...</td>\n",
       "      <td>ABZU</td>\n",
       "      <td>ABZU</td>\n",
       "      <td>http://store.steampowered.com/app/384190/ABZU/</td>\n",
       "      <td>2016-08-02</td>\n",
       "      <td>['Relaxing', 'Atmospheric', 'Underwater', 'Gre...</td>\n",
       "      <td>NaN</td>\n",
       "      <td>http://steamcommunity.com/app/384190/reviews/?...</td>\n",
       "      <td>['Single-player', 'Steam Achievements', 'Full ...</td>\n",
       "      <td>19.99</td>\n",
       "      <td>False</td>\n",
       "      <td>384190.0</td>\n",
       "      <td>Giant Squid</td>\n",
       "      <td>Very Positive</td>\n",
       "      <td>83.0</td>\n",
       "    </tr>\n",
       "    <tr>\n",
       "      <td>22244</td>\n",
       "      <td>Blendo Games</td>\n",
       "      <td>['Action', 'Adventure', 'Indie']</td>\n",
       "      <td>Quadrilateral Cowboy</td>\n",
       "      <td>Quadrilateral Cowboy</td>\n",
       "      <td>http://store.steampowered.com/app/240440/Quadr...</td>\n",
       "      <td>2016-07-25</td>\n",
       "      <td>['Indie', 'Adventure', 'Action', 'Hacking', 'C...</td>\n",
       "      <td>NaN</td>\n",
       "      <td>http://steamcommunity.com/app/240440/reviews/?...</td>\n",
       "      <td>['Single-player', 'Steam Achievements', 'Steam...</td>\n",
       "      <td>19.99</td>\n",
       "      <td>False</td>\n",
       "      <td>240440.0</td>\n",
       "      <td>Blendo Games</td>\n",
       "      <td>Very Positive</td>\n",
       "      <td>81.0</td>\n",
       "    </tr>\n",
       "    <tr>\n",
       "      <td>22364</td>\n",
       "      <td>Dry Cactus</td>\n",
       "      <td>['Indie', 'Simulation']</td>\n",
       "      <td>Poly Bridge</td>\n",
       "      <td>Poly Bridge</td>\n",
       "      <td>http://store.steampowered.com/app/367450/Poly_...</td>\n",
       "      <td>2016-07-12</td>\n",
       "      <td>['Building', 'Simulation', 'Physics', 'Puzzle'...</td>\n",
       "      <td>NaN</td>\n",
       "      <td>http://steamcommunity.com/app/367450/reviews/?...</td>\n",
       "      <td>['Single-player', 'Steam Achievements', 'Steam...</td>\n",
       "      <td>11.99</td>\n",
       "      <td>False</td>\n",
       "      <td>367450.0</td>\n",
       "      <td>Dry Cactus</td>\n",
       "      <td>Very Positive</td>\n",
       "      <td>73.0</td>\n",
       "    </tr>\n",
       "    <tr>\n",
       "      <td>24216</td>\n",
       "      <td>Panic Inc., Campo Santo</td>\n",
       "      <td>['Adventure', 'Indie']</td>\n",
       "      <td>Firewatch</td>\n",
       "      <td>Firewatch</td>\n",
       "      <td>http://store.steampowered.com/app/383870/Firew...</td>\n",
       "      <td>2016-02-09</td>\n",
       "      <td>['Atmospheric', 'Adventure', 'Walking Simulato...</td>\n",
       "      <td>NaN</td>\n",
       "      <td>http://steamcommunity.com/app/383870/reviews/?...</td>\n",
       "      <td>['Single-player', 'Steam Achievements', 'Full ...</td>\n",
       "      <td>19.99</td>\n",
       "      <td>False</td>\n",
       "      <td>383870.0</td>\n",
       "      <td>Campo Santo</td>\n",
       "      <td>Very Positive</td>\n",
       "      <td>81.0</td>\n",
       "    </tr>\n",
       "  </tbody>\n",
       "</table>\n",
       "</div>"
      ],
      "text/plain": [
       "                     publisher  \\\n",
       "1550                Witch Beam   \n",
       "5143       Night School Studio   \n",
       "5500             SUPERHOT Team   \n",
       "5513                 505 Games   \n",
       "6783          Adult Swim Games   \n",
       "6976                   Ubisoft   \n",
       "22123                505 Games   \n",
       "22244             Blendo Games   \n",
       "22364               Dry Cactus   \n",
       "24216  Panic Inc., Campo Santo   \n",
       "\n",
       "                                                  genres  \\\n",
       "1550                                 ['Action', 'Indie']   \n",
       "5143                              ['Adventure', 'Indie']   \n",
       "5500                                 ['Action', 'Indie']   \n",
       "5513                              ['Adventure', 'Indie']   \n",
       "6783                                          ['Action']   \n",
       "6976                    ['Adventure', 'Casual', 'Indie']   \n",
       "22123  ['Action', 'Adventure', 'Casual', 'Indie', 'Si...   \n",
       "22244                   ['Action', 'Adventure', 'Indie']   \n",
       "22364                            ['Indie', 'Simulation']   \n",
       "24216                             ['Adventure', 'Indie']   \n",
       "\n",
       "                     app_name                   title  \\\n",
       "1550   Assault Android Cactus  Assault Android Cactus   \n",
       "5143                 Oxenfree                Oxenfree   \n",
       "5500                 SUPERHOT                SUPERHOT   \n",
       "5513                The Guest               The Guest   \n",
       "6783               Headlander              Headlander   \n",
       "6976                  Grow Up                 Grow Up   \n",
       "22123                    ABZU                    ABZU   \n",
       "22244    Quadrilateral Cowboy    Quadrilateral Cowboy   \n",
       "22364             Poly Bridge             Poly Bridge   \n",
       "24216               Firewatch               Firewatch   \n",
       "\n",
       "                                                     url release_date  \\\n",
       "1550   http://store.steampowered.com/app/250110/Assau...   2015-09-23   \n",
       "5143   http://store.steampowered.com/app/388880/Oxenf...   2016-01-14   \n",
       "5500   http://store.steampowered.com/app/322500/SUPER...   2016-02-25   \n",
       "5513   http://store.steampowered.com/app/402040/The_G...   2016-03-10   \n",
       "6783   http://store.steampowered.com/app/340000/Headl...   2016-07-25   \n",
       "6976   http://store.steampowered.com/app/426790/Grow_Up/   2016-08-16   \n",
       "22123     http://store.steampowered.com/app/384190/ABZU/   2016-08-02   \n",
       "22244  http://store.steampowered.com/app/240440/Quadr...   2016-07-25   \n",
       "22364  http://store.steampowered.com/app/367450/Poly_...   2016-07-12   \n",
       "24216  http://store.steampowered.com/app/383870/Firew...   2016-02-09   \n",
       "\n",
       "                                                    tags  discount_price  \\\n",
       "1550   ['Twin Stick Shooter', 'Indie', 'Action', 'Bul...             NaN   \n",
       "5143   ['Story Rich', 'Choices Matter', 'Supernatural...             NaN   \n",
       "5500   ['FPS', 'Action', 'Bullet Time', 'First-Person...             NaN   \n",
       "5513   ['Indie', 'Adventure', 'Puzzle', 'Atmospheric'...             NaN   \n",
       "6783   ['Action', 'Sci-fi', 'Metroidvania', 'Platform...             NaN   \n",
       "6976   ['Adventure', 'Casual', 'Indie', 'Open World',...             NaN   \n",
       "22123  ['Relaxing', 'Atmospheric', 'Underwater', 'Gre...             NaN   \n",
       "22244  ['Indie', 'Adventure', 'Action', 'Hacking', 'C...             NaN   \n",
       "22364  ['Building', 'Simulation', 'Physics', 'Puzzle'...             NaN   \n",
       "24216  ['Atmospheric', 'Adventure', 'Walking Simulato...             NaN   \n",
       "\n",
       "                                             reviews_url  \\\n",
       "1550   http://steamcommunity.com/app/250110/reviews/?...   \n",
       "5143   http://steamcommunity.com/app/388880/reviews/?...   \n",
       "5500   http://steamcommunity.com/app/322500/reviews/?...   \n",
       "5513   http://steamcommunity.com/app/402040/reviews/?...   \n",
       "6783   http://steamcommunity.com/app/340000/reviews/?...   \n",
       "6976   http://steamcommunity.com/app/426790/reviews/?...   \n",
       "22123  http://steamcommunity.com/app/384190/reviews/?...   \n",
       "22244  http://steamcommunity.com/app/240440/reviews/?...   \n",
       "22364  http://steamcommunity.com/app/367450/reviews/?...   \n",
       "24216  http://steamcommunity.com/app/383870/reviews/?...   \n",
       "\n",
       "                                                   specs  price  early_access  \\\n",
       "1550   ['Single-player', 'Shared/Split Screen', 'Stea...  14.99         False   \n",
       "5143   ['Single-player', 'Steam Achievements', 'Full ...  19.99         False   \n",
       "5500   ['Single-player', 'Steam Achievements', 'Full ...  24.99         False   \n",
       "5513   ['Single-player', 'Steam Achievements', 'Full ...   9.99         False   \n",
       "6783   ['Single-player', 'Steam Achievements', 'Full ...  19.99         False   \n",
       "6976   ['Single-player', 'Steam Achievements', 'Full ...   9.99         False   \n",
       "22123  ['Single-player', 'Steam Achievements', 'Full ...  19.99         False   \n",
       "22244  ['Single-player', 'Steam Achievements', 'Steam...  19.99         False   \n",
       "22364  ['Single-player', 'Steam Achievements', 'Steam...  11.99         False   \n",
       "24216  ['Single-player', 'Steam Achievements', 'Full ...  19.99         False   \n",
       "\n",
       "             id                      developer                sentiment  \\\n",
       "1550   250110.0                     Witch Beam  Overwhelmingly Positive   \n",
       "5143   388880.0            Night School Studio            Very Positive   \n",
       "5500   322500.0                  SUPERHOT Team            Very Positive   \n",
       "5513   402040.0                    Team Gotham          Mostly Positive   \n",
       "6783   340000.0        Double Fine Productions            Very Positive   \n",
       "6976   426790.0  Reflections, a Ubisoft Studio            Very Positive   \n",
       "22123  384190.0                    Giant Squid            Very Positive   \n",
       "22244  240440.0                   Blendo Games            Very Positive   \n",
       "22364  367450.0                     Dry Cactus            Very Positive   \n",
       "24216  383870.0                    Campo Santo            Very Positive   \n",
       "\n",
       "       metascore  \n",
       "1550        79.0  \n",
       "5143        80.0  \n",
       "5500        82.0  \n",
       "5513        68.0  \n",
       "6783        74.0  \n",
       "6976        71.0  \n",
       "22123       83.0  \n",
       "22244       81.0  \n",
       "22364       73.0  \n",
       "24216       81.0  "
      ]
     },
     "execution_count": 78,
     "metadata": {},
     "output_type": "execute_result"
    }
   ],
   "source": [
    "gamesdata = pd.read_csv('gamesdata.csv', index_col = 0)\n",
    "gamesdata[gamesdata['id'].isin(item_rec_list)]"
   ]
  },
  {
   "cell_type": "code",
   "execution_count": null,
   "metadata": {},
   "outputs": [],
   "source": []
  }
 ],
 "metadata": {
  "kernelspec": {
   "display_name": "Python 3",
   "language": "python",
   "name": "python3"
  },
  "language_info": {
   "codemirror_mode": {
    "name": "ipython",
    "version": 3
   },
   "file_extension": ".py",
   "mimetype": "text/x-python",
   "name": "python",
   "nbconvert_exporter": "python",
   "pygments_lexer": "ipython3",
   "version": "3.6.9"
  },
  "toc": {
   "base_numbering": 1,
   "nav_menu": {},
   "number_sections": true,
   "sideBar": true,
   "skip_h1_title": true,
   "title_cell": "Table of Contents",
   "title_sidebar": "Contents",
   "toc_cell": false,
   "toc_position": {},
   "toc_section_display": true,
   "toc_window_display": true
  }
 },
 "nbformat": 4,
 "nbformat_minor": 2
}
